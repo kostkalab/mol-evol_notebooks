{
  "nbformat": 4,
  "nbformat_minor": 0,
  "metadata": {
    "colab": {
      "provenance": [],
      "authorship_tag": "ABX9TyMguRsEMI8VmMCCFsxWpaAO",
      "include_colab_link": true
    },
    "kernelspec": {
      "name": "ir",
      "display_name": "R"
    },
    "language_info": {
      "name": "R"
    }
  },
  "cells": [
    {
      "cell_type": "markdown",
      "metadata": {
        "id": "view-in-github",
        "colab_type": "text"
      },
      "source": [
        "<a href=\"https://colab.research.google.com/github/kostkalab/mol-evol_notebooks/blob/main/lecture_mol_evol_03_13_2023.ipynb\" target=\"_parent\"><img src=\"https://colab.research.google.com/assets/colab-badge.svg\" alt=\"Open In Colab\"/></a>"
      ]
    },
    {
      "cell_type": "markdown",
      "source": [
        "## Transition matrix\n",
        "Here we look at a sequence of nucleotides (say `ACGTACTTA`) describe \"transitions\" to an alternative sequence (say `ACGTACAAA`). In our approach we will consider each nucleotide independently of its neighbors. Then the question becomes for each nucleotide, what is the probabillity to \"transition\" into any of the three other nucleotides (or stay the same). This can be quantified by a $4\\times4$ **transition matrix** generally denoted by $P$.\n",
        "\n",
        "$P_{ij} = \\text{Pr[nucleotide i} \\rightarrow \\text{nucleotide j]}$\n",
        "\n",
        "As $P$ denotes transition probabilites as explained above, we already know:\n",
        "* Its entries are non-negative, i.e., $P_{ij} \\geq 0$.\n",
        "* Its rows sum to one, i.e., $\\sum_{j=1}^4 P_{ij} = 1$.\n",
        "* Its diagnoal entries are the probability of a nucleotide not changing.\n",
        "\n",
        "In the following we'll explore how to work with such a transition matrix in plain `R`."
      ],
      "metadata": {
        "id": "fYu_0XLdnmZg"
      }
    },
    {
      "cell_type": "markdown",
      "source": [
        "***First we make a simple transition matrix***"
      ],
      "metadata": {
        "id": "jmXUAWNZq_nN"
      }
    },
    {
      "cell_type": "code",
      "source": [
        "#- Define four nucleotides\n",
        "NUCLEOTIDES = c('A','C','G','T')\n",
        "\n",
        "#- Make a transition matrix\n",
        "P = matrix(1/4, ncol=4, nrow=4)\n",
        "colnames(P) <- rownames(P) <- NUCLEOTIDES\n",
        "P"
      ],
      "metadata": {
        "colab": {
          "base_uri": "https://localhost:8080/",
          "height": 192
        },
        "id": "HohdQWDhqjXL",
        "outputId": "7a4dc0e1-766d-4d1c-ea5a-a49d7115374b"
      },
      "execution_count": null,
      "outputs": [
        {
          "output_type": "display_data",
          "data": {
            "text/html": [
              "<table class=\"dataframe\">\n",
              "<caption>A matrix: 4 × 4 of type dbl</caption>\n",
              "<thead>\n",
              "\t<tr><th></th><th scope=col>A</th><th scope=col>C</th><th scope=col>G</th><th scope=col>T</th></tr>\n",
              "</thead>\n",
              "<tbody>\n",
              "\t<tr><th scope=row>A</th><td>0.25</td><td>0.25</td><td>0.25</td><td>0.25</td></tr>\n",
              "\t<tr><th scope=row>C</th><td>0.25</td><td>0.25</td><td>0.25</td><td>0.25</td></tr>\n",
              "\t<tr><th scope=row>G</th><td>0.25</td><td>0.25</td><td>0.25</td><td>0.25</td></tr>\n",
              "\t<tr><th scope=row>T</th><td>0.25</td><td>0.25</td><td>0.25</td><td>0.25</td></tr>\n",
              "</tbody>\n",
              "</table>\n"
            ],
            "text/markdown": "\nA matrix: 4 × 4 of type dbl\n\n| <!--/--> | A | C | G | T |\n|---|---|---|---|---|\n| A | 0.25 | 0.25 | 0.25 | 0.25 |\n| C | 0.25 | 0.25 | 0.25 | 0.25 |\n| G | 0.25 | 0.25 | 0.25 | 0.25 |\n| T | 0.25 | 0.25 | 0.25 | 0.25 |\n\n",
            "text/latex": "A matrix: 4 × 4 of type dbl\n\\begin{tabular}{r|llll}\n  & A & C & G & T\\\\\n\\hline\n\tA & 0.25 & 0.25 & 0.25 & 0.25\\\\\n\tC & 0.25 & 0.25 & 0.25 & 0.25\\\\\n\tG & 0.25 & 0.25 & 0.25 & 0.25\\\\\n\tT & 0.25 & 0.25 & 0.25 & 0.25\\\\\n\\end{tabular}\n",
            "text/plain": [
              "  A    C    G    T   \n",
              "A 0.25 0.25 0.25 0.25\n",
              "C 0.25 0.25 0.25 0.25\n",
              "G 0.25 0.25 0.25 0.25\n",
              "T 0.25 0.25 0.25 0.25"
            ]
          },
          "metadata": {}
        }
      ]
    },
    {
      "cell_type": "markdown",
      "source": [],
      "metadata": {
        "id": "4hDj48sGrFO6"
      }
    },
    {
      "cell_type": "markdown",
      "source": [
        "***Next a sequence of nucleotides***"
      ],
      "metadata": {
        "id": "SvcrU_V4rXNX"
      }
    },
    {
      "cell_type": "code",
      "source": [
        "#- A random sequence of nucleotides\n",
        "set.seed(16386489)\n",
        "seq1 <- sample(NUCLEOTIDES, 40, replace = TRUE)\n",
        "seq1"
      ],
      "metadata": {
        "colab": {
          "base_uri": "https://localhost:8080/",
          "height": 52
        },
        "id": "0kwekPHQq34i",
        "outputId": "c6fd16ba-4532-4d2a-a426-ae18571ae79d"
      },
      "execution_count": null,
      "outputs": [
        {
          "output_type": "display_data",
          "data": {
            "text/html": [
              "<style>\n",
              ".list-inline {list-style: none; margin:0; padding: 0}\n",
              ".list-inline>li {display: inline-block}\n",
              ".list-inline>li:not(:last-child)::after {content: \"\\00b7\"; padding: 0 .5ex}\n",
              "</style>\n",
              "<ol class=list-inline><li>'T'</li><li>'C'</li><li>'A'</li><li>'C'</li><li>'T'</li><li>'G'</li><li>'C'</li><li>'A'</li><li>'T'</li><li>'G'</li><li>'T'</li><li>'G'</li><li>'A'</li><li>'C'</li><li>'C'</li><li>'A'</li><li>'G'</li><li>'G'</li><li>'C'</li><li>'G'</li><li>'T'</li><li>'C'</li><li>'G'</li><li>'G'</li><li>'G'</li><li>'C'</li><li>'T'</li><li>'C'</li><li>'G'</li><li>'C'</li><li>'T'</li><li>'C'</li><li>'G'</li><li>'C'</li><li>'A'</li><li>'T'</li><li>'T'</li><li>'C'</li><li>'T'</li><li>'A'</li></ol>\n"
            ],
            "text/markdown": "1. 'T'\n2. 'C'\n3. 'A'\n4. 'C'\n5. 'T'\n6. 'G'\n7. 'C'\n8. 'A'\n9. 'T'\n10. 'G'\n11. 'T'\n12. 'G'\n13. 'A'\n14. 'C'\n15. 'C'\n16. 'A'\n17. 'G'\n18. 'G'\n19. 'C'\n20. 'G'\n21. 'T'\n22. 'C'\n23. 'G'\n24. 'G'\n25. 'G'\n26. 'C'\n27. 'T'\n28. 'C'\n29. 'G'\n30. 'C'\n31. 'T'\n32. 'C'\n33. 'G'\n34. 'C'\n35. 'A'\n36. 'T'\n37. 'T'\n38. 'C'\n39. 'T'\n40. 'A'\n\n\n",
            "text/latex": "\\begin{enumerate*}\n\\item 'T'\n\\item 'C'\n\\item 'A'\n\\item 'C'\n\\item 'T'\n\\item 'G'\n\\item 'C'\n\\item 'A'\n\\item 'T'\n\\item 'G'\n\\item 'T'\n\\item 'G'\n\\item 'A'\n\\item 'C'\n\\item 'C'\n\\item 'A'\n\\item 'G'\n\\item 'G'\n\\item 'C'\n\\item 'G'\n\\item 'T'\n\\item 'C'\n\\item 'G'\n\\item 'G'\n\\item 'G'\n\\item 'C'\n\\item 'T'\n\\item 'C'\n\\item 'G'\n\\item 'C'\n\\item 'T'\n\\item 'C'\n\\item 'G'\n\\item 'C'\n\\item 'A'\n\\item 'T'\n\\item 'T'\n\\item 'C'\n\\item 'T'\n\\item 'A'\n\\end{enumerate*}\n",
            "text/plain": [
              " [1] \"T\" \"C\" \"A\" \"C\" \"T\" \"G\" \"C\" \"A\" \"T\" \"G\" \"T\" \"G\" \"A\" \"C\" \"C\" \"A\" \"G\" \"G\" \"C\"\n",
              "[20] \"G\" \"T\" \"C\" \"G\" \"G\" \"G\" \"C\" \"T\" \"C\" \"G\" \"C\" \"T\" \"C\" \"G\" \"C\" \"A\" \"T\" \"T\" \"C\"\n",
              "[39] \"T\" \"A\""
            ]
          },
          "metadata": {}
        }
      ]
    },
    {
      "cell_type": "markdown",
      "source": [
        "***Nucleotide substitutions***"
      ],
      "metadata": {
        "id": "WfDL-cQ3ruEH"
      }
    },
    {
      "cell_type": "code",
      "source": [
        "#- Change our current subsitutions matrix\n",
        "diag(P) <- 1.5\n",
        "P       <-  P/rowSums(P)\n",
        "P"
      ],
      "metadata": {
        "colab": {
          "base_uri": "https://localhost:8080/",
          "height": 192
        },
        "id": "PTWBdtScrerH",
        "outputId": "081f61ff-7ea5-4bed-ab9a-098ef65fc230"
      },
      "execution_count": null,
      "outputs": [
        {
          "output_type": "display_data",
          "data": {
            "text/html": [
              "<table class=\"dataframe\">\n",
              "<caption>A matrix: 4 × 4 of type dbl</caption>\n",
              "<thead>\n",
              "\t<tr><th></th><th scope=col>A</th><th scope=col>C</th><th scope=col>G</th><th scope=col>T</th></tr>\n",
              "</thead>\n",
              "<tbody>\n",
              "\t<tr><th scope=row>A</th><td>0.6666667</td><td>0.1111111</td><td>0.1111111</td><td>0.1111111</td></tr>\n",
              "\t<tr><th scope=row>C</th><td>0.1111111</td><td>0.6666667</td><td>0.1111111</td><td>0.1111111</td></tr>\n",
              "\t<tr><th scope=row>G</th><td>0.1111111</td><td>0.1111111</td><td>0.6666667</td><td>0.1111111</td></tr>\n",
              "\t<tr><th scope=row>T</th><td>0.1111111</td><td>0.1111111</td><td>0.1111111</td><td>0.6666667</td></tr>\n",
              "</tbody>\n",
              "</table>\n"
            ],
            "text/markdown": "\nA matrix: 4 × 4 of type dbl\n\n| <!--/--> | A | C | G | T |\n|---|---|---|---|---|\n| A | 0.6666667 | 0.1111111 | 0.1111111 | 0.1111111 |\n| C | 0.1111111 | 0.6666667 | 0.1111111 | 0.1111111 |\n| G | 0.1111111 | 0.1111111 | 0.6666667 | 0.1111111 |\n| T | 0.1111111 | 0.1111111 | 0.1111111 | 0.6666667 |\n\n",
            "text/latex": "A matrix: 4 × 4 of type dbl\n\\begin{tabular}{r|llll}\n  & A & C & G & T\\\\\n\\hline\n\tA & 0.6666667 & 0.1111111 & 0.1111111 & 0.1111111\\\\\n\tC & 0.1111111 & 0.6666667 & 0.1111111 & 0.1111111\\\\\n\tG & 0.1111111 & 0.1111111 & 0.6666667 & 0.1111111\\\\\n\tT & 0.1111111 & 0.1111111 & 0.1111111 & 0.6666667\\\\\n\\end{tabular}\n",
            "text/plain": [
              "  A         C         G         T        \n",
              "A 0.6666667 0.1111111 0.1111111 0.1111111\n",
              "C 0.1111111 0.6666667 0.1111111 0.1111111\n",
              "G 0.1111111 0.1111111 0.6666667 0.1111111\n",
              "T 0.1111111 0.1111111 0.1111111 0.6666667"
            ]
          },
          "metadata": {}
        }
      ]
    },
    {
      "cell_type": "code",
      "source": [
        "#- create an empty sequence\n",
        "seq1_a <- rep(NA, length(seq1))\n",
        "\n",
        "#- \"evolve\" seq1 and store the result in seq1_a\n",
        "for(i in seq_len(seq1 |> length())){\n",
        "  nuc       <- seq1[i]\n",
        "  new_nuc   <- sample(NUCLEOTIDES, size = 1, prob = P[nuc,])\n",
        "  seq1_a[i] <- new_nuc\n",
        "}\n",
        "\n",
        "#- NOTE: the \"R-way\" of doing this would be\n",
        "#  seq1_a <- sapply(seq1, \\(nuc) sample(NUCLEOTIDES, size = 1, prob = P[nuc,]))\n",
        "\n",
        "#- we can now, e.g., count differences\n",
        "is_different <- seq1 != seq1_a\n",
        "is_different |> table()\n",
        "\n",
        "#- QUESTION: what would you expect? Maybe 13.3?"
      ],
      "metadata": {
        "colab": {
          "base_uri": "https://localhost:8080/",
          "height": 69
        },
        "id": "Y9GBFV8VsGQ9",
        "outputId": "c4d61d27-824d-4b5d-f405-a989b2835b32"
      },
      "execution_count": null,
      "outputs": [
        {
          "output_type": "display_data",
          "data": {
            "text/plain": [
              "is_different\n",
              "FALSE  TRUE \n",
              "   24    16 "
            ]
          },
          "metadata": {}
        }
      ]
    },
    {
      "cell_type": "code",
      "source": [
        "#- we can also print/visualize the new sequence we created\n",
        "paste0( paste0(seq1, collapse=\"\"),\n",
        "        '\\n',\n",
        "        paste0(c(\"|\",\" \")[is_different + 1], collapse=\"\"),\n",
        "        '\\n',\n",
        "        paste0(seq1_a, collapse=\"\"),\n",
        "        collapse=\"\") |> cat()       "
      ],
      "metadata": {
        "colab": {
          "base_uri": "https://localhost:8080/"
        },
        "id": "vK3VBGL5sa5n",
        "outputId": "654c7f2f-66b4-4303-aab7-28ba28bbbe9b"
      },
      "execution_count": null,
      "outputs": [
        {
          "output_type": "stream",
          "name": "stdout",
          "text": [
            "TCACTGCATGTGACCAGGCGTCGGGCTCGCTCGCATTCTA\n",
            " ||  |||  | |||  | | ||||||  |||||  |  |\n",
            "ACAGGGCAGCTAACCGCGTGACGGGCTGTCTCGCCGTGGA"
          ]
        }
      ]
    },
    {
      "cell_type": "code",
      "source": [
        "#- and since we might want to do this again, we'll write a function for is\n",
        "print_seqs <- function(seq1, seq2){\n",
        "#----------------------------------\n",
        "  \n",
        "  diffs <- c(' ', '|')[(seq1 != seq2) + 1]\n",
        "  line1 <- paste0(seq1,  collapse = \"\")\n",
        "  line2 <- paste0(diffs, collapse = \"\")\n",
        "  line3 <- paste0(seq2,  collapse = \"\")\n",
        "  \n",
        "  paste0(line1,'\\n',line2,'\\n', line3, '\\n', collapse ='') |> cat()\n",
        "  \n",
        "}\n",
        "\n",
        "print_seqs(seq1, seq1_a)"
      ],
      "metadata": {
        "colab": {
          "base_uri": "https://localhost:8080/"
        },
        "id": "02OXbqODuYjz",
        "outputId": "de24b2e8-9e05-41be-eab2-7a4e7ae1d083"
      },
      "execution_count": null,
      "outputs": [
        {
          "output_type": "stream",
          "name": "stdout",
          "text": [
            "TCACTGCATGTGACCAGGCGTCGGGCTCGCTCGCATTCTA\n",
            "|  ||   || |   || | |      ||     || || \n",
            "ACAGGGCAGCTAACCGCGTGACGGGCTGTCTCGCCGTGGA\n"
          ]
        }
      ]
    },
    {
      "cell_type": "markdown",
      "source": [
        "***Diagonal elements and (expected) number of substitutions***\n",
        "\n",
        "Here we choose a parameter $\\delta \\in [0,1]$ and set $P_{ii} = \\delta$ and $P_{ij} = (1-\\delta)/3$. \n",
        "\n",
        "- What are the expected number of substitutions in a sequence of length $l$?\n",
        "- What happens if $\\delta = 1$?\n",
        "- What when $\\delta \\in (0.25, 1)$?\n",
        "- What when $\\delta = 0.25$?\n",
        "- What when $\\delta \\in (0, 0.25)$?\n",
        "- What when $\\delta = 0$?"
      ],
      "metadata": {
        "id": "lKd3JwVbv2VP"
      }
    }
  ]
}