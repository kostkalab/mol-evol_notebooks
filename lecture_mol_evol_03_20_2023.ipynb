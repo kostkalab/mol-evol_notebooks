{
  "nbformat": 4,
  "nbformat_minor": 0,
  "metadata": {
    "colab": {
      "provenance": [],
      "authorship_tag": "ABX9TyMYRP3Jx4yGW8dujDDv3kzX",
      "include_colab_link": true
    },
    "kernelspec": {
      "name": "ir",
      "display_name": "R"
    },
    "language_info": {
      "name": "R"
    }
  },
  "cells": [
    {
      "cell_type": "markdown",
      "metadata": {
        "id": "view-in-github",
        "colab_type": "text"
      },
      "source": [
        "<a href=\"https://colab.research.google.com/github/kostkalab/mol-evol_notebooks/blob/main/lecture_mol_evol_03_20_2023.ipynb\" target=\"_parent\"><img src=\"https://colab.research.google.com/assets/colab-badge.svg\" alt=\"Open In Colab\"/></a>"
      ]
    },
    {
      "cell_type": "markdown",
      "source": [
        "# Continous time Markov chain (CTMC)\n",
        "\n",
        "Our current model is using discrete time steps, where transition probabilities are defined by the transition matrix $P$:\n",
        "\n",
        "$$\n",
        "\\begin{aligned}\n",
        "&P(X_t = j  | X_{t-1} = i) = P_{ij} &\\text{one step transition}\\\\\n",
        "&P(X_t = j | X_0 = i) = (P)^t_{ij}\\; \\text{with}\\; t=1,2,3,\\ldots &\\text{multi-step transition}\n",
        "\\end{aligned}\n",
        "$$\n",
        "\n",
        "In the following we will generalize this model for continous times.\n",
        "\n",
        "## Rate Matrix $Q$\n",
        "\n",
        "We have seen in the lecture that we can define such a CTM by a ($4\\times 4$) rate matrix (denoted by $Q$), defined as follows:\n",
        "\n",
        "$$\n",
        "\\begin{aligned}\n",
        "\\frac{d}{dt} P(t)_{ij} = \\sum\\nolimits_kP(t)_{ik}Q_{kj} \n",
        "\\end{aligned}\n",
        "$$\n",
        "\n",
        "Or, equivalently, via the matrix exponential as\n",
        "\n",
        "$$\n",
        "P(t) = \\text{expm}\\big(Qt\\big)\n",
        "$$\n",
        "\n",
        "Some important take aways are:\n",
        "\n",
        "- Since $Q$ determines $P(t)$ it governs the substitution process.\n",
        "- $Q$ does not change over time (in our *stationary* models). If we specify $Q$ we have parameterized our model completely.\n",
        "- Therefore, to describe different substitution models, researchers parameterize the rate matrix. \n",
        "- Key quantities of the substitution process follow directly from the rate matrix.\n",
        "\n",
        "**Interpretation of rate matrix entries**\n",
        "\n",
        "- $Q_{ij}\\geq 0 \\; \\text{for} \\; i \\neq j$: How \"quickly\" ($\\rightarrow$ *rate*) does the transition from $i$ to $j$ happen? \"Pressure\" to leave state $i$ for state $j$.\n",
        "- $Q_{ii} \\leq 0$: The \"pressure\" ($\\rightarrow$ *rate*) for transitioning away for state $i$.\n",
        "- The rate of \"going away\" from state $i$ is the sum of the rates of $i$ transitioning into other states $j \\neq i$.\n",
        "$$-Q_{ii} = \\sum\\nolimits_{k\\neq i} Q_{ik} $$\n",
        "\n",
        "Key quantities of the substitution process follow directly from the rate matrix:\n",
        "\n",
        "## Equilibrium distribution\n",
        "\n",
        "At equilibrium, probabilities of sampling a nucleotide (or \"state\") don't change:\n",
        "\n",
        "$$\n",
        "\\sum\\nolimits_k \\pi_k Q_{ki} = \\sum\\nolimits_{k\\neq i}\\pi_k Q_{ki} + \\pi_i Q_{ii} =0\n",
        "$$\n",
        "\n",
        "Which means that $\\pi$ is a left eigenvector of $Q$ with eigenvalue zero. That is $Q$ determines equlibrium frequencies (as expected). \n",
        "\n",
        "\n",
        "Since $P(t) = \\text{expm}(Qt) = \\mathbb{1} + \\sum_n \\frac{1}{n!}Q^nt^n$ it follows for the transition probabilities:\n",
        "\n",
        "$$\n",
        "\\sum\\nolimits_k \\pi_k P_{ki} = \\pi_i\n",
        "$$\n",
        "\n",
        "That is because above in the matrix exponential only the $\\mathbb{1}$ contributes, the powers of $Q$ all amount to zero.\n",
        "\n",
        "This means that $\\pi$ is a left eigenvector of $P$ with eigenvalue one, as we already know from the previous lecture.\n",
        "\n",
        "## Expected number of substitutions\n",
        "\n",
        "A key quantity of interest is the expected number of substitutions (for a given choice of the time parameter $t$); for exapmle, think about saturation. Let $n(t)$ the the number of stubsitutions that occur until time $t$. Importantly, this includes \"back-substitutions\" of the type $i\\rightarrow j \\rightarrow i$ that would not be observed in measures of sequence divergence ($\\rightarrow$ *saturation*). From the rate matrix we get directly\n",
        "\n",
        "$$\n",
        "E[n(t)] = -\\sum_k \\pi_k Q_{kk} t\n",
        "$$\n",
        "\n",
        "Where $E[\\;]$ denotes the expectation. You can think about it as \"running\" many processes (which all may have different numbers of (unobserved) substitutions) and then taking the avarage. \n",
        "\n",
        "We see that $E[n(t)]$ is a linear function of $t$.\n",
        "\n",
        "**Scaling of the substitution matrix for unit time**\n",
        "\n",
        "We see from the equation above that multiplying $Q$ by a constant changes substitution rates (for the same $%$). Equivalently, only the product $Qt$ does have meaning. Therefore, $Q$ can be normalized such that $t$ directly indicates the expected number of substitutions by setting that for $t=1$:\n",
        "\n",
        "$$\n",
        "-\\sum_k \\pi_k Q_{kk} = 1\n",
        "$$\n",
        "\n",
        "\n",
        "## Time reversibility\n",
        "\n",
        "Time reversible models are a subclass of substitution models we discussed. For these models \"time works the same in both directions\". Specifically, that means that:\n",
        "\n",
        "$$\n",
        "\\pi_iP(t)_{ij} = \\pi_jP(t)_{ji}\n",
        "$$\n",
        "\n",
        "The probability of bein in $i$ and going from $i$ to $j$ (say, forward in time) is the same as the probability of being in $j$ and going from $j$ to $i$ (say, backward in time). The same holds for the rate matrices:\n",
        "\n",
        "$$\n",
        "\\pi_i Q_{ij} = \\pi_j Q_{ji}\n",
        "$$\n",
        "\n",
        "From which then the equation involving transition probabilities follows. For time reversible models the following are equivalent:\n",
        "\n",
        "$$\n",
        "\\begin{aligned}\n",
        "\\sum\\nolimits_k \\pi_k P(t1)_{ki} P(t_2)_{kj} & =  \\sum\\nolimits_k \\pi_i P_{ik}(t_i)P_{kj}(t_2) \\\\\n",
        "&= \\pi_i P(t_1+t_2)_{ij} \\\\\n",
        "&= \\pi_j P(t_1+t_2)_{ji} \n",
        "\\end{aligned}\n",
        "$$\n",
        "\n",
        "This is the reason the likelihood in our example from last lecture was not well determined and we could only see the correct sum of time steps, but not determine $t_1$ and $t_2$ individually.\n",
        "\n",
        "## Parameterization of the rate matarix\n",
        "\n",
        "A commonly used parameterization for all time-reversible models for the rate matrix is\n",
        "\n",
        "$$\n",
        "Q = \\left(\\begin{array}{cccc}\n",
        "-         & a \\,\\pi_c& b \\,\\pi_g & c \\,\\pi_t\\\\\n",
        "a \\,\\pi_a & -        & d \\,\\pi_g & e \\,\\pi_t\\\\\n",
        "b \\,\\pi_a & d \\,\\pi_c& -         & f \\,\\pi_t\\\\\n",
        "c \\,\\pi_a & e \\,\\pi_c& f \\,\\pi_g & - \\\\\n",
        "\\end{array}\\right)\n",
        "$$\n",
        "\n",
        "Where the exchangeability parameters $\\{a,b,c,d,e\\}$ are non-negative and scaled such that $\\sum_i \\pi_i Q_{ii} = 1$ (see above).\n",
        "\n",
        "Note, this parameterization answers our previous question of how to design a process where the equilibrium frequencies are different from q all being $1/4$. \n",
        "\n",
        "Some parameterization of the rate matrix have names. The above (most general one) is called **g**eneral **t**ime **r**eversible model (GTR). \n",
        "\n",
        "- Jukes Cantor model:\n",
        "  $$\n",
        "  \\begin{aligned}\n",
        "  a=b=c=d=e=f=:\\mu\\\\\n",
        "  \\pi_a = \\pi_c = \\pi_g = \\pi_t = 1/4\n",
        "  \\end{aligned}\n",
        "  $$\n",
        "  And we can fix $\\mu$ by scaling $Q$ such that $E[n(t=1)] =1$:\n",
        "  $$\n",
        "  \\frac{3}{4}\\mu \\,4 = 1 \\;{\\leftrightarrow} \\; \\mu = \\frac{1}{3}\n",
        "  $$\n",
        "  So that we get\n",
        "  $$\n",
        "  Q_{i\\neq j} = \\frac{1}{12}\n",
        "  $$\n",
        "  And there is no free parameter in the substitution matrix, just the time $t$.\n",
        "- Two parameter model: Distinguish \n",
        "  - Transversions: $Q_{AC} = Q_{CA}= Q_{AT} = Q_{TA} = Q_{CG} = Q_{GC} = Q_{GT} = Q_{TG} = a$\n",
        "  - Transitions: $Q_{AG}=Q_{GA}=Q_{CT}= Q_{TC} = b$\n",
        "  \n",
        "  From scaling we get:\n",
        "  - $a \\in [0, \\frac{1}{8}]$\n",
        "  - $b = \\frac{1}{4} - 2a \\; \\in \\; [0, \\frac{1}{4}]$\n",
        " \n",
        " And for equilibrium frequencies we get $\\pi_i = 1/4$"
      ],
      "metadata": {
        "id": "MldtAHA2Vtrn"
      }
    },
    {
      "cell_type": "markdown",
      "source": [
        "# Simulating alignments with `rphast`\n",
        "\n",
        "The `rphast` package provides functionality for simulating alignments and performing maximum likelihood estimation of substitution model parameters (amongst other things).\n",
        "\n",
        "First, we install the rphast package:"
      ],
      "metadata": {
        "id": "E8e_htGTptHg"
      }
    },
    {
      "cell_type": "code",
      "source": [],
      "metadata": {
        "id": "NZpRWaQtqC34"
      },
      "execution_count": null,
      "outputs": []
    },
    {
      "cell_type": "markdown",
      "source": [
        "\n",
        "\n",
        "***Get set up with a transition matrix (and DNA sequence)***\n",
        "\n"
      ],
      "metadata": {
        "id": "jmXUAWNZq_nN"
      }
    },
    {
      "cell_type": "markdown",
      "source": [],
      "metadata": {
        "id": "Gs90lifiVsQG"
      }
    },
    {
      "cell_type": "code",
      "source": [
        "#- Define four nucleotides\n",
        "NUCLEOTIDES = c('A','C','G','T')\n",
        "\n",
        "#- Make a transition matrix\n",
        "P = matrix(1/4, ncol=4, nrow=4)\n",
        "colnames(P) <- rownames(P) <- NUCLEOTIDES\n",
        "\n",
        "#- A random sequence of nucleotides\n",
        "set.seed(16386489)\n",
        "seq1 <- sample(NUCLEOTIDES, 40, replace = TRUE)\n",
        "\n",
        "#- Change our current subsitutions matrix\n",
        "diag(P) <- 1.5\n",
        "P       <-  P/rowSums(P)\n",
        "\n",
        "#- Function for printing sequences\n",
        "print_seqs <- function(seq1, seq2){\n",
        "#----------------------------------\n",
        "  \n",
        "  diffs <- c(' ', '|')[(seq1 != seq2) + 1]\n",
        "  line1 <- paste0(seq1,  collapse = \"\")\n",
        "  line2 <- paste0(diffs, collapse = \"\")\n",
        "  line3 <- paste0(seq2,  collapse = \"\")\n",
        "  \n",
        "  paste0(line1,'\\n',line2,'\\n', line3, '\\n', collapse ='') |> cat()\n",
        "  \n",
        "}"
      ],
      "metadata": {
        "colab": {
          "base_uri": "https://localhost:8080/",
          "height": 192
        },
        "id": "HohdQWDhqjXL",
        "outputId": "287ad067-503d-4b7d-fc55-c054179736c8"
      },
      "execution_count": null,
      "outputs": [
        {
          "output_type": "display_data",
          "data": {
            "text/html": [
              "<table class=\"dataframe\">\n",
              "<caption>A matrix: 4 × 4 of type dbl</caption>\n",
              "<thead>\n",
              "\t<tr><th></th><th scope=col>A</th><th scope=col>C</th><th scope=col>G</th><th scope=col>T</th></tr>\n",
              "</thead>\n",
              "<tbody>\n",
              "\t<tr><th scope=row>A</th><td>0.6666667</td><td>0.1111111</td><td>0.1111111</td><td>0.1111111</td></tr>\n",
              "\t<tr><th scope=row>C</th><td>0.1111111</td><td>0.6666667</td><td>0.1111111</td><td>0.1111111</td></tr>\n",
              "\t<tr><th scope=row>G</th><td>0.1111111</td><td>0.1111111</td><td>0.6666667</td><td>0.1111111</td></tr>\n",
              "\t<tr><th scope=row>T</th><td>0.1111111</td><td>0.1111111</td><td>0.1111111</td><td>0.6666667</td></tr>\n",
              "</tbody>\n",
              "</table>\n"
            ],
            "text/markdown": "\nA matrix: 4 × 4 of type dbl\n\n| <!--/--> | A | C | G | T |\n|---|---|---|---|---|\n| A | 0.6666667 | 0.1111111 | 0.1111111 | 0.1111111 |\n| C | 0.1111111 | 0.6666667 | 0.1111111 | 0.1111111 |\n| G | 0.1111111 | 0.1111111 | 0.6666667 | 0.1111111 |\n| T | 0.1111111 | 0.1111111 | 0.1111111 | 0.6666667 |\n\n",
            "text/latex": "A matrix: 4 × 4 of type dbl\n\\begin{tabular}{r|llll}\n  & A & C & G & T\\\\\n\\hline\n\tA & 0.6666667 & 0.1111111 & 0.1111111 & 0.1111111\\\\\n\tC & 0.1111111 & 0.6666667 & 0.1111111 & 0.1111111\\\\\n\tG & 0.1111111 & 0.1111111 & 0.6666667 & 0.1111111\\\\\n\tT & 0.1111111 & 0.1111111 & 0.1111111 & 0.6666667\\\\\n\\end{tabular}\n",
            "text/plain": [
              "  A         C         G         T        \n",
              "A 0.6666667 0.1111111 0.1111111 0.1111111\n",
              "C 0.1111111 0.6666667 0.1111111 0.1111111\n",
              "G 0.1111111 0.1111111 0.6666667 0.1111111\n",
              "T 0.1111111 0.1111111 0.1111111 0.6666667"
            ]
          },
          "metadata": {}
        }
      ]
    },
    {
      "cell_type": "markdown",
      "source": [
        "# Multi-step transitions\n",
        "\n",
        "In the current framework we can ask, what is the probability of going from nucleotide `i` to nucleotide `j` in two (or more) \"steps\". One step is one \"application\" of the transition matrix described above.\n",
        "\n",
        "Not that for the **matrix product** of the transition matrix wiht itself we have:\n",
        "\n",
        "$PP = \\{PP\\}_{ij}$\n",
        "\n",
        "$(PP)_{ij} = \\sum_{k=1}^4 P_{ik}P_{kj}$\n",
        "\n",
        "Which is the sum over all possitilities `k` for nucleotide `i` transitioning into another nucleotide `k` and then `k` transitioning into `j`. \n",
        "\n",
        "* Two step transition: $PP = P^2$\n",
        "* Three step transition: $PPP = P^3$\n",
        "* Four step transition: $PPPP = P^4$\n",
        "* ...\n",
        "\n",
        "\n",
        "At this point, we also recall the definition of $P$ and use a RV $X$ to denote nucleotides and an index to denote \"time\". The $ij$-the element of the transition matrix is, for example,  the probability that that $X_1=j$, conditional on $X_0=i$ (i.e., transition from $i$ to $j$).\n",
        " \n",
        "$\\begin{aligned}\n",
        "P_{ij} &= \\text{Pr[nucleotide }i \\rightarrow \\text{nucleotide }j \\text{]} \\\\\n",
        "  &= \\text{Pr[}X_1=j|X_0=i \\text{]} \\\\\n",
        "  &= \\text{Pr[}X_t=j|X_{t-i}=i \\text{]} \n",
        "\\end{aligned}\n",
        "$\n",
        "\n",
        "If we now think about nucleotide substitutios **over time** we can think about a *discrete time* model where $P$ describes transitions for each time step:\n",
        "```\n",
        "0   1   2   3     t = 0, 1, 2, ...\n",
        "|---|---|---|---> time\n",
        "  P   P   P   P   transition probabilities betweentime points \n",
        "```\n",
        "\n",
        "In this setting we can ask for the transition probabilities comoprising $t$ steps:\n",
        "\n",
        "$\n",
        "P_{ij}(t) := \\text{Pr}[x_t = j | x_0=i]\n",
        "$\n",
        "\n",
        "The model we are using is a **homogenous Markov chain** (i.e., the transition matrix $P$ is always the same) to describe nucleotide transitions. Note that in \n",
        "\n",
        "Let $X_t$ the random variable describing the nucleotide at time $t$. Then, for any Markov chain \n",
        "\n",
        "$\\text{Pr}[X_t|X_{t-1}, X_{t-2}, \\ldots , X_0] = \\text{Pr}[X_t|X_{t-1} ] \\quad \\text{(Markov property)}$\n",
        "\n",
        "which in our case is clear, from how we constructed the model.\n",
        "\n",
        "Next, we ask about the multi-step (i.e., $t$>1) transition probabilities:\n",
        "\n",
        "* $t$ = 2 : $P(t=2) = PP = P^2:$\n",
        "\n",
        " $\n",
        " \\begin{aligned}\n",
        " P_{ij}(2)  &=\\text{Pr}[X_2 = j| X_0=i]\\\\\n",
        "             &=\\text{Pr}[X_2 = j, X_0=i] \\big/ \\text{Pr}[X_0=i]\\\\ \n",
        "             &=\\sum_\\nolimits k\n",
        "             \\text{Pr}[X_2 = j, X_1 =k,  X_0=i] \\big/ \\text{Pr}[X_0=i]\\\\ \n",
        "             &=\\sum_\\nolimits k\n",
        "             \\text{Pr}[X_2 = j | X_1 =k,  X_0=i] \\text{Pr}[X_1=k, X_0=i\\text{]} \\big/ \\text{Pr}[X_0=i\\text{]}\\\\\n",
        "             &=\\sum_\\nolimits k\n",
        "             \\text{Pr}[X_2 = j | X_1 =k] \\text{Pr}[X_1=k, X_0=i\\text{]} \\big/ \\text{Pr}[X_0=i\\text{]}\\\\\n",
        "             &=\\sum_\\nolimits k\n",
        "             \\text{Pr}[X_2 = j | X_1 =k] \\text{Pr}[X_1=k| X_0=i\\text{]} \\text{Pr}[X_0=i]\\big/ \\text{Pr}[X_0=i\\text{]}\\\\\n",
        "             &=\\sum_\\nolimits k \\text{Pr}[X_1 = k| X_0=i] \\text{Pr}[X_2 = j| X_1=k]\\\\\n",
        "             &=\\sum_\\nolimits k P_{ik}P_{kj}\\\\\n",
        "\\end{aligned}\n",
        "$\n",
        "\n",
        "* $t$ = 3 : $P(t=3) = PPP = P^3$\n",
        "\n",
        "And in general\n",
        "\n",
        "$\n",
        "P(t) = P^t \n",
        "$\n"
      ],
      "metadata": {
        "id": "9xIMKYzi_6TD"
      }
    },
    {
      "cell_type": "markdown",
      "source": [
        "# Chapman Kolmogorov Equation\n",
        "\n",
        "With the same rational one can obtain the following result:\n",
        "\n",
        "$P(t+h) = P(t)P(h)$\n",
        "\n",
        "$P(t+h)_{ij} = \\sum\\nolimits_k P(t)_{ik}P(h)_{kj}$\n"
      ],
      "metadata": {
        "id": "X4JL6-P2PQxl"
      }
    },
    {
      "cell_type": "markdown",
      "source": [
        "Next, we will use our transition matrix to explor multi-step transition probabil"
      ],
      "metadata": {
        "id": "KpDWqm1eSeYf"
      }
    },
    {
      "cell_type": "code",
      "source": [
        "P"
      ],
      "metadata": {
        "colab": {
          "base_uri": "https://localhost:8080/",
          "height": 192
        },
        "id": "rGyecshUugA0",
        "outputId": "ff4521d9-6bbf-46ee-e7cd-1a237d198e56"
      },
      "execution_count": null,
      "outputs": [
        {
          "output_type": "display_data",
          "data": {
            "text/html": [
              "<table class=\"dataframe\">\n",
              "<caption>A matrix: 4 × 4 of type dbl</caption>\n",
              "<thead>\n",
              "\t<tr><th></th><th scope=col>A</th><th scope=col>C</th><th scope=col>G</th><th scope=col>T</th></tr>\n",
              "</thead>\n",
              "<tbody>\n",
              "\t<tr><th scope=row>A</th><td>0.6666667</td><td>0.1111111</td><td>0.1111111</td><td>0.1111111</td></tr>\n",
              "\t<tr><th scope=row>C</th><td>0.1111111</td><td>0.6666667</td><td>0.1111111</td><td>0.1111111</td></tr>\n",
              "\t<tr><th scope=row>G</th><td>0.1111111</td><td>0.1111111</td><td>0.6666667</td><td>0.1111111</td></tr>\n",
              "\t<tr><th scope=row>T</th><td>0.1111111</td><td>0.1111111</td><td>0.1111111</td><td>0.6666667</td></tr>\n",
              "</tbody>\n",
              "</table>\n"
            ],
            "text/markdown": "\nA matrix: 4 × 4 of type dbl\n\n| <!--/--> | A | C | G | T |\n|---|---|---|---|---|\n| A | 0.6666667 | 0.1111111 | 0.1111111 | 0.1111111 |\n| C | 0.1111111 | 0.6666667 | 0.1111111 | 0.1111111 |\n| G | 0.1111111 | 0.1111111 | 0.6666667 | 0.1111111 |\n| T | 0.1111111 | 0.1111111 | 0.1111111 | 0.6666667 |\n\n",
            "text/latex": "A matrix: 4 × 4 of type dbl\n\\begin{tabular}{r|llll}\n  & A & C & G & T\\\\\n\\hline\n\tA & 0.6666667 & 0.1111111 & 0.1111111 & 0.1111111\\\\\n\tC & 0.1111111 & 0.6666667 & 0.1111111 & 0.1111111\\\\\n\tG & 0.1111111 & 0.1111111 & 0.6666667 & 0.1111111\\\\\n\tT & 0.1111111 & 0.1111111 & 0.1111111 & 0.6666667\\\\\n\\end{tabular}\n",
            "text/plain": [
              "  A         C         G         T        \n",
              "A 0.6666667 0.1111111 0.1111111 0.1111111\n",
              "C 0.1111111 0.6666667 0.1111111 0.1111111\n",
              "G 0.1111111 0.1111111 0.6666667 0.1111111\n",
              "T 0.1111111 0.1111111 0.1111111 0.6666667"
            ]
          },
          "metadata": {}
        }
      ]
    },
    {
      "cell_type": "code",
      "source": [
        "P %*% P"
      ],
      "metadata": {
        "colab": {
          "base_uri": "https://localhost:8080/",
          "height": 192
        },
        "id": "vcKtMXyq_YLu",
        "outputId": "0c4f72f6-5bd0-46da-8b2f-318cde23bae6"
      },
      "execution_count": null,
      "outputs": [
        {
          "output_type": "display_data",
          "data": {
            "text/html": [
              "<table class=\"dataframe\">\n",
              "<caption>A matrix: 4 × 4 of type dbl</caption>\n",
              "<thead>\n",
              "\t<tr><th></th><th scope=col>A</th><th scope=col>C</th><th scope=col>G</th><th scope=col>T</th></tr>\n",
              "</thead>\n",
              "<tbody>\n",
              "\t<tr><th scope=row>A</th><td>0.4814815</td><td>0.1728395</td><td>0.1728395</td><td>0.1728395</td></tr>\n",
              "\t<tr><th scope=row>C</th><td>0.1728395</td><td>0.4814815</td><td>0.1728395</td><td>0.1728395</td></tr>\n",
              "\t<tr><th scope=row>G</th><td>0.1728395</td><td>0.1728395</td><td>0.4814815</td><td>0.1728395</td></tr>\n",
              "\t<tr><th scope=row>T</th><td>0.1728395</td><td>0.1728395</td><td>0.1728395</td><td>0.4814815</td></tr>\n",
              "</tbody>\n",
              "</table>\n"
            ],
            "text/markdown": "\nA matrix: 4 × 4 of type dbl\n\n| <!--/--> | A | C | G | T |\n|---|---|---|---|---|\n| A | 0.4814815 | 0.1728395 | 0.1728395 | 0.1728395 |\n| C | 0.1728395 | 0.4814815 | 0.1728395 | 0.1728395 |\n| G | 0.1728395 | 0.1728395 | 0.4814815 | 0.1728395 |\n| T | 0.1728395 | 0.1728395 | 0.1728395 | 0.4814815 |\n\n",
            "text/latex": "A matrix: 4 × 4 of type dbl\n\\begin{tabular}{r|llll}\n  & A & C & G & T\\\\\n\\hline\n\tA & 0.4814815 & 0.1728395 & 0.1728395 & 0.1728395\\\\\n\tC & 0.1728395 & 0.4814815 & 0.1728395 & 0.1728395\\\\\n\tG & 0.1728395 & 0.1728395 & 0.4814815 & 0.1728395\\\\\n\tT & 0.1728395 & 0.1728395 & 0.1728395 & 0.4814815\\\\\n\\end{tabular}\n",
            "text/plain": [
              "  A         C         G         T        \n",
              "A 0.4814815 0.1728395 0.1728395 0.1728395\n",
              "C 0.1728395 0.4814815 0.1728395 0.1728395\n",
              "G 0.1728395 0.1728395 0.4814815 0.1728395\n",
              "T 0.1728395 0.1728395 0.1728395 0.4814815"
            ]
          },
          "metadata": {}
        }
      ]
    },
    {
      "cell_type": "markdown",
      "source": [],
      "metadata": {
        "id": "z5uiivmU_1UJ"
      }
    },
    {
      "cell_type": "code",
      "source": [
        "P %*% P %*% P"
      ],
      "metadata": {
        "colab": {
          "base_uri": "https://localhost:8080/",
          "height": 192
        },
        "id": "n2WrP5yI_iNa",
        "outputId": "539463f8-0200-4558-f571-c66660a68193"
      },
      "execution_count": null,
      "outputs": [
        {
          "output_type": "display_data",
          "data": {
            "text/html": [
              "<table class=\"dataframe\">\n",
              "<caption>A matrix: 4 × 4 of type dbl</caption>\n",
              "<thead>\n",
              "\t<tr><th></th><th scope=col>A</th><th scope=col>C</th><th scope=col>G</th><th scope=col>T</th></tr>\n",
              "</thead>\n",
              "<tbody>\n",
              "\t<tr><th scope=row>A</th><td>0.3786008</td><td>0.2071331</td><td>0.2071331</td><td>0.2071331</td></tr>\n",
              "\t<tr><th scope=row>C</th><td>0.2071331</td><td>0.3786008</td><td>0.2071331</td><td>0.2071331</td></tr>\n",
              "\t<tr><th scope=row>G</th><td>0.2071331</td><td>0.2071331</td><td>0.3786008</td><td>0.2071331</td></tr>\n",
              "\t<tr><th scope=row>T</th><td>0.2071331</td><td>0.2071331</td><td>0.2071331</td><td>0.3786008</td></tr>\n",
              "</tbody>\n",
              "</table>\n"
            ],
            "text/markdown": "\nA matrix: 4 × 4 of type dbl\n\n| <!--/--> | A | C | G | T |\n|---|---|---|---|---|\n| A | 0.3786008 | 0.2071331 | 0.2071331 | 0.2071331 |\n| C | 0.2071331 | 0.3786008 | 0.2071331 | 0.2071331 |\n| G | 0.2071331 | 0.2071331 | 0.3786008 | 0.2071331 |\n| T | 0.2071331 | 0.2071331 | 0.2071331 | 0.3786008 |\n\n",
            "text/latex": "A matrix: 4 × 4 of type dbl\n\\begin{tabular}{r|llll}\n  & A & C & G & T\\\\\n\\hline\n\tA & 0.3786008 & 0.2071331 & 0.2071331 & 0.2071331\\\\\n\tC & 0.2071331 & 0.3786008 & 0.2071331 & 0.2071331\\\\\n\tG & 0.2071331 & 0.2071331 & 0.3786008 & 0.2071331\\\\\n\tT & 0.2071331 & 0.2071331 & 0.2071331 & 0.3786008\\\\\n\\end{tabular}\n",
            "text/plain": [
              "  A         C         G         T        \n",
              "A 0.3786008 0.2071331 0.2071331 0.2071331\n",
              "C 0.2071331 0.3786008 0.2071331 0.2071331\n",
              "G 0.2071331 0.2071331 0.3786008 0.2071331\n",
              "T 0.2071331 0.2071331 0.2071331 0.3786008"
            ]
          },
          "metadata": {}
        }
      ]
    },
    {
      "cell_type": "code",
      "source": [
        "P %*% P %*% P %*% P"
      ],
      "metadata": {
        "colab": {
          "base_uri": "https://localhost:8080/",
          "height": 192
        },
        "id": "RXBeLXV-_lON",
        "outputId": "5b44f5cf-4528-4d5f-9e4f-a6d4e3e6d75d"
      },
      "execution_count": null,
      "outputs": [
        {
          "output_type": "display_data",
          "data": {
            "text/html": [
              "<table class=\"dataframe\">\n",
              "<caption>A matrix: 4 × 4 of type dbl</caption>\n",
              "<thead>\n",
              "\t<tr><th></th><th scope=col>A</th><th scope=col>C</th><th scope=col>G</th><th scope=col>T</th></tr>\n",
              "</thead>\n",
              "<tbody>\n",
              "\t<tr><th scope=row>A</th><td>0.3214449</td><td>0.2261850</td><td>0.2261850</td><td>0.2261850</td></tr>\n",
              "\t<tr><th scope=row>C</th><td>0.2261850</td><td>0.3214449</td><td>0.2261850</td><td>0.2261850</td></tr>\n",
              "\t<tr><th scope=row>G</th><td>0.2261850</td><td>0.2261850</td><td>0.3214449</td><td>0.2261850</td></tr>\n",
              "\t<tr><th scope=row>T</th><td>0.2261850</td><td>0.2261850</td><td>0.2261850</td><td>0.3214449</td></tr>\n",
              "</tbody>\n",
              "</table>\n"
            ],
            "text/markdown": "\nA matrix: 4 × 4 of type dbl\n\n| <!--/--> | A | C | G | T |\n|---|---|---|---|---|\n| A | 0.3214449 | 0.2261850 | 0.2261850 | 0.2261850 |\n| C | 0.2261850 | 0.3214449 | 0.2261850 | 0.2261850 |\n| G | 0.2261850 | 0.2261850 | 0.3214449 | 0.2261850 |\n| T | 0.2261850 | 0.2261850 | 0.2261850 | 0.3214449 |\n\n",
            "text/latex": "A matrix: 4 × 4 of type dbl\n\\begin{tabular}{r|llll}\n  & A & C & G & T\\\\\n\\hline\n\tA & 0.3214449 & 0.2261850 & 0.2261850 & 0.2261850\\\\\n\tC & 0.2261850 & 0.3214449 & 0.2261850 & 0.2261850\\\\\n\tG & 0.2261850 & 0.2261850 & 0.3214449 & 0.2261850\\\\\n\tT & 0.2261850 & 0.2261850 & 0.2261850 & 0.3214449\\\\\n\\end{tabular}\n",
            "text/plain": [
              "  A         C         G         T        \n",
              "A 0.3214449 0.2261850 0.2261850 0.2261850\n",
              "C 0.2261850 0.3214449 0.2261850 0.2261850\n",
              "G 0.2261850 0.2261850 0.3214449 0.2261850\n",
              "T 0.2261850 0.2261850 0.2261850 0.3214449"
            ]
          },
          "metadata": {}
        }
      ]
    },
    {
      "cell_type": "code",
      "source": [
        "P %*% P %*% P %*% P %*% P %*% P %*% P "
      ],
      "metadata": {
        "colab": {
          "base_uri": "https://localhost:8080/",
          "height": 192
        },
        "id": "IbYCvHud_o3X",
        "outputId": "bf994564-64e5-4aeb-e239-8b78bb454e75"
      },
      "execution_count": null,
      "outputs": [
        {
          "output_type": "display_data",
          "data": {
            "text/html": [
              "<table class=\"dataframe\">\n",
              "<caption>A matrix: 4 × 4 of type dbl</caption>\n",
              "<thead>\n",
              "\t<tr><th></th><th scope=col>A</th><th scope=col>C</th><th scope=col>G</th><th scope=col>T</th></tr>\n",
              "</thead>\n",
              "<tbody>\n",
              "\t<tr><th scope=row>A</th><td>0.2622505</td><td>0.2459165</td><td>0.2459165</td><td>0.2459165</td></tr>\n",
              "\t<tr><th scope=row>C</th><td>0.2459165</td><td>0.2622505</td><td>0.2459165</td><td>0.2459165</td></tr>\n",
              "\t<tr><th scope=row>G</th><td>0.2459165</td><td>0.2459165</td><td>0.2622505</td><td>0.2459165</td></tr>\n",
              "\t<tr><th scope=row>T</th><td>0.2459165</td><td>0.2459165</td><td>0.2459165</td><td>0.2622505</td></tr>\n",
              "</tbody>\n",
              "</table>\n"
            ],
            "text/markdown": "\nA matrix: 4 × 4 of type dbl\n\n| <!--/--> | A | C | G | T |\n|---|---|---|---|---|\n| A | 0.2622505 | 0.2459165 | 0.2459165 | 0.2459165 |\n| C | 0.2459165 | 0.2622505 | 0.2459165 | 0.2459165 |\n| G | 0.2459165 | 0.2459165 | 0.2622505 | 0.2459165 |\n| T | 0.2459165 | 0.2459165 | 0.2459165 | 0.2622505 |\n\n",
            "text/latex": "A matrix: 4 × 4 of type dbl\n\\begin{tabular}{r|llll}\n  & A & C & G & T\\\\\n\\hline\n\tA & 0.2622505 & 0.2459165 & 0.2459165 & 0.2459165\\\\\n\tC & 0.2459165 & 0.2622505 & 0.2459165 & 0.2459165\\\\\n\tG & 0.2459165 & 0.2459165 & 0.2622505 & 0.2459165\\\\\n\tT & 0.2459165 & 0.2459165 & 0.2459165 & 0.2622505\\\\\n\\end{tabular}\n",
            "text/plain": [
              "  A         C         G         T        \n",
              "A 0.2622505 0.2459165 0.2459165 0.2459165\n",
              "C 0.2459165 0.2622505 0.2459165 0.2459165\n",
              "G 0.2459165 0.2459165 0.2622505 0.2459165\n",
              "T 0.2459165 0.2459165 0.2459165 0.2622505"
            ]
          },
          "metadata": {}
        }
      ]
    },
    {
      "cell_type": "code",
      "source": [
        "P %*% P %*% P %*% P %*% P %*% P %*% P %*% P %*% P %*% P %*% P %*% P"
      ],
      "metadata": {
        "colab": {
          "base_uri": "https://localhost:8080/",
          "height": 192
        },
        "id": "3gZLxs63WbsF",
        "outputId": "394ebec1-d937-46d6-a065-16b2b4b5e5eb"
      },
      "execution_count": null,
      "outputs": [
        {
          "output_type": "display_data",
          "data": {
            "text/html": [
              "<table class=\"dataframe\">\n",
              "<caption>A matrix: 4 × 4 of type dbl</caption>\n",
              "<thead>\n",
              "\t<tr><th></th><th scope=col>A</th><th scope=col>C</th><th scope=col>G</th><th scope=col>T</th></tr>\n",
              "</thead>\n",
              "<tbody>\n",
              "\t<tr><th scope=row>A</th><td>0.2506483</td><td>0.2497839</td><td>0.2497839</td><td>0.2497839</td></tr>\n",
              "\t<tr><th scope=row>C</th><td>0.2497839</td><td>0.2506483</td><td>0.2497839</td><td>0.2497839</td></tr>\n",
              "\t<tr><th scope=row>G</th><td>0.2497839</td><td>0.2497839</td><td>0.2506483</td><td>0.2497839</td></tr>\n",
              "\t<tr><th scope=row>T</th><td>0.2497839</td><td>0.2497839</td><td>0.2497839</td><td>0.2506483</td></tr>\n",
              "</tbody>\n",
              "</table>\n"
            ],
            "text/markdown": "\nA matrix: 4 × 4 of type dbl\n\n| <!--/--> | A | C | G | T |\n|---|---|---|---|---|\n| A | 0.2506483 | 0.2497839 | 0.2497839 | 0.2497839 |\n| C | 0.2497839 | 0.2506483 | 0.2497839 | 0.2497839 |\n| G | 0.2497839 | 0.2497839 | 0.2506483 | 0.2497839 |\n| T | 0.2497839 | 0.2497839 | 0.2497839 | 0.2506483 |\n\n",
            "text/latex": "A matrix: 4 × 4 of type dbl\n\\begin{tabular}{r|llll}\n  & A & C & G & T\\\\\n\\hline\n\tA & 0.2506483 & 0.2497839 & 0.2497839 & 0.2497839\\\\\n\tC & 0.2497839 & 0.2506483 & 0.2497839 & 0.2497839\\\\\n\tG & 0.2497839 & 0.2497839 & 0.2506483 & 0.2497839\\\\\n\tT & 0.2497839 & 0.2497839 & 0.2497839 & 0.2506483\\\\\n\\end{tabular}\n",
            "text/plain": [
              "  A         C         G         T        \n",
              "A 0.2506483 0.2497839 0.2497839 0.2497839\n",
              "C 0.2497839 0.2506483 0.2497839 0.2497839\n",
              "G 0.2497839 0.2497839 0.2506483 0.2497839\n",
              "T 0.2497839 0.2497839 0.2497839 0.2506483"
            ]
          },
          "metadata": {}
        }
      ]
    },
    {
      "cell_type": "markdown",
      "source": [
        "What are your observations?\n",
        "\n",
        "What happens to the frequency of each nucleotide in our sequence, as subsitutions go on?"
      ],
      "metadata": {
        "id": "5OG6nN1PCpIt"
      }
    },
    {
      "cell_type": "markdown",
      "source": [
        "# Equilibrium frequencies\n",
        "\n",
        "Note that for very long times $t$\n",
        "\n",
        "$P_{ij}^{t \\rightarrow \\infty} = \\pi_j \\quad \\text{(rows are all the same)}$\n",
        "\n",
        "where the vector $\\pi = (\\pi_A,\\pi_C, \\pi_G, \\pi_T)^T$ denotes **equilibrium frequencies**. From above it is clear that, no matter what sequence we start with, after long enough time the frequencies of nuclotides are determined by the equlibrium frequences.\n",
        "\n",
        "Further on, equilibirum frequencies satisfy:\n",
        "\n",
        "$\\sum\\nolimits_i \\pi_i P_{ij} = \\pi_j $, or without index notation: $\\pi^T P = \\pi^T$\n",
        "\n",
        "* What are the equilibrium frequencies of our transition matrix $P$\n",
        "* Why are they so \"boring\"?\n",
        "* Do you think equilibrium frequencies are of biological relevance when we are modeling substitution rates?\n",
        "* Time permitting, can you make a transition matrix with more interesting equlibrium frequencies? For examle, GC-content should be 55%, AT-content 45%? What would you have to do? "
      ],
      "metadata": {
        "id": "B60n36DlXKhm"
      }
    },
    {
      "cell_type": "markdown",
      "source": [
        "# Likelihood of an observed sequence, maximum likelihood principle\n",
        "\n",
        "With the tools we have now we can now formulate the following model, based on a transition matrix $P$:\n",
        "\n",
        "```\n",
        "      ancestor ~ equilirium frequencies\n",
        "  P(t1) /  \\ P(t2)\n",
        "       /    \\\n",
        "species1     species2\n",
        "```\n",
        "\n",
        "-  An ancestor sequence is generated using the equilibrium distribution. Let $X^a[m]$ denote the $m$-th nucleotide of an ancestral DNA sequence of length $l$. Then:\n",
        " \n",
        "  $X^a[m] \\sim \\pi \\; \\text{for}\\, i=1,\\ldots, l$.\n",
        "\n",
        "- This ancestral sequence is observed after $t=t_1$ time steps for species 1 and $t+t_2$ steps for species 2.\n",
        "\n",
        "  Let $X^1[m]$  and $X^2[m]$ denote the $m$-th nucleotide in species 1 and species 2. Then:\n",
        "\n",
        "  $\\begin{aligned}\n",
        "  \\text{Pr}[X^1[m] = x^1[m], X^2[m] = x^2[m]] &= \\sum\\nolimits_k \\text{Pr}[X^1[m]| X^a[k]]\\, \\text{Pr}[X^2[m]|X^a[k]] \\text{Pr}[X^a[m] = k] \\\\\n",
        "  &= \\sum\\nolimits_k \\pi_k P(t_1)_{k,x^1[m]}P(t_2)_{k,x^2[m]}\n",
        "  \\end{aligned}$\n",
        "\n",
        "  And for the whole sequence we need to multiply probabilities:\n",
        "\n",
        "  $\\text{Pr}[\\{X^1[m], X^2[m]\\} = \\{x^1[m],x^2[m]\\}] = \\prod_{m=1}^l \\sum\\nolimits_k \\pi_k (P^{t_1})_{k\\,x^1[m]}(P^{t_2})_{k\\,x^2[m]} $\n",
        "\n",
        "  which is also called the **likelihood** of the observations ($\\{x^1[m], x^2[m]\\}$) under our model, consiting of $P$ (and thereby, $\\pi$) and $\\{t_1,t_2\\}$. The **log likelihood** is \n",
        "\n",
        "  $l(\\{x^1[m], x^2[m]\\}) = \\log\\big(\\text{Pr}[\\{x^1[m],x^2[m]\\}]\\big)  = \\sum_{m=1}^l \\log\\big(\\sum\\nolimits_k \\pi_k P^{t_1}_{k\\,x^1[m]} P^{t_2}_{kx^2[m]}\\big)$ \n",
        "\n",
        "Importantly, the likelihood depends on model parameters while the observed data (i.e., nucleotides) are fixed.  Therefore, it is often viewed as a function of these parameters and sometimes written as\n",
        "\n",
        "$l\\big(\\{P_{ij}\\}, t_1, t_2; \\{x^1[m], x^2[m]\\}\\big) \\; \\text{or just}\\; l\\big( \\{P_{ij}\\}, t_1, t_2\\big)$\n",
        "\n",
        "It is then possible to use observed data (in our case, the nucleotides $\\{x^1[m], x^2[m]\\}$) to determine the best-fitting model via **maximum likelihood**; that is, find the model paramters that maximize the likelihood:\n",
        "\n",
        "$\n",
        "\\{P^*_{ij}\\}, t_1^*, t_2^* = \\text{argmax}_{P_{ij},t_1, t_2} \\; l\\big( \\{P_{ij}\\}, t_1, t_2\\big)\n",
        "$"
      ],
      "metadata": {
        "id": "GOje1rJHbTOF"
      }
    },
    {
      "cell_type": "markdown",
      "source": [
        "Next, we will generate an observed sequenc according to the model we discussed and then use the maximum likelihood principle to \"re-discover\" the value for $t$."
      ],
      "metadata": {
        "id": "Ld4dz7twzZ0g"
      }
    },
    {
      "cell_type": "code",
      "source": [
        "#- we know our equilibrium frequences, more on that later\n",
        "eq_freqs = rep(1/4,4)\n",
        "\n",
        "#- simulate ancestral sequence, 100 nucleotides\n",
        "set.seed(12342135)\n",
        "seq_anc <- sample(NUCLEOTIDES, size =100 , prob = eq_freqs, replace = TRUE)\n",
        "\n",
        "#- take three time steps to the observed sequence\n",
        "P1 = P\n",
        "P2 = P %*% P \n",
        "seq_1 <- sapply(seq_anc, \\(nuc) sample(NUCLEOTIDES, size = 1, prob = P1[nuc,]))\n",
        "seq_2 <- sapply(seq_anc, \\(nuc) sample(NUCLEOTIDES, size = 1, prob = P2[nuc,]))\n",
        "print_seqs(seq_1, seq_2)\n"
      ],
      "metadata": {
        "colab": {
          "base_uri": "https://localhost:8080/"
        },
        "id": "yp8cRrMdzk6B",
        "outputId": "66827717-9fef-45db-da3c-5b966ed88228"
      },
      "execution_count": null,
      "outputs": [
        {
          "output_type": "stream",
          "name": "stdout",
          "text": [
            "GCGCACTCTTCGACGATTCAATATTTGATCCTGAACCTAACGGCTAGCCTGTTTGTAACTAACCCCCTGTCATTGGGCCATTTCGGTAGTTCCAAAAGAT\n",
            "| | || | ||  |  || |||      ||||| |||||||  || | |||| |||  | |||||||||||||    || | ||  |||   |||||   \n",
            "TCACTATATCTGAGGAACCTCAATTTGAAGTATACTGGGGAGGGAACCGATGTCACAAATTGGTGAACTGACGTGGGAAAGTAAGGCCATTCTTTTGGAT\n"
          ]
        }
      ]
    },
    {
      "cell_type": "markdown",
      "source": [
        "Now we forget about the ancestral sequence (not observed) and calculate the likelihood for different values of $t$:"
      ],
      "metadata": {
        "id": "Gh0bS-3d1G3T"
      }
    },
    {
      "cell_type": "code",
      "source": [
        "if(require(\"expm\") == FALSE){\n",
        "  install.packages(\"expm\")\n",
        "  library(expm)\n",
        "}\n",
        "\n",
        "get_likelihood <- function(seq_1, seq_2, t1, t2){\n",
        "  #- transition from ancestor to observed\n",
        "  Pt1 <- P %^% t1\n",
        "  Pt2 <- P %^% t2\n",
        " \n",
        "  #- for each nucleotide position:\n",
        "  nuc_fu <- function(pos){\n",
        "    nuc1 <- seq_1[pos]\n",
        "    nuc2 <- seq_2[pos]\n",
        "    res  <- (eq_freqs * Pt1[,nuc1] * Pt2[,nuc2]) |> sum() |> log()\n",
        "  }\n",
        "  \n",
        "  loglikes <- sapply(seq_len(seq_1 |> length()), \\(x) nuc_fu(x) )\n",
        "\n",
        "  #- log likelihood for observed sequence\n",
        "  loglik <- loglikes |> sum()\n",
        "\n",
        "  return(loglik)\n",
        "}\n",
        "\n",
        "my_ts <- expand.grid(1:5, 1:5)\n",
        "liks  <- apply(my_ts, 1, function(x) get_likelihood(seq_1, seq_2, x[1], x[2]))\n",
        "liks\n"
      ],
      "metadata": {
        "colab": {
          "base_uri": "https://localhost:8080/",
          "height": 69
        },
        "id": "rXc5zvUi1GCS",
        "outputId": "5f100b2c-46fe-4b26-e112-8b56c0303a5c"
      },
      "execution_count": null,
      "outputs": [
        {
          "output_type": "display_data",
          "data": {
            "text/html": [
              "<style>\n",
              ".list-inline {list-style: none; margin:0; padding: 0}\n",
              ".list-inline>li {display: inline-block}\n",
              ".list-inline>li:not(:last-child)::after {content: \"\\00b7\"; padding: 0 .5ex}\n",
              "</style>\n",
              "<ol class=list-inline><li>-275.23745459016</li><li>-273.150226533078</li><li>-273.913659917189</li><li>-275.030529843506</li><li>-275.897007318417</li><li>-273.150226533078</li><li>-273.913659917189</li><li>-275.030529843506</li><li>-275.897007318417</li><li>-276.462051373193</li><li>-273.913659917189</li><li>-275.030529843506</li><li>-275.897007318417</li><li>-276.462051373193</li><li>-276.80340009976</li><li>-275.030529843506</li><li>-275.897007318417</li><li>-276.462051373193</li><li>-276.80340009976</li><li>-277.001814875391</li><li>-275.897007318417</li><li>-276.462051373193</li><li>-276.80340009976</li><li>-277.001814875391</li><li>-277.114810542624</li></ol>\n"
            ],
            "text/markdown": "1. -275.23745459016\n2. -273.150226533078\n3. -273.913659917189\n4. -275.030529843506\n5. -275.897007318417\n6. -273.150226533078\n7. -273.913659917189\n8. -275.030529843506\n9. -275.897007318417\n10. -276.462051373193\n11. -273.913659917189\n12. -275.030529843506\n13. -275.897007318417\n14. -276.462051373193\n15. -276.80340009976\n16. -275.030529843506\n17. -275.897007318417\n18. -276.462051373193\n19. -276.80340009976\n20. -277.001814875391\n21. -275.897007318417\n22. -276.462051373193\n23. -276.80340009976\n24. -277.001814875391\n25. -277.114810542624\n\n\n",
            "text/latex": "\\begin{enumerate*}\n\\item -275.23745459016\n\\item -273.150226533078\n\\item -273.913659917189\n\\item -275.030529843506\n\\item -275.897007318417\n\\item -273.150226533078\n\\item -273.913659917189\n\\item -275.030529843506\n\\item -275.897007318417\n\\item -276.462051373193\n\\item -273.913659917189\n\\item -275.030529843506\n\\item -275.897007318417\n\\item -276.462051373193\n\\item -276.80340009976\n\\item -275.030529843506\n\\item -275.897007318417\n\\item -276.462051373193\n\\item -276.80340009976\n\\item -277.001814875391\n\\item -275.897007318417\n\\item -276.462051373193\n\\item -276.80340009976\n\\item -277.001814875391\n\\item -277.114810542624\n\\end{enumerate*}\n",
            "text/plain": [
              " [1] -275.2375 -273.1502 -273.9137 -275.0305 -275.8970 -273.1502 -273.9137\n",
              " [8] -275.0305 -275.8970 -276.4621 -273.9137 -275.0305 -275.8970 -276.4621\n",
              "[15] -276.8034 -275.0305 -275.8970 -276.4621 -276.8034 -277.0018 -275.8970\n",
              "[22] -276.4621 -276.8034 -277.0018 -277.1148"
            ]
          },
          "metadata": {}
        }
      ]
    },
    {
      "cell_type": "markdown",
      "source": [
        "Now we plot our result so we can better assess"
      ],
      "metadata": {
        "id": "W4LaaKHUWaKX"
      }
    },
    {
      "cell_type": "code",
      "source": [
        "df = data.frame(t1 = my_ts[,1], t2 = my_ts[,2], log_likelihood = liks)\n",
        "df"
      ],
      "metadata": {
        "colab": {
          "base_uri": "https://localhost:8080/",
          "height": 882
        },
        "id": "MCIW-kxDWdT2",
        "outputId": "7a6bd43e-fb51-4d1e-a3f5-f4f92f6f4bd2"
      },
      "execution_count": null,
      "outputs": [
        {
          "output_type": "display_data",
          "data": {
            "text/html": [
              "<table class=\"dataframe\">\n",
              "<caption>A data.frame: 25 × 3</caption>\n",
              "<thead>\n",
              "\t<tr><th scope=col>t1</th><th scope=col>t2</th><th scope=col>log_likelihood</th></tr>\n",
              "\t<tr><th scope=col>&lt;int&gt;</th><th scope=col>&lt;int&gt;</th><th scope=col>&lt;dbl&gt;</th></tr>\n",
              "</thead>\n",
              "<tbody>\n",
              "\t<tr><td>1</td><td>1</td><td>-275.2375</td></tr>\n",
              "\t<tr><td>2</td><td>1</td><td>-273.1502</td></tr>\n",
              "\t<tr><td>3</td><td>1</td><td>-273.9137</td></tr>\n",
              "\t<tr><td>4</td><td>1</td><td>-275.0305</td></tr>\n",
              "\t<tr><td>5</td><td>1</td><td>-275.8970</td></tr>\n",
              "\t<tr><td>1</td><td>2</td><td>-273.1502</td></tr>\n",
              "\t<tr><td>2</td><td>2</td><td>-273.9137</td></tr>\n",
              "\t<tr><td>3</td><td>2</td><td>-275.0305</td></tr>\n",
              "\t<tr><td>4</td><td>2</td><td>-275.8970</td></tr>\n",
              "\t<tr><td>5</td><td>2</td><td>-276.4621</td></tr>\n",
              "\t<tr><td>1</td><td>3</td><td>-273.9137</td></tr>\n",
              "\t<tr><td>2</td><td>3</td><td>-275.0305</td></tr>\n",
              "\t<tr><td>3</td><td>3</td><td>-275.8970</td></tr>\n",
              "\t<tr><td>4</td><td>3</td><td>-276.4621</td></tr>\n",
              "\t<tr><td>5</td><td>3</td><td>-276.8034</td></tr>\n",
              "\t<tr><td>1</td><td>4</td><td>-275.0305</td></tr>\n",
              "\t<tr><td>2</td><td>4</td><td>-275.8970</td></tr>\n",
              "\t<tr><td>3</td><td>4</td><td>-276.4621</td></tr>\n",
              "\t<tr><td>4</td><td>4</td><td>-276.8034</td></tr>\n",
              "\t<tr><td>5</td><td>4</td><td>-277.0018</td></tr>\n",
              "\t<tr><td>1</td><td>5</td><td>-275.8970</td></tr>\n",
              "\t<tr><td>2</td><td>5</td><td>-276.4621</td></tr>\n",
              "\t<tr><td>3</td><td>5</td><td>-276.8034</td></tr>\n",
              "\t<tr><td>4</td><td>5</td><td>-277.0018</td></tr>\n",
              "\t<tr><td>5</td><td>5</td><td>-277.1148</td></tr>\n",
              "</tbody>\n",
              "</table>\n"
            ],
            "text/markdown": "\nA data.frame: 25 × 3\n\n| t1 &lt;int&gt; | t2 &lt;int&gt; | log_likelihood &lt;dbl&gt; |\n|---|---|---|\n| 1 | 1 | -275.2375 |\n| 2 | 1 | -273.1502 |\n| 3 | 1 | -273.9137 |\n| 4 | 1 | -275.0305 |\n| 5 | 1 | -275.8970 |\n| 1 | 2 | -273.1502 |\n| 2 | 2 | -273.9137 |\n| 3 | 2 | -275.0305 |\n| 4 | 2 | -275.8970 |\n| 5 | 2 | -276.4621 |\n| 1 | 3 | -273.9137 |\n| 2 | 3 | -275.0305 |\n| 3 | 3 | -275.8970 |\n| 4 | 3 | -276.4621 |\n| 5 | 3 | -276.8034 |\n| 1 | 4 | -275.0305 |\n| 2 | 4 | -275.8970 |\n| 3 | 4 | -276.4621 |\n| 4 | 4 | -276.8034 |\n| 5 | 4 | -277.0018 |\n| 1 | 5 | -275.8970 |\n| 2 | 5 | -276.4621 |\n| 3 | 5 | -276.8034 |\n| 4 | 5 | -277.0018 |\n| 5 | 5 | -277.1148 |\n\n",
            "text/latex": "A data.frame: 25 × 3\n\\begin{tabular}{lll}\n t1 & t2 & log\\_likelihood\\\\\n <int> & <int> & <dbl>\\\\\n\\hline\n\t 1 & 1 & -275.2375\\\\\n\t 2 & 1 & -273.1502\\\\\n\t 3 & 1 & -273.9137\\\\\n\t 4 & 1 & -275.0305\\\\\n\t 5 & 1 & -275.8970\\\\\n\t 1 & 2 & -273.1502\\\\\n\t 2 & 2 & -273.9137\\\\\n\t 3 & 2 & -275.0305\\\\\n\t 4 & 2 & -275.8970\\\\\n\t 5 & 2 & -276.4621\\\\\n\t 1 & 3 & -273.9137\\\\\n\t 2 & 3 & -275.0305\\\\\n\t 3 & 3 & -275.8970\\\\\n\t 4 & 3 & -276.4621\\\\\n\t 5 & 3 & -276.8034\\\\\n\t 1 & 4 & -275.0305\\\\\n\t 2 & 4 & -275.8970\\\\\n\t 3 & 4 & -276.4621\\\\\n\t 4 & 4 & -276.8034\\\\\n\t 5 & 4 & -277.0018\\\\\n\t 1 & 5 & -275.8970\\\\\n\t 2 & 5 & -276.4621\\\\\n\t 3 & 5 & -276.8034\\\\\n\t 4 & 5 & -277.0018\\\\\n\t 5 & 5 & -277.1148\\\\\n\\end{tabular}\n",
            "text/plain": [
              "   t1 t2 log_likelihood\n",
              "1  1  1  -275.2375     \n",
              "2  2  1  -273.1502     \n",
              "3  3  1  -273.9137     \n",
              "4  4  1  -275.0305     \n",
              "5  5  1  -275.8970     \n",
              "6  1  2  -273.1502     \n",
              "7  2  2  -273.9137     \n",
              "8  3  2  -275.0305     \n",
              "9  4  2  -275.8970     \n",
              "10 5  2  -276.4621     \n",
              "11 1  3  -273.9137     \n",
              "12 2  3  -275.0305     \n",
              "13 3  3  -275.8970     \n",
              "14 4  3  -276.4621     \n",
              "15 5  3  -276.8034     \n",
              "16 1  4  -275.0305     \n",
              "17 2  4  -275.8970     \n",
              "18 3  4  -276.4621     \n",
              "19 4  4  -276.8034     \n",
              "20 5  4  -277.0018     \n",
              "21 1  5  -275.8970     \n",
              "22 2  5  -276.4621     \n",
              "23 3  5  -276.8034     \n",
              "24 4  5  -277.0018     \n",
              "25 5  5  -277.1148     "
            ]
          },
          "metadata": {}
        }
      ]
    },
    {
      "cell_type": "code",
      "source": [
        "library(ggplot2)\n",
        "ggplot(df, aes(x = t1, y = t2, fill = log_likelihood)) +\n",
        "  geom_tile(color = \"white\",\n",
        "            lwd = 1.5,\n",
        "            linetype = 1)  + theme_minimal()"
      ],
      "metadata": {
        "colab": {
          "base_uri": "https://localhost:8080/",
          "height": 437
        },
        "id": "XJ9W03l2XBUQ",
        "outputId": "a66cd538-7ba0-47db-e33f-ec6d7c9c8a21"
      },
      "execution_count": null,
      "outputs": [
        {
          "output_type": "display_data",
          "data": {
            "text/plain": [
              "plot without title"
            ],
            "image/png": "[encoded data removed]"
          },
          "metadata": {
            "image/png": {
              "width": 420,
              "height": 420
            }
          }
        }
      ]
    },
    {
      "cell_type": "markdown",
      "source": [
        "- Do we get the right result?\n",
        "\n",
        "- Do you observe a symmetry? \n",
        "\n",
        "- Why might this be reasonable?"
      ],
      "metadata": {
        "id": "vG5hvXOlYYfc"
      }
    }
  ]
}