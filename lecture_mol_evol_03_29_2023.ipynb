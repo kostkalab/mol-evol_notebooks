{
  "nbformat": 4,
  "nbformat_minor": 0,
  "metadata": {
    "colab": {
      "provenance": [],
      "authorship_tag": "ABX9TyN7wQ6C0IDGF+rMq156MrYy",
      "include_colab_link": true
    },
    "kernelspec": {
      "name": "ir",
      "display_name": "R"
    },
    "language_info": {
      "name": "R"
    }
  },
  "cells": [
    {
      "cell_type": "markdown",
      "metadata": {
        "id": "view-in-github",
        "colab_type": "text"
      },
      "source": [
        "<a href=\"https://colab.research.google.com/github/kostkalab/mol-evol_notebooks/blob/main/lecture_mol_evol_03_29_2023.ipynb\" target=\"_parent\"><img src=\"https://colab.research.google.com/assets/colab-badge.svg\" alt=\"Open In Colab\"/></a>"
      ]
    },
    {
      "cell_type": "markdown",
      "source": [
        "# Neutral evolutionary rates\n",
        "\n",
        "In the lecture we discussed how we can use four-fold degenerate sites to \"gauge\" our evelutionary models (in terms of substitution rates).\n",
        "\n",
        "Here we now download an alignment and fit a neutral model.\n",
        "We will do that in parctice next.\n"
      ],
      "metadata": {
        "id": "9X1cHTHnV5N0"
      }
    },
    {
      "cell_type": "markdown",
      "source": [
        "### Download alignment data.\n",
        "\n",
        "> Indented block\n",
        "\n"
      ],
      "metadata": {
        "id": "LJnPGRqT_6zQ"
      }
    },
    {
      "cell_type": "code",
      "source": [
        "devtools::install_github(\"CshlSiepelLab/RPHAST\")"
      ],
      "metadata": {
        "colab": {
          "base_uri": "https://localhost:8080/"
        },
        "id": "CHl_kFlLWUvs",
        "outputId": "512115f3-5de4-4d1d-b36f-9ecc4f8a7565"
      },
      "execution_count": 4,
      "outputs": [
        {
          "output_type": "stream",
          "name": "stderr",
          "text": [
            "Skipping install of 'rphast' from a github remote, the SHA1 (2b68f4cb) has not changed since last install.\n",
            "  Use `force = TRUE` to force installation\n",
            "\n"
          ]
        }
      ]
    },
    {
      "cell_type": "markdown",
      "source": [
        "We download a coding sequence alignment from UCSC:"
      ],
      "metadata": {
        "id": "sNJoRVS9odgd"
      }
    },
    {
      "cell_type": "code",
      "source": [
        "library(rphast)\n",
        "\n",
        "#- download alignment and unzip\n",
        "url        <- 'https://hgdownload.soe.ucsc.edu/goldenPath/hg38/multiz7way/alignments/knownCanonical.exonNuc.fa.gz'\n",
        "tfle_name1 <- paste0(tempfile(),'.fa.gz')\n",
        "tfle_name2 <- tfle_name1 |> stringr::str_remove('\\\\.gz')\n",
        "tfle_name3 <- paste0(tempfile(),'.fa')\n",
        "download.file(url, tfle_name1)\n",
        "cmd        <- paste('gunzip', tfle_name1)\n",
        "system(cmd)\n",
        "\n",
        "#- only look at the first ~ 100k lines\n",
        "cmd <- paste( 'head -n 99995 ', tfle_name2 , ' > ', tfle_name3)\n",
        "system(cmd)\n",
        "\n",
        "#- read in alignment\n",
        "msa <- read.msa(tfle_name3, format = 'FASTA')\n",
        "# msa\n",
        "file.remove(tfle_name2) #- cleanup\n",
        "file.remove(tfle_name3) #- cleanup"
      ],
      "metadata": {
        "colab": {
          "base_uri": "https://localhost:8080/",
          "height": 52
        },
        "id": "5g6j29aWXUKp",
        "outputId": "1f3c7b1a-7dbf-4be7-90bf-205c794aced0"
      },
      "execution_count": 5,
      "outputs": [
        {
          "output_type": "display_data",
          "data": {
            "text/html": [
              "TRUE"
            ],
            "text/markdown": "TRUE",
            "text/latex": "TRUE",
            "text/plain": [
              "[1] TRUE"
            ]
          },
          "metadata": {}
        },
        {
          "output_type": "display_data",
          "data": {
            "text/html": [
              "TRUE"
            ],
            "text/markdown": "TRUE",
            "text/latex": "TRUE",
            "text/plain": [
              "[1] TRUE"
            ]
          },
          "metadata": {}
        }
      ]
    },
    {
      "cell_type": "markdown",
      "source": [
        "### Questions:\n",
        "\n",
        "- What species are in this alignment?\n",
        "- What was version of the assembly of the human genome was used?"
      ],
      "metadata": {
        "id": "wltolHFpAZaz"
      }
    },
    {
      "cell_type": "markdown",
      "source": [
        "### Download a neutral model"
      ],
      "metadata": {
        "id": "9dJYoY_-Avnb"
      }
    },
    {
      "cell_type": "markdown",
      "source": [
        "To get at an estimate for neutral substituion rates we would like to extract four-fold degenerate sites from this alignment. \n",
        "\n",
        "To do that, we can use functionality provided by `rphast`.\n",
        "\n",
        "However, we need annotation about the coding sequences in the alignment.\n",
        "We will use **human** GENCODE annoation for that. Do you have a guess what that is okay to do?"
      ],
      "metadata": {
        "id": "huJOJO5Vx-In"
      }
    },
    {
      "cell_type": "code",
      "source": [
        "#- download gff3 file from GENCODE (current annotation)\n",
        "url        <- 'https://hgdownload.soe.ucsc.edu/goldenPath/hg38/phastCons7way/hg38.phastCons7way.mod' \n",
        "tfle_name1 <- paste0(tempfile(),'.mod')\n",
        "download.file(url, tfle_name1)\n",
        "mod_n <- read.tm(tfle_name1)\n"
      ],
      "metadata": {
        "id": "nNySa1ocukV7"
      },
      "execution_count": 6,
      "outputs": []
    },
    {
      "cell_type": "markdown",
      "source": [
        "### Question\n",
        "- How many substitutions do you expect on the Chimpanzee lineage?\n",
        "- How many on human and chimpanzee lineages combined?\n",
        "- Plot the species tree"
      ],
      "metadata": {
        "id": "WRu6gEJfQ3IC"
      }
    },
    {
      "cell_type": "markdown",
      "source": [
        "### Assignment\n",
        "* Simulate an alignment of length 55 with the current model (we have done that using `simulate.msa`)\n",
        "* \"Stretch\" the species tree, so that each branch is 5x as long as in the neutral model (see `rphast::rescale.tree`)\n",
        "* Simulate a second alignment, using the \"stretched\" tree\n",
        "* Compare\n",
        "* Next, \"shrink\" the orignal tree, so that all branchlengths are 1/5 of the neural length\n",
        "* Simulate a third alignment\n",
        "* Compare"
      ],
      "metadata": {
        "id": "CHSwJu7ARC-2"
      }
    },
    {
      "cell_type": "code",
      "source": [
        "?rphast::rescale.tree"
      ],
      "metadata": {
        "id": "JXuyPkDTBjxT"
      },
      "execution_count": null,
      "outputs": []
    },
    {
      "cell_type": "code",
      "source": [
        "install.packages('ade4')"
      ],
      "metadata": {
        "id": "rwKdWfV2szsh",
        "outputId": "978781f7-5051-4477-eb5e-1b542302736d",
        "colab": {
          "base_uri": "https://localhost:8080/"
        }
      },
      "execution_count": 7,
      "outputs": [
        {
          "output_type": "stream",
          "name": "stderr",
          "text": [
            "Installing package into ‘/usr/local/lib/R/site-library’\n",
            "(as ‘lib’ is unspecified)\n",
            "\n",
            "also installing the dependencies ‘pixmap’, ‘sp’, ‘Rcpp’, ‘RcppArmadillo’\n",
            "\n",
            "\n"
          ]
        }
      ]
    },
    {
      "cell_type": "code",
      "source": [
        "plot(ade4::newick2phylog(mod_n$tree))"
      ],
      "metadata": {
        "id": "qfHeZyMBs4Nd",
        "outputId": "3cbf3765-a71f-43d8-8dda-11f6e54fd37e",
        "colab": {
          "base_uri": "https://localhost:8080/",
          "height": 437
        }
      },
      "execution_count": 8,
      "outputs": [
        {
          "output_type": "display_data",
          "data": {
            "text/plain": [
              "plot without title"
            ],
            "image/png": "[encoded data removed]"
          },
          "metadata": {
            "image/png": {
              "width": 420,
              "height": 420
            }
          }
        }
      ]
    },
    {
      "cell_type": "code",
      "source": [
        "mod_n"
      ],
      "metadata": {
        "id": "Pm-sKAv6tpFl",
        "outputId": "beb6aea9-6be0-4f1c-f238-7135572c3a92",
        "colab": {
          "base_uri": "https://localhost:8080/",
          "height": 232
        }
      },
      "execution_count": 9,
      "outputs": [
        {
          "output_type": "display_data",
          "data": {
            "text/plain": [
              "ALPHABET: A C G T \n",
              "ORDER: 0\n",
              "SUBST_MOD: REV\n",
              "TRAINING_LNL: -16383708.873581\n",
              "BACKGROUND: 0.211867 0.322407 0.234085 0.231641 \n",
              "RATE_MAT:\n",
              "  -1.104985    0.272548    0.597439    0.234998 \n",
              "   0.179103   -0.867492    0.187269    0.501120 \n",
              "   0.540735    0.257927   -0.986406    0.187744 \n",
              "   0.214939    0.697481    0.189725   -1.102144 \n",
              "TREE: (((((hg38:0.00673596,panTro4:0.00686169):0.0248146,rheMac3:0.0357598):0.0970072,(mm10:0.081661,rn5:0.0874126):0.246527):0.0264964,canFam3:0.156769):0.303241,monDom5:0.303241);"
            ]
          },
          "metadata": {}
        }
      ]
    },
    {
      "cell_type": "code",
      "source": [
        "str(mod_n)"
      ],
      "metadata": {
        "id": "KR8I1lWDt-Zl",
        "outputId": "b9ff3b67-96c3-485e-c4b4-9f1b39c97650",
        "colab": {
          "base_uri": "https://localhost:8080/"
        }
      },
      "execution_count": 10,
      "outputs": [
        {
          "output_type": "stream",
          "name": "stdout",
          "text": [
            "List of 8\n",
            " $ alphabet   : chr \"ACGT\"\n",
            " $ backgd     : num [1:4] 0.212 0.322 0.234 0.232\n",
            " $ rate.matrix: num [1:4, 1:4] -1.105 0.179 0.541 0.215 0.273 ...\n",
            "  ..- attr(*, \"dimnames\")=List of 2\n",
            "  .. ..$ : chr [1:4] \"0\" \"1\" \"2\" \"3\"\n",
            "  .. ..$ : NULL\n",
            " $ subst.mod  : chr \"REV\"\n",
            " $ likelihood : num -16383709\n",
            " $ alpha      : num 0\n",
            " $ nratecats  : int 1\n",
            " $ tree       : chr \"(((((hg38:0.00673596,panTro4:0.00686169):0.0248146,rheMac3:0.0357598):0.0970072,(mm10:0.081661,rn5:0.0874126):0\"| __truncated__\n",
            " - attr(*, \"class\")= chr \"tm\"\n"
          ]
        }
      ]
    },
    {
      "cell_type": "code",
      "source": [
        "mod_n$tree"
      ],
      "metadata": {
        "id": "gdV6m0CMuV1o",
        "outputId": "e46a1feb-2f4f-4a6a-d182-22d4ec6fa6fe",
        "colab": {
          "base_uri": "https://localhost:8080/",
          "height": 52
        }
      },
      "execution_count": 11,
      "outputs": [
        {
          "output_type": "display_data",
          "data": {
            "text/html": [
              "'(((((hg38:0.00673596,panTro4:0.00686169):0.0248146,rheMac3:0.0357598):0.0970072,(mm10:0.081661,rn5:0.0874126):0.246527):0.0264964,canFam3:0.156769):0.303241,monDom5:0.303241);'"
            ],
            "text/markdown": "'(((((hg38:0.00673596,panTro4:0.00686169):0.0248146,rheMac3:0.0357598):0.0970072,(mm10:0.081661,rn5:0.0874126):0.246527):0.0264964,canFam3:0.156769):0.303241,monDom5:0.303241);'",
            "text/latex": "'(((((hg38:0.00673596,panTro4:0.00686169):0.0248146,rheMac3:0.0357598):0.0970072,(mm10:0.081661,rn5:0.0874126):0.246527):0.0264964,canFam3:0.156769):0.303241,monDom5:0.303241);'",
            "text/plain": [
              "[1] \"(((((hg38:0.00673596,panTro4:0.00686169):0.0248146,rheMac3:0.0357598):0.0970072,(mm10:0.081661,rn5:0.0874126):0.246527):0.0264964,canFam3:0.156769):0.303241,monDom5:0.303241);\""
            ]
          },
          "metadata": {}
        }
      ]
    },
    {
      "cell_type": "code",
      "source": [
        "summary.tree(mod_n$tree)"
      ],
      "metadata": {
        "id": "oQNuUxDwucQY",
        "outputId": "69d9eb3a-3aed-4265-a454-e77ffe470385",
        "colab": {
          "base_uri": "https://localhost:8080/",
          "height": 505
        }
      },
      "execution_count": 13,
      "outputs": [
        {
          "output_type": "display_data",
          "data": {
            "text/html": [
              "<table class=\"dataframe\">\n",
              "<caption>A data.frame: 13 × 6</caption>\n",
              "<thead>\n",
              "\t<tr><th scope=col>name</th><th scope=col>tparent</th><th scope=col>troot</th><th scope=col>parent</th><th scope=col>lchild</th><th scope=col>rchild</th></tr>\n",
              "\t<tr><th scope=col>&lt;chr&gt;</th><th scope=col>&lt;dbl&gt;</th><th scope=col>&lt;dbl&gt;</th><th scope=col>&lt;int&gt;</th><th scope=col>&lt;int&gt;</th><th scope=col>&lt;int&gt;</th></tr>\n",
              "</thead>\n",
              "<tbody>\n",
              "\t<tr><td>NA     </td><td>        NA</td><td>0.0000000</td><td>NA</td><td> 2</td><td>13</td></tr>\n",
              "\t<tr><td>NA     </td><td>0.30324100</td><td>0.3032410</td><td> 1</td><td> 3</td><td>12</td></tr>\n",
              "\t<tr><td>NA     </td><td>0.02649640</td><td>0.3297374</td><td> 2</td><td> 4</td><td> 9</td></tr>\n",
              "\t<tr><td>NA     </td><td>0.09700720</td><td>0.4267446</td><td> 3</td><td> 5</td><td> 8</td></tr>\n",
              "\t<tr><td>NA     </td><td>0.02481460</td><td>0.4515592</td><td> 4</td><td> 6</td><td> 7</td></tr>\n",
              "\t<tr><td>hg38   </td><td>0.00673596</td><td>0.4582952</td><td> 5</td><td>NA</td><td>NA</td></tr>\n",
              "\t<tr><td>panTro4</td><td>0.00686169</td><td>0.4584209</td><td> 5</td><td>NA</td><td>NA</td></tr>\n",
              "\t<tr><td>rheMac3</td><td>0.03575980</td><td>0.4625044</td><td> 4</td><td>NA</td><td>NA</td></tr>\n",
              "\t<tr><td>NA     </td><td>0.24652700</td><td>0.5762644</td><td> 3</td><td>10</td><td>11</td></tr>\n",
              "\t<tr><td>mm10   </td><td>0.08166100</td><td>0.6579254</td><td> 9</td><td>NA</td><td>NA</td></tr>\n",
              "\t<tr><td>rn5    </td><td>0.08741260</td><td>0.6636770</td><td> 9</td><td>NA</td><td>NA</td></tr>\n",
              "\t<tr><td>canFam3</td><td>0.15676900</td><td>0.4600100</td><td> 2</td><td>NA</td><td>NA</td></tr>\n",
              "\t<tr><td>monDom5</td><td>0.30324100</td><td>0.3032410</td><td> 1</td><td>NA</td><td>NA</td></tr>\n",
              "</tbody>\n",
              "</table>\n"
            ],
            "text/markdown": "\nA data.frame: 13 × 6\n\n| name &lt;chr&gt; | tparent &lt;dbl&gt; | troot &lt;dbl&gt; | parent &lt;int&gt; | lchild &lt;int&gt; | rchild &lt;int&gt; |\n|---|---|---|---|---|---|\n| NA      |         NA | 0.0000000 | NA |  2 | 13 |\n| NA      | 0.30324100 | 0.3032410 |  1 |  3 | 12 |\n| NA      | 0.02649640 | 0.3297374 |  2 |  4 |  9 |\n| NA      | 0.09700720 | 0.4267446 |  3 |  5 |  8 |\n| NA      | 0.02481460 | 0.4515592 |  4 |  6 |  7 |\n| hg38    | 0.00673596 | 0.4582952 |  5 | NA | NA |\n| panTro4 | 0.00686169 | 0.4584209 |  5 | NA | NA |\n| rheMac3 | 0.03575980 | 0.4625044 |  4 | NA | NA |\n| NA      | 0.24652700 | 0.5762644 |  3 | 10 | 11 |\n| mm10    | 0.08166100 | 0.6579254 |  9 | NA | NA |\n| rn5     | 0.08741260 | 0.6636770 |  9 | NA | NA |\n| canFam3 | 0.15676900 | 0.4600100 |  2 | NA | NA |\n| monDom5 | 0.30324100 | 0.3032410 |  1 | NA | NA |\n\n",
            "text/latex": "A data.frame: 13 × 6\n\\begin{tabular}{llllll}\n name & tparent & troot & parent & lchild & rchild\\\\\n <chr> & <dbl> & <dbl> & <int> & <int> & <int>\\\\\n\\hline\n\t NA      &         NA & 0.0000000 & NA &  2 & 13\\\\\n\t NA      & 0.30324100 & 0.3032410 &  1 &  3 & 12\\\\\n\t NA      & 0.02649640 & 0.3297374 &  2 &  4 &  9\\\\\n\t NA      & 0.09700720 & 0.4267446 &  3 &  5 &  8\\\\\n\t NA      & 0.02481460 & 0.4515592 &  4 &  6 &  7\\\\\n\t hg38    & 0.00673596 & 0.4582952 &  5 & NA & NA\\\\\n\t panTro4 & 0.00686169 & 0.4584209 &  5 & NA & NA\\\\\n\t rheMac3 & 0.03575980 & 0.4625044 &  4 & NA & NA\\\\\n\t NA      & 0.24652700 & 0.5762644 &  3 & 10 & 11\\\\\n\t mm10    & 0.08166100 & 0.6579254 &  9 & NA & NA\\\\\n\t rn5     & 0.08741260 & 0.6636770 &  9 & NA & NA\\\\\n\t canFam3 & 0.15676900 & 0.4600100 &  2 & NA & NA\\\\\n\t monDom5 & 0.30324100 & 0.3032410 &  1 & NA & NA\\\\\n\\end{tabular}\n",
            "text/plain": [
              "   name    tparent    troot     parent lchild rchild\n",
              "1  NA              NA 0.0000000 NA      2     13    \n",
              "2  NA      0.30324100 0.3032410  1      3     12    \n",
              "3  NA      0.02649640 0.3297374  2      4      9    \n",
              "4  NA      0.09700720 0.4267446  3      5      8    \n",
              "5  NA      0.02481460 0.4515592  4      6      7    \n",
              "6  hg38    0.00673596 0.4582952  5     NA     NA    \n",
              "7  panTro4 0.00686169 0.4584209  5     NA     NA    \n",
              "8  rheMac3 0.03575980 0.4625044  4     NA     NA    \n",
              "9  NA      0.24652700 0.5762644  3     10     11    \n",
              "10 mm10    0.08166100 0.6579254  9     NA     NA    \n",
              "11 rn5     0.08741260 0.6636770  9     NA     NA    \n",
              "12 canFam3 0.15676900 0.4600100  2     NA     NA    \n",
              "13 monDom5 0.30324100 0.3032410  1     NA     NA    "
            ]
          },
          "metadata": {}
        }
      ]
    },
    {
      "cell_type": "code",
      "source": [
        "msa <- simulate.msa(mod_n, nsim = 55)\n",
        "msa"
      ],
      "metadata": {
        "id": "MaRi11ozu8Md",
        "outputId": "0a2f9437-6dad-43dd-8419-45548a66eccd",
        "colab": {
          "base_uri": "https://localhost:8080/",
          "height": 339
        }
      },
      "execution_count": 14,
      "outputs": [
        {
          "output_type": "display_data",
          "data": {
            "text/plain": [
              "msa object with 7 sequences and 55 columns, stored in R\n",
              "$names\n",
              "[1] \"hg38\"    \"panTro4\" \"rheMac3\" \"mm10\"    \"rn5\"     \"canFam3\" \"monDom5\"\n",
              "\n",
              "$alphabet\n",
              "[1] \"ACGT\"\n",
              "\n",
              "$is.ordered\n",
              "[1] TRUE\n",
              "\n",
              "$seq\n",
              "[1] \"TACAAATCTCGCACGTCGCTCGCTTATCTGATCAAGCCTGCCTTGCCTCCCAATG\"\n",
              "[2] \"TACAAATCTCGCACGTCGCTCGCTTATCTGATCAAGCCTGTCTTGCCTCCCAATG\"\n",
              "[3] \"TACAAATCTCGCATGTCGCTCGCTTATCTGATCAAGCCTGCCTTGCCTCCCAATG\"\n",
              "[4] \"AATAAAATCCGCACGTGGCTCGCTCCCCTGATCTAGTCTCCCCTGTGTCCCATTG\"\n",
              "[5] \"CATTAAATCCGCACGTTGTTCGCCCCCCTGACCTAGTCTCCCCCGTGTCCCAGTG\"\n",
              "[6] \"GACGGGTTACGGACATCGCTCGCTCACCTGCTGTCGTCCCACTTGCGTCGCGGCG\"\n",
              "[7] \"TATACCTACCAGTCGTCACACGCTTACTTGCTCAGGGCTGCCTAGAACTCCAACG\"\n"
            ]
          },
          "metadata": {}
        }
      ]
    },
    {
      "cell_type": "code",
      "source": [
        "mod_slow <- mod_n\n",
        "mod_slow$tree <- rescale.tree(mod_n$tree,  scale = 1/5.0)"
      ],
      "metadata": {
        "id": "psKbfVLSvZMV"
      },
      "execution_count": 15,
      "outputs": []
    },
    {
      "cell_type": "code",
      "source": [
        "mod_n$tree"
      ],
      "metadata": {
        "id": "qnhOrn4bvyhx",
        "outputId": "c11b2338-a3e3-46bb-f8d5-76b578e26346",
        "colab": {
          "base_uri": "https://localhost:8080/",
          "height": 52
        }
      },
      "execution_count": 16,
      "outputs": [
        {
          "output_type": "display_data",
          "data": {
            "text/html": [
              "'(((((hg38:0.00673596,panTro4:0.00686169):0.0248146,rheMac3:0.0357598):0.0970072,(mm10:0.081661,rn5:0.0874126):0.246527):0.0264964,canFam3:0.156769):0.303241,monDom5:0.303241);'"
            ],
            "text/markdown": "'(((((hg38:0.00673596,panTro4:0.00686169):0.0248146,rheMac3:0.0357598):0.0970072,(mm10:0.081661,rn5:0.0874126):0.246527):0.0264964,canFam3:0.156769):0.303241,monDom5:0.303241);'",
            "text/latex": "'(((((hg38:0.00673596,panTro4:0.00686169):0.0248146,rheMac3:0.0357598):0.0970072,(mm10:0.081661,rn5:0.0874126):0.246527):0.0264964,canFam3:0.156769):0.303241,monDom5:0.303241);'",
            "text/plain": [
              "[1] \"(((((hg38:0.00673596,panTro4:0.00686169):0.0248146,rheMac3:0.0357598):0.0970072,(mm10:0.081661,rn5:0.0874126):0.246527):0.0264964,canFam3:0.156769):0.303241,monDom5:0.303241);\""
            ]
          },
          "metadata": {}
        }
      ]
    },
    {
      "cell_type": "code",
      "source": [
        "mod_slow$tree"
      ],
      "metadata": {
        "id": "EtXc2r6Nv1QZ",
        "outputId": "d235f491-db11-42f0-f427-69706a13589c",
        "colab": {
          "base_uri": "https://localhost:8080/",
          "height": 52
        }
      },
      "execution_count": 17,
      "outputs": [
        {
          "output_type": "display_data",
          "data": {
            "text/html": [
              "'(((((hg38:0.00134719,panTro4:0.00137234):0.00496292,rheMac3:0.00715196):0.0194014,(mm10:0.0163322,rn5:0.0174825):0.0493054):0.00529928,canFam3:0.0313538):0.0606482,monDom5:0.0606482);'"
            ],
            "text/markdown": "'(((((hg38:0.00134719,panTro4:0.00137234):0.00496292,rheMac3:0.00715196):0.0194014,(mm10:0.0163322,rn5:0.0174825):0.0493054):0.00529928,canFam3:0.0313538):0.0606482,monDom5:0.0606482);'",
            "text/latex": "'(((((hg38:0.00134719,panTro4:0.00137234):0.00496292,rheMac3:0.00715196):0.0194014,(mm10:0.0163322,rn5:0.0174825):0.0493054):0.00529928,canFam3:0.0313538):0.0606482,monDom5:0.0606482);'",
            "text/plain": [
              "[1] \"(((((hg38:0.00134719,panTro4:0.00137234):0.00496292,rheMac3:0.00715196):0.0194014,(mm10:0.0163322,rn5:0.0174825):0.0493054):0.00529928,canFam3:0.0313538):0.0606482,monDom5:0.0606482);\""
            ]
          },
          "metadata": {}
        }
      ]
    },
    {
      "cell_type": "code",
      "source": [
        "msa_slow <- simulate.msa(mod_slow, nsim = 55)"
      ],
      "metadata": {
        "id": "ORU5Zw70v3AZ"
      },
      "execution_count": 18,
      "outputs": []
    },
    {
      "cell_type": "code",
      "source": [
        "msa$seq"
      ],
      "metadata": {
        "id": "DQ7vVWkGv-PM",
        "outputId": "89d69afb-b7b2-4398-e798-97c173faf3ce",
        "colab": {
          "base_uri": "https://localhost:8080/",
          "height": 139
        }
      },
      "execution_count": 19,
      "outputs": [
        {
          "output_type": "display_data",
          "data": {
            "text/html": [
              "<style>\n",
              ".list-inline {list-style: none; margin:0; padding: 0}\n",
              ".list-inline>li {display: inline-block}\n",
              ".list-inline>li:not(:last-child)::after {content: \"\\00b7\"; padding: 0 .5ex}\n",
              "</style>\n",
              "<ol class=list-inline><li>'TACAAATCTCGCACGTCGCTCGCTTATCTGATCAAGCCTGCCTTGCCTCCCAATG'</li><li>'TACAAATCTCGCACGTCGCTCGCTTATCTGATCAAGCCTGTCTTGCCTCCCAATG'</li><li>'TACAAATCTCGCATGTCGCTCGCTTATCTGATCAAGCCTGCCTTGCCTCCCAATG'</li><li>'AATAAAATCCGCACGTGGCTCGCTCCCCTGATCTAGTCTCCCCTGTGTCCCATTG'</li><li>'CATTAAATCCGCACGTTGTTCGCCCCCCTGACCTAGTCTCCCCCGTGTCCCAGTG'</li><li>'GACGGGTTACGGACATCGCTCGCTCACCTGCTGTCGTCCCACTTGCGTCGCGGCG'</li><li>'TATACCTACCAGTCGTCACACGCTTACTTGCTCAGGGCTGCCTAGAACTCCAACG'</li></ol>\n"
            ],
            "text/markdown": "1. 'TACAAATCTCGCACGTCGCTCGCTTATCTGATCAAGCCTGCCTTGCCTCCCAATG'\n2. 'TACAAATCTCGCACGTCGCTCGCTTATCTGATCAAGCCTGTCTTGCCTCCCAATG'\n3. 'TACAAATCTCGCATGTCGCTCGCTTATCTGATCAAGCCTGCCTTGCCTCCCAATG'\n4. 'AATAAAATCCGCACGTGGCTCGCTCCCCTGATCTAGTCTCCCCTGTGTCCCATTG'\n5. 'CATTAAATCCGCACGTTGTTCGCCCCCCTGACCTAGTCTCCCCCGTGTCCCAGTG'\n6. 'GACGGGTTACGGACATCGCTCGCTCACCTGCTGTCGTCCCACTTGCGTCGCGGCG'\n7. 'TATACCTACCAGTCGTCACACGCTTACTTGCTCAGGGCTGCCTAGAACTCCAACG'\n\n\n",
            "text/latex": "\\begin{enumerate*}\n\\item 'TACAAATCTCGCACGTCGCTCGCTTATCTGATCAAGCCTGCCTTGCCTCCCAATG'\n\\item 'TACAAATCTCGCACGTCGCTCGCTTATCTGATCAAGCCTGTCTTGCCTCCCAATG'\n\\item 'TACAAATCTCGCATGTCGCTCGCTTATCTGATCAAGCCTGCCTTGCCTCCCAATG'\n\\item 'AATAAAATCCGCACGTGGCTCGCTCCCCTGATCTAGTCTCCCCTGTGTCCCATTG'\n\\item 'CATTAAATCCGCACGTTGTTCGCCCCCCTGACCTAGTCTCCCCCGTGTCCCAGTG'\n\\item 'GACGGGTTACGGACATCGCTCGCTCACCTGCTGTCGTCCCACTTGCGTCGCGGCG'\n\\item 'TATACCTACCAGTCGTCACACGCTTACTTGCTCAGGGCTGCCTAGAACTCCAACG'\n\\end{enumerate*}\n",
            "text/plain": [
              "[1] \"TACAAATCTCGCACGTCGCTCGCTTATCTGATCAAGCCTGCCTTGCCTCCCAATG\"\n",
              "[2] \"TACAAATCTCGCACGTCGCTCGCTTATCTGATCAAGCCTGTCTTGCCTCCCAATG\"\n",
              "[3] \"TACAAATCTCGCATGTCGCTCGCTTATCTGATCAAGCCTGCCTTGCCTCCCAATG\"\n",
              "[4] \"AATAAAATCCGCACGTGGCTCGCTCCCCTGATCTAGTCTCCCCTGTGTCCCATTG\"\n",
              "[5] \"CATTAAATCCGCACGTTGTTCGCCCCCCTGACCTAGTCTCCCCCGTGTCCCAGTG\"\n",
              "[6] \"GACGGGTTACGGACATCGCTCGCTCACCTGCTGTCGTCCCACTTGCGTCGCGGCG\"\n",
              "[7] \"TATACCTACCAGTCGTCACACGCTTACTTGCTCAGGGCTGCCTAGAACTCCAACG\""
            ]
          },
          "metadata": {}
        }
      ]
    },
    {
      "cell_type": "code",
      "source": [
        "msa_slow$seq"
      ],
      "metadata": {
        "id": "mFBgkRlWwBZd",
        "outputId": "95751309-e737-4df5-c9aa-1c0eca01a22c",
        "colab": {
          "base_uri": "https://localhost:8080/",
          "height": 139
        }
      },
      "execution_count": 20,
      "outputs": [
        {
          "output_type": "display_data",
          "data": {
            "text/html": [
              "<style>\n",
              ".list-inline {list-style: none; margin:0; padding: 0}\n",
              ".list-inline>li {display: inline-block}\n",
              ".list-inline>li:not(:last-child)::after {content: \"\\00b7\"; padding: 0 .5ex}\n",
              "</style>\n",
              "<ol class=list-inline><li>'GAATCACCTCAACCTTCGATAAGTTCCCGCTCACATAGAGCGGCCACCTAGCCAG'</li><li>'GAACCACCTCAACCTTCGATAAGTTCCCGCTCACATAGAGCGGCCACCTAGCCAG'</li><li>'GAATCACCTCAACCTTCGATAAGTTCCCGCTCACATAGAGCGGCCACCTAGCCAG'</li><li>'GAATCACCTCAACCTTCGATAAGTTGCCGCTCACATAGAGCGGCTACTTAGCCAG'</li><li>'GAATCACCTCAACCTTCGATAAGTTGCCGCTCACATAGAGCGGCCACTTAGCCAG'</li><li>'GAATCACCTCAACCTTCGTTAAGTTCCCGCTCACATAGAGCGGCCACTTAACCGG'</li><li>'GCATCAGCTCAGCCTTCGTTGACCTCCCGCTCACATAGAGCGGCCACGTAACCAG'</li></ol>\n"
            ],
            "text/markdown": "1. 'GAATCACCTCAACCTTCGATAAGTTCCCGCTCACATAGAGCGGCCACCTAGCCAG'\n2. 'GAACCACCTCAACCTTCGATAAGTTCCCGCTCACATAGAGCGGCCACCTAGCCAG'\n3. 'GAATCACCTCAACCTTCGATAAGTTCCCGCTCACATAGAGCGGCCACCTAGCCAG'\n4. 'GAATCACCTCAACCTTCGATAAGTTGCCGCTCACATAGAGCGGCTACTTAGCCAG'\n5. 'GAATCACCTCAACCTTCGATAAGTTGCCGCTCACATAGAGCGGCCACTTAGCCAG'\n6. 'GAATCACCTCAACCTTCGTTAAGTTCCCGCTCACATAGAGCGGCCACTTAACCGG'\n7. 'GCATCAGCTCAGCCTTCGTTGACCTCCCGCTCACATAGAGCGGCCACGTAACCAG'\n\n\n",
            "text/latex": "\\begin{enumerate*}\n\\item 'GAATCACCTCAACCTTCGATAAGTTCCCGCTCACATAGAGCGGCCACCTAGCCAG'\n\\item 'GAACCACCTCAACCTTCGATAAGTTCCCGCTCACATAGAGCGGCCACCTAGCCAG'\n\\item 'GAATCACCTCAACCTTCGATAAGTTCCCGCTCACATAGAGCGGCCACCTAGCCAG'\n\\item 'GAATCACCTCAACCTTCGATAAGTTGCCGCTCACATAGAGCGGCTACTTAGCCAG'\n\\item 'GAATCACCTCAACCTTCGATAAGTTGCCGCTCACATAGAGCGGCCACTTAGCCAG'\n\\item 'GAATCACCTCAACCTTCGTTAAGTTCCCGCTCACATAGAGCGGCCACTTAACCGG'\n\\item 'GCATCAGCTCAGCCTTCGTTGACCTCCCGCTCACATAGAGCGGCCACGTAACCAG'\n\\end{enumerate*}\n",
            "text/plain": [
              "[1] \"GAATCACCTCAACCTTCGATAAGTTCCCGCTCACATAGAGCGGCCACCTAGCCAG\"\n",
              "[2] \"GAACCACCTCAACCTTCGATAAGTTCCCGCTCACATAGAGCGGCCACCTAGCCAG\"\n",
              "[3] \"GAATCACCTCAACCTTCGATAAGTTCCCGCTCACATAGAGCGGCCACCTAGCCAG\"\n",
              "[4] \"GAATCACCTCAACCTTCGATAAGTTGCCGCTCACATAGAGCGGCTACTTAGCCAG\"\n",
              "[5] \"GAATCACCTCAACCTTCGATAAGTTGCCGCTCACATAGAGCGGCCACTTAGCCAG\"\n",
              "[6] \"GAATCACCTCAACCTTCGTTAAGTTCCCGCTCACATAGAGCGGCCACTTAACCGG\"\n",
              "[7] \"GCATCAGCTCAGCCTTCGTTGACCTCCCGCTCACATAGAGCGGCCACGTAACCAG\""
            ]
          },
          "metadata": {}
        }
      ]
    },
    {
      "cell_type": "code",
      "source": [
        "mod_fast <- mod_n\n",
        "mod_fast$tree = rescale.tree(mod_n$tree, scale = 5.0)\n",
        "msa_fast = simulate.msa(mod_fast, nsim = 55)\n",
        "mod_fast"
      ],
      "metadata": {
        "id": "K3PQbhctwDBN",
        "outputId": "6fabe41a-063e-4a7d-a8ea-300267a6f8cf",
        "colab": {
          "base_uri": "https://localhost:8080/",
          "height": 232
        }
      },
      "execution_count": 21,
      "outputs": [
        {
          "output_type": "display_data",
          "data": {
            "text/plain": [
              "ALPHABET: A C G T \n",
              "ORDER: 0\n",
              "SUBST_MOD: REV\n",
              "TRAINING_LNL: -16383708.873581\n",
              "BACKGROUND: 0.211867 0.322407 0.234085 0.231641 \n",
              "RATE_MAT:\n",
              "  -1.104985    0.272548    0.597439    0.234998 \n",
              "   0.179103   -0.867492    0.187269    0.501120 \n",
              "   0.540735    0.257927   -0.986406    0.187744 \n",
              "   0.214939    0.697481    0.189725   -1.102144 \n",
              "TREE: (((((hg38:0.0336798,panTro4:0.0343085):0.124073,rheMac3:0.178799):0.485036,(mm10:0.408305,rn5:0.437063):1.23263):0.132482,canFam3:0.783845):1.5162,monDom5:1.5162);"
            ]
          },
          "metadata": {}
        }
      ]
    },
    {
      "cell_type": "code",
      "source": [
        "msa_fast"
      ],
      "metadata": {
        "id": "8Y4QVtnkwgFV",
        "outputId": "710e6cc5-52ef-4057-8d31-519c7888ce74",
        "colab": {
          "base_uri": "https://localhost:8080/",
          "height": 339
        }
      },
      "execution_count": 22,
      "outputs": [
        {
          "output_type": "display_data",
          "data": {
            "text/plain": [
              "msa object with 7 sequences and 55 columns, stored in R\n",
              "$names\n",
              "[1] \"hg38\"    \"panTro4\" \"rheMac3\" \"mm10\"    \"rn5\"     \"canFam3\" \"monDom5\"\n",
              "\n",
              "$alphabet\n",
              "[1] \"ACGT\"\n",
              "\n",
              "$is.ordered\n",
              "[1] TRUE\n",
              "\n",
              "$seq\n",
              "[1] \"AATCCCAAGATGTGTTAATTGCCTTCTGACAACACTCCCGGTGCGTTGCCCCATA\"\n",
              "[2] \"AATCCCAAGACGTGTTTATTGCCCTCTGACAACACTCTCGGTGCGTTGCCCCATA\"\n",
              "[3] \"AATCTCCAGACATGATACTTGACCTTCAGCAAAAATCCGGATGCGTTGCCTCGTA\"\n",
              "[4] \"TAACGCCACTCACCGCATAAACGGAGTGTCTGAGACTTAGACTTATTAGTCCACG\"\n",
              "[5] \"TACCGCGAGTCAACGTCGCGATAGTTCCGCTTTGCATCGGGTTTATGGTATCGAT\"\n",
              "[6] \"ATAAGCTACCCGGGATCACCTACTCTGAGAGACTCCCACTACGTGCGGCAGTTTG\"\n",
              "[7] \"ACGCTCTTAACGTCGGCATCTCTTGTCGCCCCTTCACCATATTCACGCTATCTTC\"\n"
            ]
          },
          "metadata": {}
        }
      ]
    },
    {
      "cell_type": "code",
      "source": [
        "msa_slow$seq"
      ],
      "metadata": {
        "id": "xIjCRqlMwiQl",
        "outputId": "90828a6e-0520-4376-9d00-4a94fda538b1",
        "colab": {
          "base_uri": "https://localhost:8080/",
          "height": 139
        }
      },
      "execution_count": 23,
      "outputs": [
        {
          "output_type": "display_data",
          "data": {
            "text/html": [
              "<style>\n",
              ".list-inline {list-style: none; margin:0; padding: 0}\n",
              ".list-inline>li {display: inline-block}\n",
              ".list-inline>li:not(:last-child)::after {content: \"\\00b7\"; padding: 0 .5ex}\n",
              "</style>\n",
              "<ol class=list-inline><li>'GAATCACCTCAACCTTCGATAAGTTCCCGCTCACATAGAGCGGCCACCTAGCCAG'</li><li>'GAACCACCTCAACCTTCGATAAGTTCCCGCTCACATAGAGCGGCCACCTAGCCAG'</li><li>'GAATCACCTCAACCTTCGATAAGTTCCCGCTCACATAGAGCGGCCACCTAGCCAG'</li><li>'GAATCACCTCAACCTTCGATAAGTTGCCGCTCACATAGAGCGGCTACTTAGCCAG'</li><li>'GAATCACCTCAACCTTCGATAAGTTGCCGCTCACATAGAGCGGCCACTTAGCCAG'</li><li>'GAATCACCTCAACCTTCGTTAAGTTCCCGCTCACATAGAGCGGCCACTTAACCGG'</li><li>'GCATCAGCTCAGCCTTCGTTGACCTCCCGCTCACATAGAGCGGCCACGTAACCAG'</li></ol>\n"
            ],
            "text/markdown": "1. 'GAATCACCTCAACCTTCGATAAGTTCCCGCTCACATAGAGCGGCCACCTAGCCAG'\n2. 'GAACCACCTCAACCTTCGATAAGTTCCCGCTCACATAGAGCGGCCACCTAGCCAG'\n3. 'GAATCACCTCAACCTTCGATAAGTTCCCGCTCACATAGAGCGGCCACCTAGCCAG'\n4. 'GAATCACCTCAACCTTCGATAAGTTGCCGCTCACATAGAGCGGCTACTTAGCCAG'\n5. 'GAATCACCTCAACCTTCGATAAGTTGCCGCTCACATAGAGCGGCCACTTAGCCAG'\n6. 'GAATCACCTCAACCTTCGTTAAGTTCCCGCTCACATAGAGCGGCCACTTAACCGG'\n7. 'GCATCAGCTCAGCCTTCGTTGACCTCCCGCTCACATAGAGCGGCCACGTAACCAG'\n\n\n",
            "text/latex": "\\begin{enumerate*}\n\\item 'GAATCACCTCAACCTTCGATAAGTTCCCGCTCACATAGAGCGGCCACCTAGCCAG'\n\\item 'GAACCACCTCAACCTTCGATAAGTTCCCGCTCACATAGAGCGGCCACCTAGCCAG'\n\\item 'GAATCACCTCAACCTTCGATAAGTTCCCGCTCACATAGAGCGGCCACCTAGCCAG'\n\\item 'GAATCACCTCAACCTTCGATAAGTTGCCGCTCACATAGAGCGGCTACTTAGCCAG'\n\\item 'GAATCACCTCAACCTTCGATAAGTTGCCGCTCACATAGAGCGGCCACTTAGCCAG'\n\\item 'GAATCACCTCAACCTTCGTTAAGTTCCCGCTCACATAGAGCGGCCACTTAACCGG'\n\\item 'GCATCAGCTCAGCCTTCGTTGACCTCCCGCTCACATAGAGCGGCCACGTAACCAG'\n\\end{enumerate*}\n",
            "text/plain": [
              "[1] \"GAATCACCTCAACCTTCGATAAGTTCCCGCTCACATAGAGCGGCCACCTAGCCAG\"\n",
              "[2] \"GAACCACCTCAACCTTCGATAAGTTCCCGCTCACATAGAGCGGCCACCTAGCCAG\"\n",
              "[3] \"GAATCACCTCAACCTTCGATAAGTTCCCGCTCACATAGAGCGGCCACCTAGCCAG\"\n",
              "[4] \"GAATCACCTCAACCTTCGATAAGTTGCCGCTCACATAGAGCGGCTACTTAGCCAG\"\n",
              "[5] \"GAATCACCTCAACCTTCGATAAGTTGCCGCTCACATAGAGCGGCCACTTAGCCAG\"\n",
              "[6] \"GAATCACCTCAACCTTCGTTAAGTTCCCGCTCACATAGAGCGGCCACTTAACCGG\"\n",
              "[7] \"GCATCAGCTCAGCCTTCGTTGACCTCCCGCTCACATAGAGCGGCCACGTAACCAG\""
            ]
          },
          "metadata": {}
        }
      ]
    },
    {
      "cell_type": "code",
      "source": [],
      "metadata": {
        "id": "7pfVvbSSwmIt"
      },
      "execution_count": null,
      "outputs": []
    }
  ]
}