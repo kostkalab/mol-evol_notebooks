{
  "nbformat": 4,
  "nbformat_minor": 0,
  "metadata": {
    "colab": {
      "provenance": [],
      "authorship_tag": "ABX9TyMWWblMLluO1NnFpIreo0gB",
      "include_colab_link": true
    },
    "kernelspec": {
      "name": "ir",
      "display_name": "R"
    },
    "language_info": {
      "name": "R"
    }
  },
  "cells": [
    {
      "cell_type": "markdown",
      "metadata": {
        "id": "view-in-github",
        "colab_type": "text"
      },
      "source": [
        "<a href=\"https://colab.research.google.com/github/kostkalab/mol-evol_notebooks/blob/main/lecture_mol_evol_03_29_2023.ipynb\" target=\"_parent\"><img src=\"https://colab.research.google.com/assets/colab-badge.svg\" alt=\"Open In Colab\"/></a>"
      ]
    },
    {
      "cell_type": "markdown",
      "source": [
        "# Neutral evolutionary rates\n",
        "\n",
        "In the lecture we discussed how we can use four-fold degenerate sites to \"gauge\" our evelutionary models (in terms of substitution rates).\n",
        "\n",
        "Here we now download an alignment and fit a neutral model.\n",
        "We will do that in parctice next.\n"
      ],
      "metadata": {
        "id": "9X1cHTHnV5N0"
      }
    },
    {
      "cell_type": "markdown",
      "source": [
        "### Download alignment data.\n",
        "\n",
        "> Indented block\n",
        "\n"
      ],
      "metadata": {
        "id": "LJnPGRqT_6zQ"
      }
    },
    {
      "cell_type": "code",
      "source": [
        "devtools::install_github(\"CshlSiepelLab/RPHAST\")"
      ],
      "metadata": {
        "colab": {
          "base_uri": "https://localhost:8080/"
        },
        "id": "CHl_kFlLWUvs",
        "outputId": "034710f6-ec5b-4858-8c75-5fefacf3330c"
      },
      "execution_count": 1,
      "outputs": [
        {
          "output_type": "stream",
          "name": "stderr",
          "text": [
            "Downloading GitHub repo CshlSiepelLab/RPHAST@HEAD\n",
            "\n"
          ]
        },
        {
          "output_type": "stream",
          "name": "stdout",
          "text": [
            "\u001b[36m──\u001b[39m \u001b[36mR CMD build\u001b[39m \u001b[36m─────────────────────────────────────────────────────────────────\u001b[39m\n",
            "* checking for file ‘/tmp/RtmpdZLqMg/remotes85198538cc/CshlSiepelLab-RPHAST-2b68f4c/DESCRIPTION’ ... OK\n",
            "* preparing ‘rphast’:\n",
            "* checking DESCRIPTION meta-information ... OK\n",
            "* cleaning src\n",
            "* running ‘cleanup’\n",
            "* checking vignette meta-information ... OK\n",
            "* checking for LF line-endings in source and make files and shell scripts\n",
            "* checking for empty or unneeded directories\n",
            "* building ‘rphast_1.6.11.tar.gz’\n",
            "\n"
          ]
        },
        {
          "output_type": "stream",
          "name": "stderr",
          "text": [
            "Installing package into ‘/usr/local/lib/R/site-library’\n",
            "(as ‘lib’ is unspecified)\n",
            "\n"
          ]
        }
      ]
    },
    {
      "cell_type": "markdown",
      "source": [
        "We download a coding sequence alignment from UCSC:"
      ],
      "metadata": {
        "id": "sNJoRVS9odgd"
      }
    },
    {
      "cell_type": "code",
      "source": [
        "library(rphast)\n",
        "\n",
        "#- download alignment and unzip\n",
        "url        <- 'https://hgdownload.soe.ucsc.edu/goldenPath/hg38/multiz7way/alignments/knownCanonical.exonNuc.fa.gz'\n",
        "tfle_name1 <- paste0(tempfile(),'.fa.gz')\n",
        "tfle_name2 <- tfle_name1 |> stringr::str_remove('\\\\.gz')\n",
        "tfle_name3 <- paste0(tempfile(),'.fa')\n",
        "download.file(url, tfle_name1)\n",
        "cmd        <- paste('gunzip', tfle_name1)\n",
        "system(cmd)\n",
        "\n",
        "#- only look at the first ~ 100k lines\n",
        "cmd <- paste( 'head -n 99995 ', tfle_name2 , ' > ', tfle_name3)\n",
        "system(cmd)\n",
        "\n",
        "#- read in alignment\n",
        "msa <- read.msa(tfle_name3, format = 'FASTA')\n",
        "# msa\n",
        "file.remove(tfle_name2) #- cleanup\n",
        "file.remove(tfle_name3) #- cleanup"
      ],
      "metadata": {
        "colab": {
          "base_uri": "https://localhost:8080/",
          "height": 52
        },
        "id": "5g6j29aWXUKp",
        "outputId": "6587c035-0867-4c22-f77f-b030f5f2db2a"
      },
      "execution_count": 2,
      "outputs": [
        {
          "output_type": "display_data",
          "data": {
            "text/html": [
              "TRUE"
            ],
            "text/markdown": "TRUE",
            "text/latex": "TRUE",
            "text/plain": [
              "[1] TRUE"
            ]
          },
          "metadata": {}
        },
        {
          "output_type": "display_data",
          "data": {
            "text/html": [
              "TRUE"
            ],
            "text/markdown": "TRUE",
            "text/latex": "TRUE",
            "text/plain": [
              "[1] TRUE"
            ]
          },
          "metadata": {}
        }
      ]
    },
    {
      "cell_type": "markdown",
      "source": [
        "### Questions:\n",
        "\n",
        "- What species are in this alignment?\n",
        "- What was version of the assembly of the human genome was used?"
      ],
      "metadata": {
        "id": "wltolHFpAZaz"
      }
    },
    {
      "cell_type": "markdown",
      "source": [
        "### Download a neutral model"
      ],
      "metadata": {
        "id": "9dJYoY_-Avnb"
      }
    },
    {
      "cell_type": "markdown",
      "source": [
        "To get at an estimate for neutral substituion rates we would like to extract four-fold degenerate sites from this alignment. \n",
        "\n",
        "To do that, we can use functionality provided by `rphast`.\n",
        "\n",
        "However, we need annotation about the coding sequences in the alignment.\n",
        "We will use **human** GENCODE annoation for that. Do you have a guess what that is okay to do?"
      ],
      "metadata": {
        "id": "huJOJO5Vx-In"
      }
    },
    {
      "cell_type": "code",
      "source": [
        "#- download gff3 file from GENCODE (current annotation)\n",
        "url        <- 'https://hgdownload.soe.ucsc.edu/goldenPath/hg38/phastCons7way/hg38.phastCons7way.mod' \n",
        "tfle_name1 <- paste0(tempfile(),'.mod')\n",
        "download.file(url, tfle_name1)\n",
        "mod_n <- read.tm(tfle_name1)\n"
      ],
      "metadata": {
        "id": "nNySa1ocukV7"
      },
      "execution_count": 3,
      "outputs": []
    },
    {
      "cell_type": "markdown",
      "source": [
        "### Question\n",
        "- How many substitutions do you expect on the Chimpanzee lineage?\n",
        "- How many on human and chimpanzee lineages combined?\n",
        "- Plot the species tree"
      ],
      "metadata": {
        "id": "WRu6gEJfQ3IC"
      }
    },
    {
      "cell_type": "markdown",
      "source": [
        "### Assignment\n",
        "* Simulate an alignment of length 55 with the current model (we have done that using `simulate.msa`)\n",
        "* \"Stretch\" the species tree, so that each branch is 5x as long as in the neutral model (see `rphast::rescale.tree`)\n",
        "* Simulate a second alignment, using the \"stretched\" tree\n",
        "* Compare\n",
        "* Next, \"shrink\" the orignal tree, so that all branchlengths are 1/5 of the neural length\n",
        "* Simulate a third alignment\n",
        "* Compare"
      ],
      "metadata": {
        "id": "CHSwJu7ARC-2"
      }
    },
    {
      "cell_type": "code",
      "source": [
        "?rphast::rescale.tree"
      ],
      "metadata": {
        "id": "JXuyPkDTBjxT"
      },
      "execution_count": 13,
      "outputs": []
    }
  ]
}