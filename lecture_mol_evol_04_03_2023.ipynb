{
  "nbformat": 4,
  "nbformat_minor": 0,
  "metadata": {
    "colab": {
      "provenance": [],
      "authorship_tag": "ABX9TyNsgELFBT4A0spKxQva8qto",
      "include_colab_link": true
    },
    "kernelspec": {
      "name": "ir",
      "display_name": "R"
    },
    "language_info": {
      "name": "R"
    }
  },
  "cells": [
    {
      "cell_type": "markdown",
      "metadata": {
        "id": "view-in-github",
        "colab_type": "text"
      },
      "source": [
        "<a href=\"https://colab.research.google.com/github/kostkalab/mol-evol_notebooks/blob/main/lecture_mol_evol_04_03_2023.ipynb\" target=\"_parent\"><img src=\"https://colab.research.google.com/assets/colab-badge.svg\" alt=\"Open In Colab\"/></a>"
      ]
    },
    {
      "cell_type": "markdown",
      "source": [
        "# Non-neutral substitutioun rates\n",
        "\n",
        "Here we will use methods discuessed in the lecture (phastCons, phyloP) to annotate deep (100-way) alignments.\n"
      ],
      "metadata": {
        "id": "9X1cHTHnV5N0"
      }
    },
    {
      "cell_type": "markdown",
      "source": [
        "### Download alignment data and neutral model\n",
        "\n"
      ],
      "metadata": {
        "id": "LJnPGRqT_6zQ"
      }
    },
    {
      "cell_type": "code",
      "source": [
        "#- download prepared maf fikle\n",
        "url <- 'https://github.com/kostkalab/mol-evol_notebooks/blob/main/reg.maf.gz?raw=true'\n",
        "tfle_name1 <- paste0(tempfile(),'.maf.gz')\n",
        "download.file(url, tfle_name1)\n",
        "system( paste0( 'gunzip ', tfle_name1))\n",
        "tfle_name2 <-  tfle_name1 |> stringr::str_remove('\\\\.gz')"
      ],
      "metadata": {
        "id": "GKq9OZH5mPy6"
      },
      "execution_count": 40,
      "outputs": []
    },
    {
      "cell_type": "code",
      "source": [
        "#- take a look\n",
        "system(paste0( 'head ', tfle_name2), intern = TRUE)"
      ],
      "metadata": {
        "id": "8YGgKCwZuBnG",
        "outputId": "6b92dbbe-180c-4d02-84d1-0ff31430335f",
        "colab": {
          "base_uri": "https://localhost:8080/",
          "height": 69
        }
      },
      "execution_count": 41,
      "outputs": [
        {
          "output_type": "display_data",
          "data": {
            "text/html": [
              "<style>\n",
              ".list-inline {list-style: none; margin:0; padding: 0}\n",
              ".list-inline>li {display: inline-block}\n",
              ".list-inline>li:not(:last-child)::after {content: \"\\00b7\"; padding: 0 .5ex}\n",
              "</style>\n",
              "<ol class=list-inline><li>'##maf version=1'</li><li>'a score=457035.0'</li><li><span style=white-space:pre-wrap>'s hg38.chr13                    31933897    10 + 114364328 TTGCAGAATT '</span></li><li><span style=white-space:pre-wrap>'s panTro4.chr13                 31567707    10 + 115123233 TTGCAGAATT '</span></li><li><span style=white-space:pre-wrap>'i panTro4.chr13                                            C 0 C 0    '</span></li><li><span style=white-space:pre-wrap>'s gorGor3.chr13                 13789293    10 +  97499607 gtgcagaatt '</span></li><li><span style=white-space:pre-wrap>'i gorGor3.chr13                                            C 0 C 0    '</span></li><li><span style=white-space:pre-wrap>'s ponAbe2.chr13                 31457778    10 + 117095149 ttgcagaatt '</span></li><li><span style=white-space:pre-wrap>'i ponAbe2.chr13                                            C 0 C 0    '</span></li><li><span style=white-space:pre-wrap>'s nomLeu3.chr9                 110739758    10 - 118206036 ttgcagaatt '</span></li></ol>\n"
            ],
            "text/markdown": "1. '##maf version=1'\n2. 'a score=457035.0'\n3. <span style=white-space:pre-wrap>'s hg38.chr13                    31933897    10 + 114364328 TTGCAGAATT '</span>\n4. <span style=white-space:pre-wrap>'s panTro4.chr13                 31567707    10 + 115123233 TTGCAGAATT '</span>\n5. <span style=white-space:pre-wrap>'i panTro4.chr13                                            C 0 C 0    '</span>\n6. <span style=white-space:pre-wrap>'s gorGor3.chr13                 13789293    10 +  97499607 gtgcagaatt '</span>\n7. <span style=white-space:pre-wrap>'i gorGor3.chr13                                            C 0 C 0    '</span>\n8. <span style=white-space:pre-wrap>'s ponAbe2.chr13                 31457778    10 + 117095149 ttgcagaatt '</span>\n9. <span style=white-space:pre-wrap>'i ponAbe2.chr13                                            C 0 C 0    '</span>\n10. <span style=white-space:pre-wrap>'s nomLeu3.chr9                 110739758    10 - 118206036 ttgcagaatt '</span>\n\n\n",
            "text/latex": "\\begin{enumerate*}\n\\item '\\#\\#maf version=1'\n\\item 'a score=457035.0'\n\\item 's hg38.chr13                    31933897    10 + 114364328 TTGCAGAATT '\n\\item 's panTro4.chr13                 31567707    10 + 115123233 TTGCAGAATT '\n\\item 'i panTro4.chr13                                            C 0 C 0    '\n\\item 's gorGor3.chr13                 13789293    10 +  97499607 gtgcagaatt '\n\\item 'i gorGor3.chr13                                            C 0 C 0    '\n\\item 's ponAbe2.chr13                 31457778    10 + 117095149 ttgcagaatt '\n\\item 'i ponAbe2.chr13                                            C 0 C 0    '\n\\item 's nomLeu3.chr9                 110739758    10 - 118206036 ttgcagaatt '\n\\end{enumerate*}\n",
            "text/plain": [
              " [1] \"##maf version=1\"                                                       \n",
              " [2] \"a score=457035.0\"                                                      \n",
              " [3] \"s hg38.chr13                    31933897    10 + 114364328 TTGCAGAATT \"\n",
              " [4] \"s panTro4.chr13                 31567707    10 + 115123233 TTGCAGAATT \"\n",
              " [5] \"i panTro4.chr13                                            C 0 C 0    \"\n",
              " [6] \"s gorGor3.chr13                 13789293    10 +  97499607 gtgcagaatt \"\n",
              " [7] \"i gorGor3.chr13                                            C 0 C 0    \"\n",
              " [8] \"s ponAbe2.chr13                 31457778    10 + 117095149 ttgcagaatt \"\n",
              " [9] \"i ponAbe2.chr13                                            C 0 C 0    \"\n",
              "[10] \"s nomLeu3.chr9                 110739758    10 - 118206036 ttgcagaatt \""
            ]
          },
          "metadata": {}
        }
      ]
    },
    {
      "cell_type": "code",
      "source": [
        "#- install rphast\n",
        "devtools::install_github(\"CshlSiepelLab/RPHAST\")"
      ],
      "metadata": {
        "id": "-VTQwrzUuWQ9",
        "outputId": "4ccc13a8-4fad-4ec2-af3d-b2e92f2abc03",
        "colab": {
          "base_uri": "https://localhost:8080/"
        }
      },
      "execution_count": 37,
      "outputs": [
        {
          "output_type": "stream",
          "name": "stderr",
          "text": [
            "Skipping install of 'rphast' from a github remote, the SHA1 (2b68f4cb) has not changed since last install.\n",
            "  Use `force = TRUE` to force installation\n",
            "\n"
          ]
        }
      ]
    },
    {
      "cell_type": "code",
      "source": [
        "#- read in alignment\n",
        "msa <- read.msa(tfle_name2)\n",
        "msa"
      ],
      "metadata": {
        "id": "VZtRX0eZud8A",
        "outputId": "70789056-b860-40ca-9e06-b1de10e02df6",
        "colab": {
          "base_uri": "https://localhost:8080/",
          "height": 590
        }
      },
      "execution_count": 43,
      "outputs": [
        {
          "output_type": "display_data",
          "data": {
            "text/plain": [
              "msa object with 100 sequences and 1391488 columns, stored in R\n",
              "$names\n",
              "  [1] \"hg38\"       \"panTro4\"    \"gorGor3\"    \"ponAbe2\"    \"nomLeu3\"   \n",
              "  [6] \"rheMac3\"    \"macFas5\"    \"papAnu2\"    \"chlSab2\"    \"tupChi1\"   \n",
              " [11] \"speTri2\"    \"criGri1\"    \"mesAur1\"    \"hetGla2\"    \"cavPor3\"   \n",
              " [16] \"chiLan1\"    \"octDeg1\"    \"oryCun2\"    \"susScr3\"    \"vicPac2\"   \n",
              " [21] \"camFer1\"    \"turTru2\"    \"orcOrc1\"    \"panHod1\"    \"bosTau8\"   \n",
              " [26] \"oviAri3\"    \"capHir1\"    \"equCab2\"    \"cerSim1\"    \"felCat8\"   \n",
              " [31] \"canFam3\"    \"ailMel1\"    \"odoRosDiv1\" \"lepWed1\"    \"pteAle1\"   \n",
              " [36] \"pteVam1\"    \"eriEur2\"    \"sorAra2\"    \"loxAfr3\"    \"triMan1\"   \n",
              " [41] \"dasNov3\"    \"micOch1\"    \"ochPri3\"    \"oryAfe1\"    \"calJac3\"   \n",
              " [46] \"saiBol1\"    \"mm10\"       \"jacJac1\"    \"rn6\"        \"eptFus1\"   \n",
              " [51] \"myoDav1\"    \"myoLuc2\"    \"sarHar1\"    \"musFur1\"    \"otoGar3\"   \n",
              " [56] \"conCri1\"    \"chrAsi1\"    \"monDom5\"    \"macEug2\"    \"falPer1\"   \n",
              " [61] \"cheMyd1\"    \"falChe1\"    \"taeGut2\"    \"ornAna1\"    \"anoCar2\"   \n",
              " [66] \"chrPic2\"    \"melGal1\"    \"pelSin1\"    \"apaSpi1\"    \"allMis1\"   \n",
              " [71] \"ficAlb2\"    \"geoFor1\"    \"pseHum1\"    \"galGal4\"    \"anaPla1\"   \n",
              " [76] \"xenTro7\"    \"zonAlb1\"    \"amaVit1\"    \"melUnd1\"    \"latCha1\"   \n",
              " [81] \"colLiv1\"    \"araMac1\"    \"oreNil2\"    \"fr3\"        \"takFla1\"   \n",
              " [86] \"neoBri1\"    \"hapBur1\"    \"mayZeb1\"    \"punNye1\"    \"tetNig2\"   \n",
              " [91] \"oryLat2\"    \"gasAcu1\"    \"petMar2\"    \"xipMac1\"    \"gadMor1\"   \n",
              " [96] \"danRer10\"   \"lepOcu1\"    \"astMex1\"    \"echTel2\"    \"eleEdw1\"   \n",
              "\n",
              "$alphabet\n",
              "[1] \"ACGT\"\n",
              "\n",
              "$is.ordered\n",
              "[1] TRUE\n",
              "\n",
              "$offset\n",
              "[1] 31933897\n",
              "\n",
              "(alignment output suppressed)\n"
            ]
          },
          "metadata": {}
        }
      ]
    },
    {
      "cell_type": "code",
      "source": [
        "#- download the neutral model as well\n",
        "modfilename=\"http://hgdownload.soe.ucsc.edu/goldenPath/hg38/phastCons100way/hg38.phastCons100way.mod\"\n",
        "download.file(url=modfilename,destfile=\"./100way.mod\")\n",
        "mod = read.tm(\"./100way.mod\") # <<- mod contains tree-model (tm)\n",
        "print(mod)"
      ],
      "metadata": {
        "id": "EpMCONlRwawk",
        "outputId": "26a8d3ac-d308-49f0-a13d-bffa46424608",
        "colab": {
          "base_uri": "https://localhost:8080/"
        }
      },
      "execution_count": 51,
      "outputs": [
        {
          "output_type": "stream",
          "name": "stdout",
          "text": [
            "ALPHABET: A C G T \n",
            "ORDER: 0\n",
            "SUBST_MOD: REV\n",
            "TRAINING_LNL: -36996616.777386\n",
            "BACKGROUND: 0.246777 0.322934 0.185562 0.244727 \n",
            "RATE_MAT:\n",
            "  -0.986040    0.250072    0.535111    0.200857 \n",
            "   0.191098   -0.844691    0.196356    0.457236 \n",
            "   0.711640    0.341720   -1.299103    0.245743 \n",
            "   0.202540    0.603355    0.186332   -0.992227 \n",
            "TREE: ((((((((((((((((((hg38:0.00635811,panTro4:0.00639727):0.00214587,gorGor3:0.00871122):0.00953503,ponAbe2:0.0183964):0.00336551,nomLeu3:0.0213327):0.0110901,(((rheMac3:0.0028622,macFas5:0.00197199):0.0050833,papAnu2:0.00751373):0.0040709,chlSab2:0.0122377):0.0255202):0.0208042,(calJac3:0.0333897,saiBol1:0.0323178):0.0347897):0.0650259,otoGar3:0.152902):0.0175657,tupChi1:0.187728):0.00510076,(((speTri2:0.140811,(jacJac1:0.185825,((micOch1:0.109359,(criGri1:0.054378,mesAur1:0.0666414):0.0360916):0.0282033,(mm10:0.0855261,rn6:0.0922028):0.0652661):0.116838):0.0569671):0.00771378,(hetGla2:0.0893915,(cavPor3:0.119187,(chiLan1:0.0829668,octDeg1:0.122014):0.0152716):0.0266244):0.105307):0.0272505,(oryCun2:0.110274,ochPri3:0.195376):0.104344):0.0129379):0.0212441,(((susScr3:0.124351,((vicPac2:0.0166038,camFer1:0.0158169):0.0985397,((turTru2:0.00615913,orcOrc1:0.00529173):0.0574423,(panHod1:0.017308,(bosTau8:0.0505552,(oviAri3:0.0125618,capHir1:0.0120594):0.00662765):0.0017629):0.112657):0.0224037):0.00440398):0.0445492,(((equCab2:0.0801931,cerSim1:0.0618011):0.0347784,(felCat8:0.0887721,(canFam3:0.0890799,(musFur1:0.091856,(ailMel1:0.0607956,(odoRosDiv1:0.0259317,lepWed1:0.0233111):0.0279745):0.00450724):0.0200318):0.0210109):0.0518729):0.00483835,((pteAle1:0.00745471,pteVam1:0.00849452):0.105708,(eptFus1:0.0398389,(myoDav1:0.0277149,myoLuc2:0.0160484):0.0236592):0.104754):0.0341993):0.00373968):0.0122512,(eriEur2:0.245692,(sorAra2:0.288669,conCri1:0.163421):0.0166079):0.0360627):0.0230746):0.0223121,(((((loxAfr3:0.0902075,eleEdw1:0.225293):0.00281432,triMan1:0.0759834):0.016517,(chrAsi1:0.145989,echTel2:0.232419):0.0223786):0.00370578,oryAfe1:0.117489):0.055983,dasNov3:0.160081):0.0071811):0.24482,(monDom5:0.135945,(sarHar1:0.12595,macEug2:0.17055):0.0276415):0.21065):0.0768943,ornAna1:0.501668):0.124913,(((((colLiv1:0.132009,((falChe1:0.0058182,falPer1:0.00567237):0.0905799,(((ficAlb2:0.0685513,((zonAlb1:0.0599813,geoFor1:0.0321081):0.0337626,taeGut2:0.059471):0.0181941):0.0115065,pseHum1:0.0573849):0.145851,(melUnd1:0.0550482,(amaVit1:0.0562588,araMac1:0.0798077):0.0380323):0.0704439):0.0119833):0.00623598):0.032495,(anaPla1:0.113658,(galGal4:0.0483704,melGal1:0.0662736):0.0964733):0.0342237):0.221953,allMis1:0.209451):0.0242908,((cheMyd1:0.0454549,chrPic2:0.0445932):0.0369995,(pelSin1:0.0315336,apaSpi1:0.0976561):0.0997827):0.0909306):0.0880163,anoCar2:0.535853):0.105204):0.11512,xenTro7:0.976696):0.0821421,latCha1:0.58563):0.316476,(((((((tetNig2:0.220929,(fr3:0.0253804,takFla1:0.072793):0.176767):0.278221,(oreNil2:0.0356976,(neoBri1:0.0501887,(hapBur1:0.0218956,(mayZeb1:0.0161037,punNye1:0.0189284):0.00471546):0.0142526):0.0240123):0.291398):0.0102475,(oryLat2:0.412267,xipMac1:0.377834):0.0743198):0.0507173,gasAcu1:0.289459):0.215059,gadMor1:0.528528):0.17555,(danRer10:0.59036,astMex1:0.489834):0.197185):0.193684,lepOcu1:0.566151):0.0828966):0.532652,petMar2:0.532652);\n"
          ]
        }
      ]
    },
    {
      "cell_type": "markdown",
      "source": [
        "### Extract informative regions from alignment"
      ],
      "metadata": {
        "id": "7EvQhmSrvk3o"
      }
    },
    {
      "cell_type": "code",
      "source": [
        "#- install GenomicRanges etc., takes a while (~)\n",
        "if (!require(\"BiocManager\", quietly = TRUE))\n",
        "    install.packages(\"BiocManager\")\n",
        "\n",
        "BiocManager::install(\"GenomicRanges\")\n",
        "library(GenomicRanges)\n"
      ],
      "metadata": {
        "id": "LW9qL0S_vYWK",
        "outputId": "63786e96-9699-449f-d703-9842c8b8f5e4",
        "colab": {
          "base_uri": "https://localhost:8080/"
        }
      },
      "execution_count": 48,
      "outputs": [
        {
          "output_type": "stream",
          "name": "stderr",
          "text": [
            "'getOption(\"repos\")' replaces Bioconductor standard repositories, see\n",
            "'help(\"repositories\", package = \"BiocManager\")' for details.\n",
            "Replacement repositories:\n",
            "    CRAN: https://cran.rstudio.com\n",
            "\n",
            "Bioconductor version 3.16 (BiocManager 1.30.20), R 4.2.3 (2023-03-15)\n",
            "\n",
            "Warning message:\n",
            "“package(s) not installed when version(s) same as or greater than current; use\n",
            "  `force = TRUE` to re-install: 'GenomicRanges'”\n",
            "Old packages: 'bit', 'bslib', 'devtools', 'digest', 'gert', 'highr', 'isoband',\n",
            "  'jsonlite', 'pkgload', 'ps', 'rmarkdown', 'roxygen2', 'stringr', 'tidyverse',\n",
            "  'whisker', 'boot', 'foreign'\n",
            "\n"
          ]
        }
      ]
    },
    {
      "cell_type": "code",
      "source": [
        "#- Get informative regions\n",
        "inf_reg     <- informative.regions.msa(msa,min.numspec=10,refseq=\"hg38\")\n",
        "inf_reg_rng <- GRanges(\"chr13\",IRanges(inf_reg$start,inf_reg$end)) \n",
        "inf_reg_rng"
      ],
      "metadata": {
        "id": "VGmfsVj8wWVd",
        "outputId": "1e7b6f9b-6846-494c-ea4d-3b1d0a904950",
        "colab": {
          "base_uri": "https://localhost:8080/",
          "height": 295
        }
      },
      "execution_count": 50,
      "outputs": [
        {
          "output_type": "display_data",
          "data": {
            "text/plain": [
              "GRanges object with 2459 ranges and 0 metadata columns:\n",
              "         seqnames            ranges strand\n",
              "            <Rle>         <IRanges>  <Rle>\n",
              "     [1]    chr13 31933898-31934051      *\n",
              "     [2]    chr13 31934053-31934062      *\n",
              "     [3]    chr13 31934064-31934122      *\n",
              "     [4]    chr13 31934125-31934191      *\n",
              "     [5]    chr13 31934202-31934209      *\n",
              "     ...      ...               ...    ...\n",
              "  [2455]    chr13 32779937-32780668      *\n",
              "  [2456]    chr13 32780673-32780720      *\n",
              "  [2457]    chr13 32780722-32780862      *\n",
              "  [2458]    chr13 32780864-32780985      *\n",
              "  [2459]    chr13 32780987-32781841      *\n",
              "  -------\n",
              "  seqinfo: 1 sequence from an unspecified genome; no seqlengths"
            ]
          },
          "metadata": {}
        }
      ]
    },
    {
      "cell_type": "markdown",
      "source": [
        "### Mask human sequence (because we'll screen for lineage-specific acc later)"
      ],
      "metadata": {
        "id": "GZ0xgg7wxOux"
      }
    },
    {
      "cell_type": "code",
      "source": [
        "#- perhaps mask a species (if you want to look for acceleration later)\n",
        "msa.nohg        = copy.msa(msa)\n",
        "msa.nohg$seq[1] = gsub(\"[AaCcGgTt]\",\"N\",msa.nohg$seq[1])\n",
        "print(msa.nohg[,1:10]$seq[1:5])"
      ],
      "metadata": {
        "id": "fTW4mfvWxOYB",
        "outputId": "8e17cdcc-a67a-491d-e5ad-d9e8a93f3434",
        "colab": {
          "base_uri": "https://localhost:8080/"
        }
      },
      "execution_count": 52,
      "outputs": [
        {
          "output_type": "stream",
          "name": "stdout",
          "text": [
            "[1] \"NNNNNNNNNN\" \"TTGCAGAATT\" \"GTGCAGAATT\" \"TTGCAGAATT\" \"TTGCAGAATT\"\n"
          ]
        }
      ]
    },
    {
      "cell_type": "markdown",
      "source": [
        "### Run `phastCons` to get conserved regions\n",
        "\n",
        "After all this work for getting alignment and neutral model data, we finally fit the phastCons phylogenetic HMM"
      ],
      "metadata": {
        "id": "ImlbJBQoxhda"
      }
    },
    {
      "cell_type": "code",
      "source": [
        "#- actually run phastCons\n",
        "pc <-  phastCons(msa.nohg,mod)\n",
        "\n",
        "#- collect conserved elements into a feature object\n",
        "pc.feat = feat( seqname   = pc$most.conserved$seqname,\n",
        "                src       = pc$most.conserved$src,\n",
        "                feature   = pc$most.conserved$feature,\n",
        "                start     = pc$most.conserved$start,\n",
        "                end       = pc$most.conserved$end,\n",
        "                score     = pc$most.conserved$score,\n",
        "                strand    = pc$most.conserved$strand,\n",
        "                attribute = pc$most.conserved$attribute)\n",
        "head(pc.feat)"
      ],
      "metadata": {
        "id": "D3v1rtG0xl-N",
        "outputId": "f1b752af-fab5-45f0-ebb4-2df780c93b15",
        "colab": {
          "base_uri": "https://localhost:8080/",
          "height": 286
        }
      },
      "execution_count": 53,
      "outputs": [
        {
          "output_type": "display_data",
          "data": {
            "text/html": [
              "<table class=\"dataframe\">\n",
              "<caption>A feat: 6 × 8</caption>\n",
              "<thead>\n",
              "\t<tr><th></th><th scope=col>seqname</th><th scope=col>src</th><th scope=col>feature</th><th scope=col>start</th><th scope=col>end</th><th scope=col>score</th><th scope=col>strand</th><th scope=col>attribute</th></tr>\n",
              "\t<tr><th></th><th scope=col>&lt;chr&gt;</th><th scope=col>&lt;chr&gt;</th><th scope=col>&lt;chr&gt;</th><th scope=col>&lt;int&gt;</th><th scope=col>&lt;int&gt;</th><th scope=col>&lt;dbl&gt;</th><th scope=col>&lt;chr&gt;</th><th scope=col>&lt;chr&gt;</th></tr>\n",
              "</thead>\n",
              "<tbody>\n",
              "\t<tr><th scope=row>1</th><td>hg38</td><td>PHAST</td><td>phastCons_predicted</td><td>31935322</td><td>31935329</td><td>13.01657</td><td>+</td><td>id \"1\"</td></tr>\n",
              "\t<tr><th scope=row>2</th><td>hg38</td><td>PHAST</td><td>phastCons_predicted</td><td>31935369</td><td>31935373</td><td>13.49055</td><td>+</td><td>id \"2\"</td></tr>\n",
              "\t<tr><th scope=row>3</th><td>hg38</td><td>PHAST</td><td>phastCons_predicted</td><td>31935455</td><td>31935459</td><td>11.85644</td><td>+</td><td>id \"3\"</td></tr>\n",
              "\t<tr><th scope=row>4</th><td>hg38</td><td>PHAST</td><td>phastCons_predicted</td><td>31935484</td><td>31935486</td><td>11.83754</td><td>+</td><td>id \"4\"</td></tr>\n",
              "\t<tr><th scope=row>5</th><td>hg38</td><td>PHAST</td><td>phastCons_predicted</td><td>31936309</td><td>31936318</td><td>18.31918</td><td>+</td><td>id \"5\"</td></tr>\n",
              "\t<tr><th scope=row>6</th><td>hg38</td><td>PHAST</td><td>phastCons_predicted</td><td>31936939</td><td>31936946</td><td>17.42129</td><td>+</td><td>id \"6\"</td></tr>\n",
              "</tbody>\n",
              "</table>\n"
            ],
            "text/markdown": "\nA feat: 6 × 8\n\n| <!--/--> | seqname &lt;chr&gt; | src &lt;chr&gt; | feature &lt;chr&gt; | start &lt;int&gt; | end &lt;int&gt; | score &lt;dbl&gt; | strand &lt;chr&gt; | attribute &lt;chr&gt; |\n|---|---|---|---|---|---|---|---|---|\n| 1 | hg38 | PHAST | phastCons_predicted | 31935322 | 31935329 | 13.01657 | + | id \"1\" |\n| 2 | hg38 | PHAST | phastCons_predicted | 31935369 | 31935373 | 13.49055 | + | id \"2\" |\n| 3 | hg38 | PHAST | phastCons_predicted | 31935455 | 31935459 | 11.85644 | + | id \"3\" |\n| 4 | hg38 | PHAST | phastCons_predicted | 31935484 | 31935486 | 11.83754 | + | id \"4\" |\n| 5 | hg38 | PHAST | phastCons_predicted | 31936309 | 31936318 | 18.31918 | + | id \"5\" |\n| 6 | hg38 | PHAST | phastCons_predicted | 31936939 | 31936946 | 17.42129 | + | id \"6\" |\n\n",
            "text/latex": "A feat: 6 × 8\n\\begin{tabular}{r|llllllll}\n  & seqname & src & feature & start & end & score & strand & attribute\\\\\n  & <chr> & <chr> & <chr> & <int> & <int> & <dbl> & <chr> & <chr>\\\\\n\\hline\n\t1 & hg38 & PHAST & phastCons\\_predicted & 31935322 & 31935329 & 13.01657 & + & id \"1\"\\\\\n\t2 & hg38 & PHAST & phastCons\\_predicted & 31935369 & 31935373 & 13.49055 & + & id \"2\"\\\\\n\t3 & hg38 & PHAST & phastCons\\_predicted & 31935455 & 31935459 & 11.85644 & + & id \"3\"\\\\\n\t4 & hg38 & PHAST & phastCons\\_predicted & 31935484 & 31935486 & 11.83754 & + & id \"4\"\\\\\n\t5 & hg38 & PHAST & phastCons\\_predicted & 31936309 & 31936318 & 18.31918 & + & id \"5\"\\\\\n\t6 & hg38 & PHAST & phastCons\\_predicted & 31936939 & 31936946 & 17.42129 & + & id \"6\"\\\\\n\\end{tabular}\n",
            "text/plain": [
              "  seqname src   feature             start    end      score    strand attribute\n",
              "1 hg38    PHAST phastCons_predicted 31935322 31935329 13.01657 +      id \"1\"   \n",
              "2 hg38    PHAST phastCons_predicted 31935369 31935373 13.49055 +      id \"2\"   \n",
              "3 hg38    PHAST phastCons_predicted 31935455 31935459 11.85644 +      id \"3\"   \n",
              "4 hg38    PHAST phastCons_predicted 31935484 31935486 11.83754 +      id \"4\"   \n",
              "5 hg38    PHAST phastCons_predicted 31936309 31936318 18.31918 +      id \"5\"   \n",
              "6 hg38    PHAST phastCons_predicted 31936939 31936946 17.42129 +      id \"6\"   "
            ]
          },
          "metadata": {}
        }
      ]
    },
    {
      "cell_type": "code",
      "source": [
        "?phastCons"
      ],
      "metadata": {
        "id": "2Fbjrfqax6sL"
      },
      "execution_count": 54,
      "outputs": []
    },
    {
      "cell_type": "markdown",
      "source": [
        "### Run `phyloP` as well"
      ],
      "metadata": {
        "id": "6b2EnFB-yU5a"
      }
    },
    {
      "cell_type": "code",
      "source": [
        "#- now run phyloP (takes a \"little\" time)\n",
        "#pp_con    <- phyloP(msa=msa,mod=mod,method=\"LRT\",mode=\"CON\")\n",
        "pp_conacc <- phyloP(msa=msa,mod=mod,method=\"LRT\",mode=\"CONACC\")\n",
        "#pp_acchg  <- phyloP(msa=msa,mod=mod,branches=\"hg38\",method=\"LRT\",mode=\"ACC\")"
      ],
      "metadata": {
        "id": "fqzcZsRGyY-A"
      },
      "execution_count": 57,
      "outputs": []
    },
    {
      "cell_type": "code",
      "source": [
        "?phyloP"
      ],
      "metadata": {
        "id": "U35ov03Xyixn"
      },
      "execution_count": null,
      "outputs": []
    },
    {
      "cell_type": "markdown",
      "source": [
        "### Display results"
      ],
      "metadata": {
        "id": "a2Pq0H9cytO9"
      }
    },
    {
      "cell_type": "code",
      "source": [
        "#- dependencies (unfortunately takes a long time....)\n",
        "BiocManager::install(\"biomaRt\")\n",
        "BiocManager::install(\"Gviz\")"
      ],
      "metadata": {
        "id": "Lc3u_D_ay9LX",
        "outputId": "d8c40d3b-2696-4d2e-88b6-bb4845597a20",
        "colab": {
          "base_uri": "https://localhost:8080/"
        }
      },
      "execution_count": null,
      "outputs": [
        {
          "output_type": "stream",
          "name": "stderr",
          "text": [
            "'getOption(\"repos\")' replaces Bioconductor standard repositories, see\n",
            "'help(\"repositories\", package = \"BiocManager\")' for details.\n",
            "Replacement repositories:\n",
            "    CRAN: https://cran.rstudio.com\n",
            "\n",
            "Bioconductor version 3.16 (BiocManager 1.30.20), R 4.2.3 (2023-03-15)\n",
            "\n",
            "Installing package(s) 'biomaRt'\n",
            "\n",
            "also installing the dependencies ‘plogr’, ‘png’, ‘Biostrings’, ‘Biobase’, ‘RSQLite’, ‘KEGGREST’, ‘filelock’, ‘XML’, ‘AnnotationDbi’, ‘BiocFileCache’\n",
            "\n",
            "\n",
            "Old packages: 'bit', 'bslib', 'devtools', 'digest', 'gert', 'highr', 'isoband',\n",
            "  'jsonlite', 'pkgload', 'ps', 'rmarkdown', 'roxygen2', 'stringr', 'tidyverse',\n",
            "  'whisker', 'boot', 'foreign'\n",
            "\n",
            "'getOption(\"repos\")' replaces Bioconductor standard repositories, see\n",
            "'help(\"repositories\", package = \"BiocManager\")' for details.\n",
            "Replacement repositories:\n",
            "    CRAN: https://cran.rstudio.com\n",
            "\n",
            "Bioconductor version 3.16 (BiocManager 1.30.20), R 4.2.3 (2023-03-15)\n",
            "\n",
            "Installing package(s) 'Gviz'\n",
            "\n",
            "also installing the dependencies ‘formatR’, ‘checkmate’, ‘htmlwidgets’, ‘lambda.r’, ‘futile.options’, ‘rjson’, ‘lazyeval’, ‘gridExtra’, ‘htmlTable’, ‘viridis’, ‘Formula’, ‘MatrixGenerics’, ‘DelayedArray’, ‘futile.logger’, ‘snow’, ‘BH’, ‘Rcpp’, ‘deldir’, ‘RcppEigen’, ‘BiocIO’, ‘restfulr’, ‘AnnotationFilter’, ‘ProtGenerics’, ‘Hmisc’, ‘dichromat’, ‘SummarizedExperiment’, ‘VariantAnnotation’, ‘BiocParallel’, ‘Rhtslib’, ‘jpeg’, ‘interp’, ‘rtracklayer’, ‘GenomicFeatures’, ‘ensembldb’, ‘BSgenome’, ‘biovizBase’, ‘Rsamtools’, ‘latticeExtra’, ‘matrixStats’, ‘GenomicAlignments’\n",
            "\n",
            "\n"
          ]
        }
      ]
    },
    {
      "cell_type": "code",
      "source": [
        "library(biomaRt)\n",
        "library(Gviz)\n",
        "library(GenomicRanges)\n",
        "ensembl = useMart( host=\"aug2020.archive.ensembl.org\",   \n",
        "           biomart='ENSEMBL_MART_ENSEMBL'    ,\n",
        "           dataset='hsapiens_gene_ensembl'   )\n",
        "itrack  = IdeogramTrack(chromosome=13, \"hg38\")\n",
        "gtrack  = GenomeAxisTrack()\n",
        "getrack = BiomartGeneRegionTrack(start   = 32294275,\n",
        "                                 end     = 32421464, \n",
        "                                 biomart = ensembl, \n",
        "                                 chrom   = \"chr13\",  \n",
        "                                 genome  = \"hg38\", \n",
        "                                 name    = \"genes\")\n",
        "\n",
        "plotTracks(list(itrack,gtrack,getrack),type=\"l\",from=32294275,to=32421464)"
      ],
      "metadata": {
        "id": "Jpgsq5jYzIVa"
      },
      "execution_count": null,
      "outputs": []
    },
    {
      "cell_type": "code",
      "source": [
        "#- track of (merged) conserved elements\n",
        "ele.rng  = GRanges(\"chr13\",IRanges(pc$most.conserved$start,pc$most.conserved$end))\n",
        "ee       = reduce(ele.rng,min.gapwidth=5)\n",
        "pc_track = AnnotationTrack(ee, name = \"phastCons_elements\",ucscChromosomeNames=FALSE)\n",
        "\n",
        "coords         = pp_con$coord\n",
        "ppcon_track    = DataTrack(data=pp_con$score[-length(coords)],chrom=\"chr13\",\n",
        "                           start=coords[-length(coords)],\n",
        "                           end=coords[-1],genome=\"hg38\",name=\"phyloP-CON\")\n",
        "ppconacc_track = DataTrack(data=pp_conacc$score[-length(coords)],chrom=\"chr13\",\n",
        "                           start=coords[-length(coords)],\n",
        "                           end=coords[-1],genome=\"hg38\",name=\"phyloP-CONACC\")\n",
        "ppacchg_track  = DataTrack(data=pp_acchg$score[-length(coords)],chrom=\"chr13\",\n",
        "                           start=coords[-length(coords)],\n",
        "                           end=coords[-1],genome=\"hg38\",name=\"phyloP-HGACC\")"
      ],
      "metadata": {
        "id": "NusvvUPu0C8s"
      },
      "execution_count": null,
      "outputs": []
    },
    {
      "cell_type": "code",
      "source": [
        "plotTracks(list(itrack,gtrack,getrack,ppcon_track,pc_track,ppconacc_track,ppacchg_track),type=c(\"l\"),from=32294275,to=32421464)\n",
        "\n",
        "pdf(\"./region-plot.pdf\",width=16,height=6)\n",
        "plotTracks(list(itrack,gtrack,getrack,ppcon_track,pc_track,ppconacc_track,ppacchg_track),type=c(\"l\"),from=32294275,to=32421464)\n",
        "dev.off()\n",
        "Biobase::openPDF(\"./region-plot.pdf\")"
      ],
      "metadata": {
        "id": "epc019I10F0k"
      },
      "execution_count": null,
      "outputs": []
    }
  ]
}