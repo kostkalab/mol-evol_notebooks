{
  "cells": [
    {
      "cell_type": "markdown",
      "metadata": {
        "id": "view-in-github",
        "colab_type": "text"
      },
      "source": [
        "<a href=\"https://colab.research.google.com/github/kostkalab/mol-evol_notebooks/blob/main/install_rphast.ipynb\" target=\"_parent\"><img src=\"https://colab.research.google.com/assets/colab-badge.svg\" alt=\"Open In Colab\"/></a>"
      ]
    },
    {
      "cell_type": "markdown",
      "metadata": {
        "id": "h8urbnSoVO3P"
      },
      "source": [
        "This is to install the `rphast` package in your google colab workspace, and to do that (somewhat) presistenlty."
      ]
    },
    {
      "cell_type": "markdown",
      "metadata": {
        "id": "zaUdzbZxWfa2"
      },
      "source": [
        "First, we get access to our google drive folders."
      ]
    },
    {
      "cell_type": "code",
      "execution_count": null,
      "metadata": {
        "colab": {
          "base_uri": "https://localhost:8080/"
        },
        "id": "CE5cHciUWlGp",
        "outputId": "3fbd1c8a-5e85-4079-96c9-890f10f19a65"
      },
      "outputs": [
        {
          "name": "stderr",
          "output_type": "stream",
          "text": [
            "Installing package into ‘/usr/local/lib/R/site-library’\n",
            "(as ‘lib’ is unspecified)\n",
            "\n",
            "Installing package into ‘/usr/local/lib/R/site-library’\n",
            "(as ‘lib’ is unspecified)\n",
            "\n",
            "also installing the dependencies ‘promises’, ‘later’\n",
            "\n",
            "\n"
          ]
        }
      ],
      "source": [
        "install.packages(\"googledrive\")\n",
        "install.packages(\"httpuv\")\n",
        "library(\"googledrive\")\n",
        "library(\"httpuv\")"
      ]
    },
    {
      "cell_type": "code",
      "execution_count": null,
      "metadata": {
        "colab": {
          "base_uri": "https://localhost:8080/"
        },
        "id": "xlLg93uQeaQG",
        "outputId": "7845c826-ad25-4a38-e80d-677bfacdbd1d"
      },
      "outputs": [
        {
          "name": "stderr",
          "output_type": "stream",
          "text": [
            "Installing package into ‘/usr/local/lib/R/site-library’\n",
            "(as ‘lib’ is unspecified)\n",
            "\n",
            "also installing the dependencies ‘R.oo’, ‘R.methodsS3’\n",
            "\n",
            "\n",
            "Loading required package: R.oo\n",
            "\n",
            "Loading required package: R.methodsS3\n",
            "\n",
            "R.methodsS3 v1.8.2 (2022-06-13 22:00:14 UTC) successfully loaded. See ?R.methodsS3 for help.\n",
            "\n",
            "R.oo v1.25.0 (2022-06-12 02:20:02 UTC) successfully loaded. See ?R.oo for help.\n",
            "\n",
            "\n",
            "Attaching package: ‘R.oo’\n",
            "\n",
            "\n",
            "The following object is masked from ‘package:R.methodsS3’:\n",
            "\n",
            "    throw\n",
            "\n",
            "\n",
            "The following objects are masked from ‘package:methods’:\n",
            "\n",
            "    getClasses, getMethods\n",
            "\n",
            "\n",
            "The following objects are masked from ‘package:base’:\n",
            "\n",
            "    attach, detach, load, save\n",
            "\n",
            "\n",
            "R.utils v2.12.2 (2022-11-11 22:00:03 UTC) successfully loaded. See ?R.utils for help.\n",
            "\n",
            "\n",
            "Attaching package: ‘R.utils’\n",
            "\n",
            "\n",
            "The following object is masked from ‘package:utils’:\n",
            "\n",
            "    timestamp\n",
            "\n",
            "\n",
            "The following objects are masked from ‘package:base’:\n",
            "\n",
            "    cat, commandArgs, getOption, isOpen, nullfile, parse, warnings\n",
            "\n",
            "\n"
          ]
        }
      ],
      "source": [
        "if (file.exists(\"/usr/local/lib/python3.8/dist-packages/google/colab/_ipython.py\")) { #may update python version  \n",
        "                                       #occasionally\n",
        "                                      \n",
        "  install.packages(\"R.utils\")\n",
        "  library(\"R.utils\")\n",
        "  library(\"httr\")\n",
        "  my_check <- function() {return(TRUE)}\n",
        "  reassignInPackage(\"is_interactive\", pkgName = \"httr\", my_check) \n",
        "  options(rlang_interactive=TRUE)\n",
        "}"
      ]
    },
    {
      "cell_type": "markdown",
      "metadata": {
        "id": "7iqdr-CzfCeW"
      },
      "source": [
        "Let's see if we can connect to google drive..."
      ]
    },
    {
      "cell_type": "code",
      "execution_count": null,
      "metadata": {
        "colab": {
          "background_save": true,
          "base_uri": "https://localhost:8080/"
        },
        "id": "VkwVaygWfFzI",
        "outputId": "9a5f6f77-882f-459d-c139-c81cd1a3a002"
      },
      "outputs": [
        {
          "name": "stderr",
          "output_type": "stream",
          "text": [
            "Please point your browser to the following url: \n",
            "\n",
            "https://accounts.google.com/o/oauth2/v2/auth?client_id=603366585132-dpeg5tt0et3go5of2374d83ifevk5086.apps.googleusercontent.com&scope=https%3A%2F%2Fwww.googleapis.com%2Fauth%2Fdrive%20https%3A%2F%2Fwww.googleapis.com%2Fauth%2Fuserinfo.email&redirect_uri=urn%3Aietf%3Awg%3Aoauth%3A2.0%3Aoob&response_type=code&ack_oob_shutdown=2022-10-03\n",
            "\n"
          ]
        }
      ],
      "source": [
        "drive_auth(use_oob = TRUE, cache = TRUE)"
      ]
    },
    {
      "cell_type": "markdown",
      "metadata": {
        "id": "OKBKvZEYWtoS"
      },
      "source": [
        "Next, we install software packages on not in the \"default\" location, but on our google drive, so we can re-use them in future sessions.\n",
        "\n",
        "Do keep you google drive organized, you can create a folder called `src`, a subfolder called `google_colab`, and another subfolder called `rlang`. "
      ]
    },
    {
      "cell_type": "code",
      "execution_count": null,
      "metadata": {
        "id": "9Yqa5zEaXkUR"
      },
      "outputs": [],
      "source": [
        "help(package = 'googledrive')"
      ]
    },
    {
      "cell_type": "code",
      "execution_count": null,
      "metadata": {
        "colab": {
          "base_uri": "https://localhost:8080/",
          "height": 478
        },
        "id": "zJ3p-rcjYEXU",
        "outputId": "2bf3ead0-0be9-4142-e22c-b597561ef6d8"
      },
      "outputs": [
        {
          "ename": "ERROR",
          "evalue": "ignored",
          "output_type": "error",
          "traceback": [
            "\u001b[1m\u001b[33mError\u001b[39m in `drive_auth()`:\u001b[22m\n\u001b[1m\u001b[22m\u001b[33m!\u001b[39m Can't get Google credentials\n\u001b[36mℹ\u001b[39m Are you running googledrive in a non-interactive session? Consider:\n\u001b[36m•\u001b[39m `drive_deauth()` to prevent the attempt to get credentials\n\u001b[36m•\u001b[39m Call `drive_auth()` directly with all necessary specifics\n\u001b[36mℹ\u001b[39m See gargle's \"Non-interactive auth\" vignette for more details:\n\u001b[36mℹ\u001b[39m \u001b[3m\u001b[34m<https://gargle.r-lib.org/articles/non-interactive-auth.html>\u001b[39m\u001b[23m\nTraceback:\n",
            "1. drive_auth(email = \"kostka@pitt.edu\")",
            "2. drive_abort(c(\"Can't get Google credentials\", i = \"Are you running googledrive in a non-interactive session? \\\\\\n             Consider:\", \n .     `*` = \"{.fun drive_deauth} to prevent the attempt to get credentials\", \n .     `*` = \"Call {.fun drive_auth} directly with all necessary specifics\", \n .     i = \"See gargle's \\\"Non-interactive auth\\\" vignette for more details:\", \n .     i = \"{.url https://gargle.r-lib.org/articles/non-interactive-auth.html}\"))",
            "3. cli::cli_abort(message = message, ..., .envir = .envir)",
            "4. rlang::abort(message, ..., call = call, use_cli_format = TRUE, \n .     .frame = .frame)",
            "5. signal_abort(cnd, .file)"
          ]
        }
      ],
      "source": [
        "drive_auth(email = 'kostka@pitt.edu')"
      ]
    },
    {
      "cell_type": "code",
      "execution_count": null,
      "metadata": {
        "colab": {
          "base_uri": "https://localhost:8080/",
          "height": 877
        },
        "id": "cxaRxiomXxUX",
        "outputId": "4eb50d54-9521-4585-e3c8-4faf9f475457"
      },
      "outputs": [
        {
          "ename": "ERROR",
          "evalue": "ignored",
          "output_type": "error",
          "traceback": [
            "\u001b[1m\u001b[33mError\u001b[39m in `drive_auth()`:\u001b[22m\n\u001b[1m\u001b[22m\u001b[33m!\u001b[39m Can't get Google credentials\n\u001b[36mℹ\u001b[39m Are you running googledrive in a non-interactive session? Consider:\n\u001b[36m•\u001b[39m `drive_deauth()` to prevent the attempt to get credentials\n\u001b[36m•\u001b[39m Call `drive_auth()` directly with all necessary specifics\n\u001b[36mℹ\u001b[39m See gargle's \"Non-interactive auth\" vignette for more details:\n\u001b[36mℹ\u001b[39m \u001b[3m\u001b[34m<https://gargle.r-lib.org/articles/non-interactive-auth.html>\u001b[39m\u001b[23m\nTraceback:\n",
            "1. drive_mkdir(\"src\")",
            "2. drive_create(name = name, path = path, type = \"application/vnd.google-apps.folder\", \n .     ..., overwrite = overwrite)",
            "3. rationalize_path_name(path, name)",
            "4. confirm_clear_path(path, name)",
            "5. drive_path_exists(append_slash(path))",
            "6. with_drive_quiet(some_files(drive_get(path = path)))",
            "7. withr::with_options(list(googledrive_quiet = TRUE), code = code)",
            "8. force(code)",
            "9. some_files(drive_get(path = path))",
            "10. stopifnot(inherits(d, \"dribble\"))",
            "11. drive_get(path = path)",
            "12. drive_get_path(path, shared_drive, corpus)",
            "13. get_by_name(last_path_part, shared_drive = shared_drive, corpus = corpus)",
            "14. drive_find(q = or(q_clauses), shared_drive = shared_drive, corpus = corpus)",
            "15. request_generate(endpoint = \"drive.files.list\", params = params)",
            "16. gargle::request_build(path = req$path, method = req$method, params = req$params, \n  .     body = req$body, token = token)",
            "17. drive_token()",
            "18. drive_auth()",
            "19. drive_abort(c(\"Can't get Google credentials\", i = \"Are you running googledrive in a non-interactive session? \\\\\\n             Consider:\", \n  .     `*` = \"{.fun drive_deauth} to prevent the attempt to get credentials\", \n  .     `*` = \"Call {.fun drive_auth} directly with all necessary specifics\", \n  .     i = \"See gargle's \\\"Non-interactive auth\\\" vignette for more details:\", \n  .     i = \"{.url https://gargle.r-lib.org/articles/non-interactive-auth.html}\"))",
            "20. cli::cli_abort(message = message, ..., .envir = .envir)",
            "21. rlang::abort(message, ..., call = call, use_cli_format = TRUE, \n  .     .frame = .frame)",
            "22. signal_abort(cnd, .file)"
          ]
        }
      ],
      "source": [
        "drive_mkdir('src')"
      ]
    },
    {
      "cell_type": "code",
      "execution_count": null,
      "metadata": {
        "colab": {
          "base_uri": "https://localhost:8080/"
        },
        "id": "07jfw9HWUSAb",
        "outputId": "be21901c-b8c1-4d24-a2ba-98eb52043a7b"
      },
      "outputs": [
        {
          "name": "stderr",
          "output_type": "stream",
          "text": [
            "Downloading GitHub repo CshlSiepelLab/RPHAST@HEAD\n",
            "\n"
          ]
        },
        {
          "name": "stdout",
          "output_type": "stream",
          "text": [
            "\u001b[36m──\u001b[39m \u001b[36mR CMD build\u001b[39m \u001b[36m─────────────────────────────────────────────────────────────────\u001b[39m\n",
            "* checking for file ‘/tmp/RtmpVlzcOR/remotescf67ae7a03/CshlSiepelLab-RPHAST-2b68f4c/DESCRIPTION’ ... OK\n",
            "* preparing ‘rphast’:\n",
            "* checking DESCRIPTION meta-information ... OK\n",
            "* cleaning src\n",
            "* running ‘cleanup’\n",
            "* checking vignette meta-information ... OK\n",
            "* checking for LF line-endings in source and make files and shell scripts\n",
            "* checking for empty or unneeded directories\n",
            "* building ‘rphast_1.6.11.tar.gz’\n",
            "\n"
          ]
        },
        {
          "name": "stderr",
          "output_type": "stream",
          "text": [
            "Installing package into ‘/usr/local/lib/R/site-library’\n",
            "(as ‘lib’ is unspecified)\n",
            "\n"
          ]
        }
      ],
      "source": [
        "devtools::install_github(\"CshlSiepelLab/RPHAST\")"
      ]
    },
    {
      "cell_type": "code",
      "execution_count": null,
      "metadata": {
        "id": "tgg2wZX-Ufgc"
      },
      "outputs": [],
      "source": [
        "library(rphast)"
      ]
    },
    {
      "cell_type": "code",
      "execution_count": null,
      "metadata": {
        "id": "BcAjZR0bU0WV"
      },
      "outputs": [],
      "source": [
        "help(package='rphast')"
      ]
    },
    {
      "cell_type": "code",
      "execution_count": null,
      "metadata": {
        "id": "tI-JvXIjU61e"
      },
      "outputs": [],
      "source": []
    }
  ],
  "metadata": {
    "colab": {
      "provenance": [],
      "authorship_tag": "ABX9TyNhjUbFUcs8Y0sqMRfgqAzX",
      "include_colab_link": true
    },
    "kernelspec": {
      "display_name": "R",
      "name": "ir"
    },
    "language_info": {
      "name": "R"
    }
  },
  "nbformat": 4,
  "nbformat_minor": 0
}