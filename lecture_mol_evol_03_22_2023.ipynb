{
  "nbformat": 4,
  "nbformat_minor": 0,
  "metadata": {
    "colab": {
      "provenance": [],
      "authorship_tag": "ABX9TyNtbCXvCaiuG0exQf1z2hZw",
      "include_colab_link": true
    },
    "kernelspec": {
      "name": "ir",
      "display_name": "R"
    },
    "language_info": {
      "name": "R"
    }
  },
  "cells": [
    {
      "cell_type": "markdown",
      "metadata": {
        "id": "view-in-github",
        "colab_type": "text"
      },
      "source": [
        "<a href=\"https://colab.research.google.com/github/kostkalab/mol-evol_notebooks/blob/main/lecture_mol_evol_03_22_2023.ipynb\" target=\"_parent\"><img src=\"https://colab.research.google.com/assets/colab-badge.svg\" alt=\"Open In Colab\"/></a>"
      ]
    },
    {
      "cell_type": "markdown",
      "source": [
        "# Mystery alignment\n",
        "\n",
        "In this lecture we'll analyze an alignment we don't know where it came from and use the tools we have learned about previously to infer a generating model.\n",
        "\n",
        "Specifically, we'd like to know: Assuming one of the substitution models we talked about:\n",
        "\n",
        "- What was the tree topology that generated this alignment?\n",
        "- What was the reate matrix, what were the branch lengths (i.e., expected number of substitutions on each branch)?\n",
        "\n",
        "First, we will install `rphast` and download the alignment."
      ],
      "metadata": {
        "id": "9X1cHTHnV5N0"
      }
    },
    {
      "cell_type": "code",
      "source": [
        "devtools::install_github(\"CshlSiepelLab/RPHAST\")"
      ],
      "metadata": {
        "colab": {
          "base_uri": "https://localhost:8080/"
        },
        "id": "CHl_kFlLWUvs",
        "outputId": "4b456921-bbb2-4daf-a7ce-2a2d4f0ab62e"
      },
      "execution_count": 1,
      "outputs": [
        {
          "output_type": "stream",
          "name": "stderr",
          "text": [
            "Downloading GitHub repo CshlSiepelLab/RPHAST@HEAD\n",
            "\n"
          ]
        },
        {
          "output_type": "stream",
          "name": "stdout",
          "text": [
            "\u001b[36m──\u001b[39m \u001b[36mR CMD build\u001b[39m \u001b[36m─────────────────────────────────────────────────────────────────\u001b[39m\n",
            "* checking for file ‘/tmp/RtmpQBR7a6/remotes837cfbd97/CshlSiepelLab-RPHAST-2b68f4c/DESCRIPTION’ ... OK\n",
            "* preparing ‘rphast’:\n",
            "* checking DESCRIPTION meta-information ... OK\n",
            "* cleaning src\n",
            "* running ‘cleanup’\n",
            "* checking vignette meta-information ... OK\n",
            "* checking for LF line-endings in source and make files and shell scripts\n",
            "* checking for empty or unneeded directories\n",
            "* building ‘rphast_1.6.11.tar.gz’\n",
            "\n"
          ]
        },
        {
          "output_type": "stream",
          "name": "stderr",
          "text": [
            "Installing package into ‘/usr/local/lib/R/site-library’\n",
            "(as ‘lib’ is unspecified)\n",
            "\n"
          ]
        }
      ]
    },
    {
      "cell_type": "code",
      "source": [
        "#- download alignment\n",
        "#--------------------\n",
        "url       <- 'https://github.com/kostkalab/mol-evol_notebooks/raw/main/mystery_msa.rds'\n",
        "tfle_name <- paste0(tempfile(),'.rds')\n",
        "download.file(url, tfle_name)\n",
        "msa       <- readRDS(tfle_name)\n",
        "# msa\n",
        "file.remove(tfle_name) #- cleanup"
      ],
      "metadata": {
        "colab": {
          "base_uri": "https://localhost:8080/",
          "height": 34
        },
        "id": "5g6j29aWXUKp",
        "outputId": "28395909-a4bf-42eb-ef84-b2a11b5da275"
      },
      "execution_count": 1,
      "outputs": [
        {
          "output_type": "display_data",
          "data": {
            "text/html": [
              "TRUE"
            ],
            "text/markdown": "TRUE",
            "text/latex": "TRUE",
            "text/plain": [
              "[1] TRUE"
            ]
          },
          "metadata": {}
        }
      ]
    },
    {
      "cell_type": "markdown",
      "source": [
        "# Group discussion\n",
        "\n",
        "Discuss together on what are the next steps:\n",
        "\n",
        "- What are all the parameters of the model that generated this alignment?\n",
        "- How can we find out about them?\n",
        "\n",
        "Take ~5 or so minutes and come up with a verbal plan.\n",
        "\n",
        "We will then work together to implement it here on colab."
      ],
      "metadata": {
        "id": "pTNuEFJoX-px"
      }
    },
    {
      "cell_type": "code",
      "source": [],
      "metadata": {
        "id": "9iy5F5G-Yhtt"
      },
      "execution_count": null,
      "outputs": []
    }
  ]
}