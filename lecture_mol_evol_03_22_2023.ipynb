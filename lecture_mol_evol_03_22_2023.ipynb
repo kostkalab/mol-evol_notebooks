{
  "nbformat": 4,
  "nbformat_minor": 0,
  "metadata": {
    "colab": {
      "provenance": [],
      "authorship_tag": "ABX9TyM4M06B7QyzJ8XEONCYydtK",
      "include_colab_link": true
    },
    "kernelspec": {
      "name": "ir",
      "display_name": "R"
    },
    "language_info": {
      "name": "R"
    }
  },
  "cells": [
    {
      "cell_type": "markdown",
      "metadata": {
        "id": "view-in-github",
        "colab_type": "text"
      },
      "source": [
        "<a href=\"https://colab.research.google.com/github/kostkalab/mol-evol_notebooks/blob/main/lecture_mol_evol_03_22_2023.ipynb\" target=\"_parent\"><img src=\"https://colab.research.google.com/assets/colab-badge.svg\" alt=\"Open In Colab\"/></a>"
      ]
    },
    {
      "cell_type": "markdown",
      "source": [
        "# Continous time Markov chain (CTMC)\n",
        "\n",
        "Our current model is using discrete time steps, where transition probabilities are defined by the transition matrix $P$:\n",
        "\n",
        "$$\n",
        "\\begin{aligned}\n",
        "&P(X_t = j  | X_{t-1} = i) = P_{ij} &\\text{one step transition}\\\\\n",
        "&P(X_t = j | X_0 = i) = (P)^t_{ij}\\; \\text{with}\\; t=1,2,3,\\ldots &\\text{multi-step transition}\n",
        "\\end{aligned}\n",
        "$$\n",
        "\n",
        "In the following we will generalize this model for continous times.\n",
        "\n",
        "## Rate Matrix $Q$\n",
        "\n",
        "We have seen in the lecture that we can define such a CTM by a ($4\\times 4$) rate matrix (denoted by $Q$), defined as follows:\n",
        "\n",
        "$$\n",
        "\\begin{aligned}\n",
        "\\frac{d}{dt} P(t)_{ij} = \\sum\\nolimits_kP(t)_{ik}Q_{kj} \n",
        "\\end{aligned}\n",
        "$$\n",
        "\n",
        "Or, equivalently, via the matrix exponential as\n",
        "\n",
        "$$\n",
        "P(t) = \\text{expm}\\big(Qt\\big)\n",
        "$$\n",
        "\n",
        "Some important take aways are:\n",
        "\n",
        "- Since $Q$ determines $P(t)$ it governs the substitution process.\n",
        "- $Q$ does not change over time (in our *stationary* models). If we specify $Q$ we have parameterized our model completely.\n",
        "- Therefore, to describe different substitution models, researchers parameterize the rate matrix. \n",
        "- Key quantities of the substitution process follow directly from the rate matrix.\n",
        "\n",
        "**Interpretation of rate matrix entries**\n",
        "\n",
        "- $Q_{ij}\\geq 0 \\; \\text{for} \\; i \\neq j$: How \"quickly\" ($\\rightarrow$ *rate*) does the transition from $i$ to $j$ happen? \"Pressure\" to leave state $i$ for state $j$.\n",
        "- $Q_{ii} \\leq 0$: The \"pressure\" ($\\rightarrow$ *rate*) for transitioning away for state $i$.\n",
        "- The rate of \"going away\" from state $i$ is the sum of the rates of $i$ transitioning into other states $j \\neq i$.\n",
        "$$-Q_{ii} = \\sum\\nolimits_{k\\neq i} Q_{ik} $$\n",
        "\n",
        "Key quantities of the substitution process follow directly from the rate matrix:\n",
        "\n",
        "## Equilibrium distribution\n",
        "\n",
        "At equilibrium, probabilities of sampling a nucleotide (or \"state\") don't change:\n",
        "\n",
        "$$\n",
        "\\sum\\nolimits_k \\pi_k Q_{ki} = \\sum\\nolimits_{k\\neq i}\\pi_k Q_{ki} + \\pi_i Q_{ii} =0\n",
        "$$\n",
        "Where the first term (in the middle expression) is the rate of nucleotides joining state $i$, whereas the second term is the rate of nucleotides leaving state $i$.\n",
        "\n",
        "This means that $\\pi$ is a left eigenvector of $Q$ with eigenvalue zero. That is $Q$ determines equlibrium frequencies (as expected). \n",
        "\n",
        "\n",
        "Since $P(t) = \\text{expm}(Qt) = \\mathbb{1} + \\sum_n \\frac{1}{n!}Q^nt^n$ it follows for the transition probabilities:\n",
        "\n",
        "$$\n",
        "\\sum\\nolimits_k \\pi_k P_{ki} = \\pi_i\n",
        "$$\n",
        "\n",
        "That is because above in the matrix exponential only the $\\mathbb{1}$ contributes, the powers of $Q$ all amount to zero.\n",
        "\n",
        "This means that $\\pi$ is a left eigenvector of $P$ with eigenvalue one, as we already know from the previous lecture.\n",
        "\n",
        "## Expected number of substitutions\n",
        "\n",
        "A key quantity of interest is the expected number of substitutions (for a given choice of the time parameter $t$); for exapmle, think about saturation. Let $n(t)$ the the number of stubsitutions that occur until time $t$. Importantly, this includes \"back-substitutions\" of the type $i\\rightarrow j \\rightarrow i$ that would not be observed in measures of sequence divergence ($\\rightarrow$ *saturation*). From the rate matrix we get directly\n",
        "\n",
        "$$\n",
        "E[n(t)] = -\\sum_k \\pi_k Q_{kk} t\n",
        "$$\n",
        "\n",
        "Where $E[\\;]$ denotes the expectation. You can think about it as \"running\" many processes (which all may have different numbers of (unobserved) substitutions) and then taking the avarage. \n",
        "\n",
        "We see that $E[n(t)]$ is a linear function of $t$.\n",
        "\n",
        "To see how the formula comes along, assume that the time interval $[0,t]$ is divided into $n$ equal-size sub-intervals of size $t/m$:\n",
        "```\n",
        "|-----------------------|---> time\n",
        "0                       t\n",
        "\n",
        "|-|-|-|...--------------|---> time\n",
        "0 t                     t\n",
        "  -\n",
        "  m\n",
        "```\n",
        "\n",
        "Then for each small interval the transition matrix is $P(t/n)$ and we can approximate it for small $t/n$ with the Taylor expansion:\n",
        "$$\n",
        "\\begin{aligned}\n",
        "P(t/m)_{ij} &= \\mathbb{1}_{ij} + \\frac{d}{dt}P(t)_{ij}\\big|_{t=0}  \\frac{t}{m} + \\mathcal{o}(t^2/m^2) \\\\\n",
        "&= \\mathbb{1}_{ij} + Q_{ij}\\frac{t}{m}\n",
        "\\end{aligned}\n",
        "$$\n",
        "So that for each small intervall the probability of observing a substitution (i.e., $i\\neq j$) is $Q_{ij}\\frac{t}{m}$. Phrasing that in terms of the number of substitutions $n$ we have for each small interval:\n",
        "$$\n",
        "\\text{Pr}_{t/m}[n_{i\\rightarrow j}=1] = \\pi_i Q_{ij}\\frac{t}{m}\n",
        "$$\n",
        "And we can sum up over substitution types:\n",
        "$$\n",
        "\\begin{aligned}\n",
        "\\text{Pr}_{t/m}[n_{i\\rightarrow} = 1] &=\\sum\\nolimits_j \\pi_i Q_{ij} \\frac{t}{m}\\\\\n",
        "&= -\\pi_i Q_{ii}\\frac{t}{n} \\\\\n",
        "\\text{Pr}_{t/m}[n= 1] &=- \\sum\\nolimits_i\\pi_iQ_{ii} \\frac{t}{m}\n",
        "\\end{aligned}\n",
        "$$\n",
        "And for the expecteation of $n$ over the whole time period $t$ we get\n",
        "$$\n",
        "\\begin{aligned}\n",
        "E[n(t)] &= \\sum_n n \\text{Pr}(n)\\\\\n",
        " &\\approx \\sum_{k=1}^m \\text{Pr}_{t/m}[n=1]\\cdot 1 \\\\\n",
        " &= -m \\sum\\nolimits_i\\pi_i Q_{ii} \\frac{t}{m} \\\\\n",
        " &= -\\sum\\nolimits_i\\pi_i Q_{ii}t\n",
        "\\end{aligned}\n",
        "$$\n",
        "\n",
        "**Scaling of the substitution matrix for unit time**\n",
        "\n",
        "We see from the equation above that multiplying $Q$ by a constant changes substitution rates (for the same $%$). Equivalently, only the product $Qt$ does have meaning. Therefore, $Q$ can be normalized such that $t$ directly indicates the expected number of substitutions by setting that for $t=1$:\n",
        "\n",
        "$$\n",
        "-\\sum_k \\pi_k Q_{kk} = 1\n",
        "$$\n",
        "\n",
        "\n",
        "## Time reversibility\n",
        "\n",
        "Time reversible models are a subclass of substitution models we discussed. For these models \"time works the same in both directions\". Specifically, that means that:\n",
        "\n",
        "$$\n",
        "\\pi_iP(t)_{ij} = \\pi_jP(t)_{ji}\n",
        "$$\n",
        "\n",
        "The probability of bein in $i$ and going from $i$ to $j$ (say, forward in time) is the same as the probability of being in $j$ and going from $j$ to $i$ (say, backward in time). The same holds for the rate matrices:\n",
        "\n",
        "$$\n",
        "\\pi_i Q_{ij} = \\pi_j Q_{ji}\n",
        "$$\n",
        "\n",
        "From which then the equation involving transition probabilities follows. For time reversible models the following are equivalent:\n",
        "\n",
        "$$\n",
        "\\begin{aligned}\n",
        "\\sum\\nolimits_k \\pi_k P(t1)_{ki} P(t_2)_{kj} & =  \\sum\\nolimits_k \\pi_i P_{ik}(t_i)P_{kj}(t_2) \\\\\n",
        "&= \\pi_i P(t_1+t_2)_{ij} \\\\\n",
        "&= \\pi_j P(t_1+t_2)_{ji} \n",
        "\\end{aligned}\n",
        "$$\n",
        "\n",
        "This is the reason the likelihood in our example from last lecture was not well determined and we could only see the correct sum of time steps, but not determine $t_1$ and $t_2$ individually.\n",
        "\n",
        "## Parameterization of the rate matarix\n",
        "\n",
        "A commonly used parameterization for all time-reversible models for the rate matrix is\n",
        "\n",
        "$$\n",
        "Q = \\left(\\begin{array}{cccc}\n",
        "-         & a \\,\\pi_c& b \\,\\pi_g & c \\,\\pi_t\\\\\n",
        "a \\,\\pi_a & -        & d \\,\\pi_g & e \\,\\pi_t\\\\\n",
        "b \\,\\pi_a & d \\,\\pi_c& -         & f \\,\\pi_t\\\\\n",
        "c \\,\\pi_a & e \\,\\pi_c& f \\,\\pi_g & - \\\\\n",
        "\\end{array}\\right)\n",
        "$$\n",
        "\n",
        "Where the exchangeability parameters $\\{a,b,c,d,e\\}$ are non-negative and scaled such that $\\sum_i \\pi_i Q_{ii} = 1$ (see above).\n",
        "\n",
        "Note, this parameterization answers our previous question of how to design a process where the equilibrium frequencies are different from q all being $1/4$. \n",
        "\n",
        "Some parameterization of the rate matrix have names. The above (most general one) is called **g**eneral **t**ime **r**eversible model (GTR). \n",
        "\n",
        "- Jukes Cantor model:\n",
        "  $$\n",
        "  \\begin{aligned}\n",
        "  a=b=c=d=e=f=:\\mu\\\\\n",
        "  \\pi_a = \\pi_c = \\pi_g = \\pi_t = 1/4\n",
        "  \\end{aligned}\n",
        "  $$\n",
        "  And we can fix $\\mu$ by scaling $Q$ such that $E[n(t=1)] =1$:\n",
        "  $$\n",
        "  \\frac{3}{4}\\mu \\,4 = 1 \\;{\\leftrightarrow} \\; \\mu = \\frac{1}{3}\n",
        "  $$\n",
        "  So that we get\n",
        "  $$\n",
        "  Q_{i\\neq j} = \\frac{1}{12}\n",
        "  $$\n",
        "  And there is no free parameter in the substitution matrix, just the time $t$.\n",
        "- Two parameter model: Distinguish \n",
        "  - Transversions: $Q_{AC} = Q_{CA}= Q_{AT} = Q_{TA} = Q_{CG} = Q_{GC} = Q_{GT} = Q_{TG} = a$\n",
        "  - Transitions: $Q_{AG}=Q_{GA}=Q_{CT}= Q_{TC} = b$\n",
        "  \n",
        "  From scaling we get:\n",
        "  - $a \\in [0, \\frac{1}{8}]$\n",
        "  - $b = \\frac{1}{4} - 2a \\; \\in \\; [0, \\frac{1}{4}]$\n",
        " \n",
        " And for equilibrium frequencies we get $\\pi_i = 1/4$"
      ],
      "metadata": {
        "id": "MldtAHA2Vtrn"
      }
    },
    {
      "cell_type": "markdown",
      "source": [
        "# Simulating alignments with `rphast`\n",
        "\n",
        "The `rphast` package provides functionality for simulating alignments and performing maximum likelihood estimation of substitution model parameters (amongst other things).\n"
      ],
      "metadata": {
        "id": "E8e_htGTptHg"
      }
    },
    {
      "cell_type": "markdown",
      "source": [
        "## First, we install the rphast package:"
      ],
      "metadata": {
        "id": "jmAGtA9QquS-"
      }
    },
    {
      "cell_type": "code",
      "source": [
        "devtools::install_github(\"CshlSiepelLab/RPHAST\")\n",
        "library(rphast)"
      ],
      "metadata": {
        "colab": {
          "base_uri": "https://localhost:8080/"
        },
        "id": "NZpRWaQtqC34",
        "outputId": "41434be8-7751-42a3-c148-3df5f8aead68"
      },
      "execution_count": null,
      "outputs": [
        {
          "output_type": "stream",
          "name": "stderr",
          "text": [
            "Downloading GitHub repo CshlSiepelLab/RPHAST@HEAD\n",
            "\n"
          ]
        },
        {
          "output_type": "stream",
          "name": "stdout",
          "text": [
            "\u001b[36m──\u001b[39m \u001b[36mR CMD build\u001b[39m \u001b[36m─────────────────────────────────────────────────────────────────\u001b[39m\n",
            "* checking for file ‘/tmp/RtmpUMGUuF/remotes8a4e738ba8/CshlSiepelLab-RPHAST-2b68f4c/DESCRIPTION’ ... OK\n",
            "* preparing ‘rphast’:\n",
            "* checking DESCRIPTION meta-information ... OK\n",
            "* cleaning src\n",
            "* running ‘cleanup’\n",
            "* checking vignette meta-information ... OK\n",
            "* checking for LF line-endings in source and make files and shell scripts\n",
            "* checking for empty or unneeded directories\n",
            "* building ‘rphast_1.6.11.tar.gz’\n",
            "\n"
          ]
        },
        {
          "output_type": "stream",
          "name": "stderr",
          "text": [
            "Installing package into ‘/usr/local/lib/R/site-library’\n",
            "(as ‘lib’ is unspecified)\n",
            "\n"
          ]
        }
      ]
    },
    {
      "cell_type": "markdown",
      "source": [
        "## Estimating branch lengths on a species tree\n",
        "\n",
        "We download an actual, fitted nucleotide substitution model from the UCSC genome browser:"
      ],
      "metadata": {
        "id": "Nmm4JOqgqyMk"
      }
    },
    {
      "cell_type": "code",
      "source": [
        "modfilename=\"http://hgdownload.soe.ucsc.edu/goldenPath/hg38/phastCons7way/hg38.phastCons7way.mod\"\n",
        "download.file(url=modfilename,destfile=\"./7way.mod\")\n",
        "mod = read.tm(\"./7way.mod\") # <<- mod contains tree-model (tm)\n",
        "print(mod)"
      ],
      "metadata": {
        "id": "JkHj4BA_ryvD",
        "outputId": "cf2c4bac-daf8-4d71-c845-d89b9e6c4526",
        "colab": {
          "base_uri": "https://localhost:8080/"
        }
      },
      "execution_count": null,
      "outputs": [
        {
          "output_type": "stream",
          "name": "stdout",
          "text": [
            "ALPHABET: A C G T \n",
            "ORDER: 0\n",
            "SUBST_MOD: REV\n",
            "TRAINING_LNL: -16383708.873581\n",
            "BACKGROUND: 0.211867 0.322407 0.234085 0.231641 \n",
            "RATE_MAT:\n",
            "  -1.104985    0.272548    0.597439    0.234998 \n",
            "   0.179103   -0.867492    0.187269    0.501120 \n",
            "   0.540735    0.257927   -0.986406    0.187744 \n",
            "   0.214939    0.697481    0.189725   -1.102144 \n",
            "TREE: (((((hg38:0.00673596,panTro4:0.00686169):0.0248146,rheMac3:0.0357598):0.0970072,(mm10:0.081661,rn5:0.0874126):0.246527):0.0264964,canFam3:0.156769):0.303241,monDom5:0.303241);\n"
          ]
        }
      ]
    },
    {
      "cell_type": "markdown",
      "source": [
        "We can visualize the rate matrix:"
      ],
      "metadata": {
        "id": "djTtqfCvuTUq"
      }
    },
    {
      "cell_type": "code",
      "source": [
        "plot(mod)"
      ],
      "metadata": {
        "id": "xviYeXXStKFa",
        "outputId": "36b34f34-14dc-422c-db44-4dce0301eb0e",
        "colab": {
          "base_uri": "https://localhost:8080/",
          "height": 437
        }
      },
      "execution_count": null,
      "outputs": [
        {
          "output_type": "display_data",
          "data": {
            "text/plain": [
              "plot without title"
            ],
            "image/png": "[encoded data removed]"
          },
          "metadata": {
            "image/png": {
              "width": 420,
              "height": 420
            }
          }
        }
      ]
    },
    {
      "cell_type": "markdown",
      "source": [
        "We can visualize the species tree:"
      ],
      "metadata": {
        "id": "5zb-NTxguam8"
      }
    },
    {
      "cell_type": "code",
      "source": [
        "install.packages('ade4')\n",
        "plot(ade4::newick2phylog(mod$tree))"
      ],
      "metadata": {
        "id": "5txKRcuDtSdU",
        "outputId": "9bc7b0fc-32a9-41fe-df16-d8e3929c3bd9",
        "colab": {
          "base_uri": "https://localhost:8080/",
          "height": 541
        }
      },
      "execution_count": null,
      "outputs": [
        {
          "output_type": "stream",
          "name": "stderr",
          "text": [
            "Installing package into ‘/usr/local/lib/R/site-library’\n",
            "(as ‘lib’ is unspecified)\n",
            "\n",
            "also installing the dependencies ‘pixmap’, ‘sp’, ‘RcppArmadillo’\n",
            "\n",
            "\n"
          ]
        },
        {
          "output_type": "display_data",
          "data": {
            "text/plain": [
              "plot without title"
            ],
            "image/png": "[encoded data removed]"
          },
          "metadata": {
            "image/png": {
              "width": 420,
              "height": 420
            }
          }
        }
      ]
    },
    {
      "cell_type": "markdown",
      "source": [
        "We can extract the human branch length from the (fitted) model:"
      ],
      "metadata": {
        "id": "eGtb5HkguMOY"
      }
    },
    {
      "cell_type": "code",
      "source": [
        "mod$tree |> summary.tree()                 |> \n",
        "             dplyr::filter(name == \"hg38\") |> \n",
        "             dplyr::select(tparent)"
      ],
      "metadata": {
        "id": "c1u3lfZst6Pd",
        "outputId": "409020a3-69ac-4281-ed26-3792daa8be64",
        "colab": {
          "base_uri": "https://localhost:8080/",
          "height": 147
        }
      },
      "execution_count": null,
      "outputs": [
        {
          "output_type": "display_data",
          "data": {
            "text/html": [
              "<table class=\"dataframe\">\n",
              "<caption>A data.frame: 1 × 1</caption>\n",
              "<thead>\n",
              "\t<tr><th scope=col>tparent</th></tr>\n",
              "\t<tr><th scope=col>&lt;dbl&gt;</th></tr>\n",
              "</thead>\n",
              "<tbody>\n",
              "\t<tr><td>0.00673596</td></tr>\n",
              "</tbody>\n",
              "</table>\n"
            ],
            "text/markdown": "\nA data.frame: 1 × 1\n\n| tparent &lt;dbl&gt; |\n|---|\n| 0.00673596 |\n\n",
            "text/latex": "A data.frame: 1 × 1\n\\begin{tabular}{l}\n tparent\\\\\n <dbl>\\\\\n\\hline\n\t 0.00673596\\\\\n\\end{tabular}\n",
            "text/plain": [
              "  tparent   \n",
              "1 0.00673596"
            ]
          },
          "metadata": {}
        }
      ]
    },
    {
      "cell_type": "markdown",
      "source": [
        "We will now perform the following experiment:\n",
        "\n",
        "1) Sample alignment of length $l$ from the model we downloaded (after pruning it to contain only primates and rodents)\n",
        "\n",
        "2) Fit a maximum likelihood GTR model to re-estimate parameters (we know the truth)\n",
        "\n",
        "3) Extract the estimated human branchlength\n",
        "\n",
        "We will do that many times and visualize the distribution of estimated branch lengths."
      ],
      "metadata": {
        "id": "z5YgGZw2ujjz"
      }
    },
    {
      "cell_type": "code",
      "source": [
        "#- pruning step\n",
        "p_mod = mod; p_mod$tree = prune.tree(p_mod$tree,seqs=c(\"canFam3\",\"monDom5\"))\n",
        "plot(ade4::newick2phylog(p_mod$tree))\n",
        "\n"
      ],
      "metadata": {
        "id": "uB9HuFIHve0l",
        "outputId": "26cba1a3-7fbf-49e4-d8b8-313055032bc9",
        "colab": {
          "base_uri": "https://localhost:8080/",
          "height": 437
        }
      },
      "execution_count": null,
      "outputs": [
        {
          "output_type": "display_data",
          "data": {
            "text/plain": [
              "plot without title"
            ],
            "image/png": "[encoded data removed]"
          },
          "metadata": {
            "image/png": {
              "width": 420,
              "height": 420
            }
          }
        }
      ]
    },
    {
      "cell_type": "code",
      "source": [
        "#- simulate alignment (of length 55)\n",
        "sim.msa = simulate.msa(p_mod, nsim=55)\n",
        "print(sim.msa$seq)"
      ],
      "metadata": {
        "id": "k-OUtLv5vt3u",
        "outputId": "3bd0609f-8501-49b8-b157-0bec85959d12",
        "colab": {
          "base_uri": "https://localhost:8080/"
        }
      },
      "execution_count": null,
      "outputs": [
        {
          "output_type": "stream",
          "name": "stdout",
          "text": [
            "[1] \"CACAGTGATTTTGCCGAAGGCGAATCGACGCACCCGTTGTGAATTCACCACAACC\"\n",
            "[2] \"CACAGTGATTTTGCCGAAGGCAAATCGACGCACCCGTTGTGAATTCACCACAACC\"\n",
            "[3] \"CACAGTGATTTTGCCGAAGGCAAATCGACGCACCCATCGGGAATTCACCACAACC\"\n",
            "[4] \"CACACTGCTTTTGCCGGTGGCAGGCTCAAGCTCCCATTGCAGATTAACCACAACC\"\n",
            "[5] \"CACTCTGATTTTGCCGAAGGCAGGCTCAAGCTCCCGTCGCGGATTAACGACAACC\"\n"
          ]
        }
      ]
    },
    {
      "cell_type": "code",
      "source": [
        "#- re-fit the model\n",
        "f_mod = phyloFit(sim.msa,tree=p_mod$tree) \n",
        "f_mod"
      ],
      "metadata": {
        "id": "U6i4LuhOv06g",
        "outputId": "01b05b26-6168-413d-db16-6056be1a3937",
        "colab": {
          "base_uri": "https://localhost:8080/",
          "height": 208
        }
      },
      "execution_count": null,
      "outputs": [
        {
          "output_type": "display_data",
          "data": {
            "text/plain": [
              "ALPHABET: A C G T \n",
              "ORDER: 0\n",
              "SUBST_MOD: REV\n",
              "TRAINING_LNL: -168.004910\n",
              "BACKGROUND: 0.269091 0.323636 0.210909 0.196364 \n",
              "RATE_MAT:\n",
              "  -1.155351    0.210896    0.702716    0.241739 \n",
              "   0.175351   -0.696960    0.193952    0.327656 \n",
              "   0.896569    0.297617   -1.290407    0.096222 \n",
              "   0.331272    0.540026    0.103350   -0.974648 \n",
              "TREE: (((hg38:0.0182545,panTro4:1.74722e-16):4.36806e-17,rheMac3:0.0576949):0.127805,(mm10:0.101114,rn5:0.0605645):0.127805);"
            ]
          },
          "metadata": {}
        }
      ]
    },
    {
      "cell_type": "code",
      "source": [
        "#- extract human branch length\n",
        "bl <- f_mod$tree                    |> \n",
        "      summary.tree()                |> \n",
        "      dplyr::filter(name == \"hg38\") |> \n",
        "      dplyr::select(tparent)\n",
        "\n",
        "print(bl)"
      ],
      "metadata": {
        "id": "HxXOfzv6v7Rt",
        "outputId": "e064403a-a146-40ff-c772-16d42e3c45c8",
        "colab": {
          "base_uri": "https://localhost:8080/"
        }
      },
      "execution_count": null,
      "outputs": [
        {
          "output_type": "stream",
          "name": "stdout",
          "text": [
            "    tparent\n",
            "1 0.0182545\n"
          ]
        }
      ]
    },
    {
      "cell_type": "markdown",
      "source": [
        "Now we put this together into a convenient function and perform our experiment:"
      ],
      "metadata": {
        "id": "trrH2xTcwcGT"
      }
    },
    {
      "cell_type": "code",
      "source": [
        "#- function for simulating an alignment\n",
        "#  and extracting the human branch length\n",
        "getTime <- function(alen){   \n",
        "  #- simulate alignment\n",
        "  ma = simulate.msa(p_mod,nsim=alen)  \n",
        "  #- re-fit model\n",
        "  md = phyloFit(ma,tree=p_mod$tree) \n",
        "  #- grab a parameer of interst (could keep all!)\n",
        "  st <- summary.tree(md$tree)\n",
        "  return(st[which(st$name == \"hg38\"), \"tparent\"])}\n",
        "\n",
        "#- get 100 estimates for each alignment length\n",
        "t100   <- replicate(100, getTime(100))\n",
        "t1000  <- replicate(100, getTime(1000))\n",
        "t10000 <- replicate(100, getTime(10000))\n",
        "boxplot(cbind(t100, t1000, t10000), ylab = \"human branch length (estimated)\")\n",
        "grid()\n",
        "abline(h = 0.00673596, col=\"red\", lwd=3)"
      ],
      "metadata": {
        "id": "76PE2_hFwnfH",
        "outputId": "9357febe-6636-42da-ead9-69745c8fa983",
        "colab": {
          "base_uri": "https://localhost:8080/",
          "height": 437
        }
      },
      "execution_count": null,
      "outputs": [
        {
          "output_type": "display_data",
          "data": {
            "text/plain": [
              "plot without title"
            ],
            "image/png": "[encoded data removed]"
          },
          "metadata": {
            "image/png": {
              "width": 420,
              "height": 420
            }
          }
        }
      ]
    },
    {
      "cell_type": "markdown",
      "source": [
        "There are better ways to plot this result:"
      ],
      "metadata": {
        "id": "GY1CkcJW1dix"
      }
    },
    {
      "cell_type": "code",
      "source": [
        "library(ggplot2)\n",
        "install.packages('ggbeeswarm')\n",
        "library(ggbeeswarm)"
      ],
      "metadata": {
        "id": "UYRn964RzHD9",
        "outputId": "c5d5a4d2-3636-4bfe-ab41-66e3d047d1f7",
        "colab": {
          "base_uri": "https://localhost:8080/"
        }
      },
      "execution_count": null,
      "outputs": [
        {
          "output_type": "stream",
          "name": "stderr",
          "text": [
            "Installing package into ‘/usr/local/lib/R/site-library’\n",
            "(as ‘lib’ is unspecified)\n",
            "\n",
            "also installing the dependencies ‘beeswarm’, ‘vipor’\n",
            "\n",
            "\n"
          ]
        }
      ]
    },
    {
      "cell_type": "code",
      "source": [
        "df = data.frame(t100, t1000, t10000)\n",
        "df |> head()\n",
        "df <- df |> tidyr::pivot_longer(everything() ,names_to = 'length', values_to = 'time')\n",
        "df |> head()\n",
        "ggplot(df, aes(x=length, y=time)) + geom_beeswarm() + theme_minimal()"
      ],
      "metadata": {
        "id": "y1eW79pwzIzn",
        "outputId": "17257385-6da2-4059-eb06-9ed471bcc911",
        "colab": {
          "base_uri": "https://localhost:8080/",
          "height": 975
        }
      },
      "execution_count": null,
      "outputs": [
        {
          "output_type": "display_data",
          "data": {
            "text/html": [
              "<table class=\"dataframe\">\n",
              "<caption>A data.frame: 6 × 3</caption>\n",
              "<thead>\n",
              "\t<tr><th></th><th scope=col>t100</th><th scope=col>t1000</th><th scope=col>t10000</th></tr>\n",
              "\t<tr><th></th><th scope=col>&lt;dbl&gt;</th><th scope=col>&lt;dbl&gt;</th><th scope=col>&lt;dbl&gt;</th></tr>\n",
              "</thead>\n",
              "<tbody>\n",
              "\t<tr><th scope=row>1</th><td>1.65481e-16</td><td>0.00208314</td><td>0.00484479</td></tr>\n",
              "\t<tr><th scope=row>2</th><td>1.01833e-02</td><td>0.00600927</td><td>0.00671983</td></tr>\n",
              "\t<tr><th scope=row>3</th><td>2.02862e-16</td><td>0.00390576</td><td>0.00714724</td></tr>\n",
              "\t<tr><th scope=row>4</th><td>2.02918e-02</td><td>0.00172809</td><td>0.00704369</td></tr>\n",
              "\t<tr><th scope=row>5</th><td>1.05455e-02</td><td>0.00407150</td><td>0.00648244</td></tr>\n",
              "\t<tr><th scope=row>6</th><td>3.04726e-02</td><td>0.00695047</td><td>0.00727629</td></tr>\n",
              "</tbody>\n",
              "</table>\n"
            ],
            "text/markdown": "\nA data.frame: 6 × 3\n\n| <!--/--> | t100 &lt;dbl&gt; | t1000 &lt;dbl&gt; | t10000 &lt;dbl&gt; |\n|---|---|---|---|\n| 1 | 1.65481e-16 | 0.00208314 | 0.00484479 |\n| 2 | 1.01833e-02 | 0.00600927 | 0.00671983 |\n| 3 | 2.02862e-16 | 0.00390576 | 0.00714724 |\n| 4 | 2.02918e-02 | 0.00172809 | 0.00704369 |\n| 5 | 1.05455e-02 | 0.00407150 | 0.00648244 |\n| 6 | 3.04726e-02 | 0.00695047 | 0.00727629 |\n\n",
            "text/latex": "A data.frame: 6 × 3\n\\begin{tabular}{r|lll}\n  & t100 & t1000 & t10000\\\\\n  & <dbl> & <dbl> & <dbl>\\\\\n\\hline\n\t1 & 1.65481e-16 & 0.00208314 & 0.00484479\\\\\n\t2 & 1.01833e-02 & 0.00600927 & 0.00671983\\\\\n\t3 & 2.02862e-16 & 0.00390576 & 0.00714724\\\\\n\t4 & 2.02918e-02 & 0.00172809 & 0.00704369\\\\\n\t5 & 1.05455e-02 & 0.00407150 & 0.00648244\\\\\n\t6 & 3.04726e-02 & 0.00695047 & 0.00727629\\\\\n\\end{tabular}\n",
            "text/plain": [
              "  t100        t1000      t10000    \n",
              "1 1.65481e-16 0.00208314 0.00484479\n",
              "2 1.01833e-02 0.00600927 0.00671983\n",
              "3 2.02862e-16 0.00390576 0.00714724\n",
              "4 2.02918e-02 0.00172809 0.00704369\n",
              "5 1.05455e-02 0.00407150 0.00648244\n",
              "6 3.04726e-02 0.00695047 0.00727629"
            ]
          },
          "metadata": {}
        },
        {
          "output_type": "display_data",
          "data": {
            "text/html": [
              "<table class=\"dataframe\">\n",
              "<caption>A tibble: 6 × 2</caption>\n",
              "<thead>\n",
              "\t<tr><th scope=col>length</th><th scope=col>time</th></tr>\n",
              "\t<tr><th scope=col>&lt;chr&gt;</th><th scope=col>&lt;dbl&gt;</th></tr>\n",
              "</thead>\n",
              "<tbody>\n",
              "\t<tr><td>t100  </td><td>1.65481e-16</td></tr>\n",
              "\t<tr><td>t1000 </td><td>2.08314e-03</td></tr>\n",
              "\t<tr><td>t10000</td><td>4.84479e-03</td></tr>\n",
              "\t<tr><td>t100  </td><td>1.01833e-02</td></tr>\n",
              "\t<tr><td>t1000 </td><td>6.00927e-03</td></tr>\n",
              "\t<tr><td>t10000</td><td>6.71983e-03</td></tr>\n",
              "</tbody>\n",
              "</table>\n"
            ],
            "text/markdown": "\nA tibble: 6 × 2\n\n| length &lt;chr&gt; | time &lt;dbl&gt; |\n|---|---|\n| t100   | 1.65481e-16 |\n| t1000  | 2.08314e-03 |\n| t10000 | 4.84479e-03 |\n| t100   | 1.01833e-02 |\n| t1000  | 6.00927e-03 |\n| t10000 | 6.71983e-03 |\n\n",
            "text/latex": "A tibble: 6 × 2\n\\begin{tabular}{ll}\n length & time\\\\\n <chr> & <dbl>\\\\\n\\hline\n\t t100   & 1.65481e-16\\\\\n\t t1000  & 2.08314e-03\\\\\n\t t10000 & 4.84479e-03\\\\\n\t t100   & 1.01833e-02\\\\\n\t t1000  & 6.00927e-03\\\\\n\t t10000 & 6.71983e-03\\\\\n\\end{tabular}\n",
            "text/plain": [
              "  length time       \n",
              "1 t100   1.65481e-16\n",
              "2 t1000  2.08314e-03\n",
              "3 t10000 4.84479e-03\n",
              "4 t100   1.01833e-02\n",
              "5 t1000  6.00927e-03\n",
              "6 t10000 6.71983e-03"
            ]
          },
          "metadata": {}
        },
        {
          "output_type": "display_data",
          "data": {
            "text/plain": [
              "plot without title"
            ],
            "image/png": "[encoded data removed]"
          },
          "metadata": {
            "image/png": {
              "width": 420,
              "height": 420
            }
          }
        }
      ]
    },
    {
      "cell_type": "code",
      "source": [],
      "metadata": {
        "id": "D7KXON-azjwX"
      },
      "execution_count": null,
      "outputs": []
    }
  ]
}